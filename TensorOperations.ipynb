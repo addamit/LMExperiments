{
  "nbformat": 4,
  "nbformat_minor": 0,
  "metadata": {
    "colab": {
      "provenance": [],
      "authorship_tag": "ABX9TyOoSCJ42BA/Ew47E5nIkZyW",
      "include_colab_link": true
    },
    "kernelspec": {
      "name": "python3",
      "display_name": "Python 3"
    },
    "language_info": {
      "name": "python"
    }
  },
  "cells": [
    {
      "cell_type": "markdown",
      "metadata": {
        "id": "view-in-github",
        "colab_type": "text"
      },
      "source": [
        "<a href=\"https://colab.research.google.com/github/addamit/LMExperiments/blob/main/TensorOperations.ipynb\" target=\"_parent\"><img src=\"https://colab.research.google.com/assets/colab-badge.svg\" alt=\"Open In Colab\"/></a>"
      ]
    },
    {
      "cell_type": "code",
      "execution_count": 1,
      "metadata": {
        "id": "MKuRDFg07oic"
      },
      "outputs": [],
      "source": [
        "import torch"
      ]
    },
    {
      "cell_type": "code",
      "source": [
        "# View Operations\n",
        "x = torch.randn(4, 6)\n",
        "x.view(2, 12)\n"
      ],
      "metadata": {
        "colab": {
          "base_uri": "https://localhost:8080/"
        },
        "id": "vJ0jQSFz7z97",
        "outputId": "053aca6d-7765-41b3-bd9c-4c0cf86e5907"
      },
      "execution_count": 2,
      "outputs": [
        {
          "output_type": "execute_result",
          "data": {
            "text/plain": [
              "tensor([[ 1.9171, -0.3509,  0.7705, -0.9461,  0.2719,  0.5838,  1.1195, -1.2578,\n",
              "         -0.9838,  0.2300,  0.9237,  0.0612],\n",
              "        [-0.7096,  1.6347,  0.3812,  1.9932,  0.6437,  0.0686,  0.0389, -0.2757,\n",
              "         -1.0571, -0.5585, -0.0932, -0.5617]])"
            ]
          },
          "metadata": {},
          "execution_count": 2
        }
      ]
    },
    {
      "cell_type": "code",
      "source": [
        "x.reshape(2, 12)"
      ],
      "metadata": {
        "colab": {
          "base_uri": "https://localhost:8080/"
        },
        "id": "d1HA9dpL9S40",
        "outputId": "739275bf-16e3-4c4f-bf47-65cfe506d213"
      },
      "execution_count": 3,
      "outputs": [
        {
          "output_type": "execute_result",
          "data": {
            "text/plain": [
              "tensor([[ 1.9171, -0.3509,  0.7705, -0.9461,  0.2719,  0.5838,  1.1195, -1.2578,\n",
              "         -0.9838,  0.2300,  0.9237,  0.0612],\n",
              "        [-0.7096,  1.6347,  0.3812,  1.9932,  0.6437,  0.0686,  0.0389, -0.2757,\n",
              "         -1.0571, -0.5585, -0.0932, -0.5617]])"
            ]
          },
          "metadata": {},
          "execution_count": 3
        }
      ]
    },
    {
      "cell_type": "code",
      "source": [
        "\n",
        "# squeeze and unsqueeze to add or remove dimensions\n",
        "# The squeeze operation removes dimensions of size 1 from a tensor.\n",
        "# This means if a tensor has a dimension with only one element,\n",
        "# the squeeze operation will eliminate that dimension."
      ],
      "metadata": {
        "id": "sOOj5lfs9XSE"
      },
      "execution_count": 20,
      "outputs": []
    },
    {
      "cell_type": "code",
      "source": [
        "x = torch.randn(1,2)\n",
        "x.shape"
      ],
      "metadata": {
        "colab": {
          "base_uri": "https://localhost:8080/"
        },
        "id": "iZ8iOWOt9fYi",
        "outputId": "a3e10add-814a-4cb6-bccb-85498a64a135"
      },
      "execution_count": 22,
      "outputs": [
        {
          "output_type": "execute_result",
          "data": {
            "text/plain": [
              "torch.Size([1, 2])"
            ]
          },
          "metadata": {},
          "execution_count": 22
        }
      ]
    },
    {
      "cell_type": "code",
      "source": [
        "x_out = x.squeeze()\n",
        "x_out"
      ],
      "metadata": {
        "colab": {
          "base_uri": "https://localhost:8080/"
        },
        "id": "6qpyI-gR9uKl",
        "outputId": "f449e25b-52a6-4d8c-d55f-45d03ee4d516"
      },
      "execution_count": 23,
      "outputs": [
        {
          "output_type": "execute_result",
          "data": {
            "text/plain": [
              "tensor([-1.0051,  1.0922])"
            ]
          },
          "metadata": {},
          "execution_count": 23
        }
      ]
    },
    {
      "cell_type": "code",
      "source": [
        "x_out.shape"
      ],
      "metadata": {
        "colab": {
          "base_uri": "https://localhost:8080/"
        },
        "id": "SEkzpkjV-pBn",
        "outputId": "3b81a133-5f4d-4482-dac2-8124f4321050"
      },
      "execution_count": 24,
      "outputs": [
        {
          "output_type": "execute_result",
          "data": {
            "text/plain": [
              "torch.Size([2])"
            ]
          },
          "metadata": {},
          "execution_count": 24
        }
      ]
    },
    {
      "cell_type": "code",
      "source": [
        "x = torch.randn(3,2)\n",
        "x.shape\n"
      ],
      "metadata": {
        "colab": {
          "base_uri": "https://localhost:8080/"
        },
        "id": "x-JNGfgm_KyS",
        "outputId": "74d717fa-6f34-4252-aa59-b88c599b5ad9"
      },
      "execution_count": 25,
      "outputs": [
        {
          "output_type": "execute_result",
          "data": {
            "text/plain": [
              "torch.Size([3, 2])"
            ]
          },
          "metadata": {},
          "execution_count": 25
        }
      ]
    },
    {
      "cell_type": "code",
      "source": [
        "# nothing happens if there are no dimensions of size 1.\n",
        "x.squeeze().shape"
      ],
      "metadata": {
        "colab": {
          "base_uri": "https://localhost:8080/"
        },
        "id": "Pggh8F3z_OwH",
        "outputId": "efb7d65f-ff3b-40f4-c3f4-b70bcf28b398"
      },
      "execution_count": 29,
      "outputs": [
        {
          "output_type": "execute_result",
          "data": {
            "text/plain": [
              "torch.Size([3, 2])"
            ]
          },
          "metadata": {},
          "execution_count": 29
        }
      ]
    },
    {
      "cell_type": "code",
      "source": [
        "\n",
        "x = torch.randn(1, 3, 1, 5)\n",
        "y = x.squeeze()  # Shape becomes (3, 5)\n",
        "print(y.shape)\n",
        "y = x.squeeze(0)  # Shape becomes (3, 1, 5)\n",
        "print (y.shape)"
      ],
      "metadata": {
        "colab": {
          "base_uri": "https://localhost:8080/"
        },
        "id": "N3MoYA4j_se6",
        "outputId": "f81e5bc5-8f7e-4e1f-c1e4-ff315c4b54d1"
      },
      "execution_count": 30,
      "outputs": [
        {
          "output_type": "stream",
          "name": "stdout",
          "text": [
            "torch.Size([3, 5])\n",
            "torch.Size([3, 1, 5])\n"
          ]
        }
      ]
    },
    {
      "cell_type": "code",
      "source": [
        "# The unsqueeze operation adds a dimension of size 1 to a tensor at a specified position.\n",
        "# It essentially inserts a new dimension into the tensor's shape.\n"
      ],
      "metadata": {
        "id": "ci3oUNAq_2Kd"
      },
      "execution_count": 31,
      "outputs": []
    },
    {
      "cell_type": "code",
      "source": [
        "x = torch.tensor([1])\n",
        "y = x.unsqueeze(0) # will become (1, 1)\n",
        "print (y.shape)\n",
        "print (x)"
      ],
      "metadata": {
        "colab": {
          "base_uri": "https://localhost:8080/"
        },
        "id": "YWNA1sqfADY9",
        "outputId": "922de057-40ac-4ddb-9729-847e9e82a57e"
      },
      "execution_count": 34,
      "outputs": [
        {
          "output_type": "stream",
          "name": "stdout",
          "text": [
            "torch.Size([1, 1])\n",
            "tensor([1])\n"
          ]
        }
      ]
    },
    {
      "cell_type": "code",
      "source": [
        "x = torch.randn(3, 5)\n",
        "y = x.unsqueeze(0) # shape becomes (1, 3, 5)\n",
        "y.shape\n"
      ],
      "metadata": {
        "colab": {
          "base_uri": "https://localhost:8080/"
        },
        "id": "aUjWQib5AVL1",
        "outputId": "7122b0bc-8683-4154-c5d8-ae372e68eba6"
      },
      "execution_count": 35,
      "outputs": [
        {
          "output_type": "execute_result",
          "data": {
            "text/plain": [
              "torch.Size([1, 3, 5])"
            ]
          },
          "metadata": {},
          "execution_count": 35
        }
      ]
    },
    {
      "cell_type": "code",
      "source": [
        "y = x.unsqueeze(-1) # shape becomes (3, 5, 1)\n",
        "y.shape"
      ],
      "metadata": {
        "colab": {
          "base_uri": "https://localhost:8080/"
        },
        "id": "dYxHj00qArhs",
        "outputId": "5f0b71e2-cf8b-424f-e0d8-80b970cddfd9"
      },
      "execution_count": 36,
      "outputs": [
        {
          "output_type": "execute_result",
          "data": {
            "text/plain": [
              "torch.Size([3, 5, 1])"
            ]
          },
          "metadata": {},
          "execution_count": 36
        }
      ]
    },
    {
      "cell_type": "code",
      "source": [
        "# Cat/Concatenate will Join tensors along existing dimension"
      ],
      "metadata": {
        "id": "mm1TKE27AzYL"
      },
      "execution_count": 38,
      "outputs": []
    },
    {
      "cell_type": "code",
      "source": [
        "x1 = torch.randn(10, 4)\n",
        "x2 = torch.randn(10, 3)\n",
        "x = torch.cat([x1, x2], dim=1)\n",
        "x.shape"
      ],
      "metadata": {
        "colab": {
          "base_uri": "https://localhost:8080/"
        },
        "id": "Jr8NsFCdBMf8",
        "outputId": "9951bf4a-4f30-4399-ad8e-543599fb1b5e"
      },
      "execution_count": 42,
      "outputs": [
        {
          "output_type": "execute_result",
          "data": {
            "text/plain": [
              "torch.Size([10, 7])"
            ]
          },
          "metadata": {},
          "execution_count": 42
        }
      ]
    },
    {
      "cell_type": "code",
      "source": [
        "# Stack will Join tensors along new dimension\n",
        "x1 = torch.randn(10, 4)\n",
        "x2 = torch.randn(10, 4)\n",
        "x = torch.stack([x1, x2])\n",
        "x.shape"
      ],
      "metadata": {
        "colab": {
          "base_uri": "https://localhost:8080/"
        },
        "id": "Gqe9PYu0BjtD",
        "outputId": "133346b9-c0ec-45a3-8901-189e0962668e"
      },
      "execution_count": 47,
      "outputs": [
        {
          "output_type": "execute_result",
          "data": {
            "text/plain": [
              "torch.Size([2, 10, 4])"
            ]
          },
          "metadata": {},
          "execution_count": 47
        }
      ]
    },
    {
      "cell_type": "code",
      "source": [
        "x1 = torch.tensor([1,1,1])\n",
        "x2 = torch.tensor([2,2,2])\n",
        "x = torch.stack([x1, x2])\n",
        "x.shape"
      ],
      "metadata": {
        "colab": {
          "base_uri": "https://localhost:8080/"
        },
        "id": "ND44wyzuCKSa",
        "outputId": "50a84fe5-2b07-4037-bf43-5ae42634885a"
      },
      "execution_count": 48,
      "outputs": [
        {
          "output_type": "execute_result",
          "data": {
            "text/plain": [
              "torch.Size([2, 3])"
            ]
          },
          "metadata": {},
          "execution_count": 48
        }
      ]
    },
    {
      "cell_type": "code",
      "source": [
        "# broadcasting\n",
        "# Automatically expands the smaller tensor to match the shape of the larger\n",
        "# tensor, enabling element-wise operations.\n",
        "\n"
      ],
      "metadata": {
        "id": "EJ9VF5Q7Eox1"
      },
      "execution_count": null,
      "outputs": []
    },
    {
      "cell_type": "code",
      "source": [
        "scalar = torch.tensor(5)\n",
        "scalar.shape"
      ],
      "metadata": {
        "colab": {
          "base_uri": "https://localhost:8080/"
        },
        "id": "RmWh_W_-Ehe6",
        "outputId": "29a3b6a3-69d0-471c-d7da-b4a97029f83c"
      },
      "execution_count": 49,
      "outputs": [
        {
          "output_type": "execute_result",
          "data": {
            "text/plain": [
              "torch.Size([])"
            ]
          },
          "metadata": {},
          "execution_count": 49
        }
      ]
    },
    {
      "cell_type": "code",
      "source": [
        "vector = torch.tensor([1, 2, 3])\n",
        "vector.shape"
      ],
      "metadata": {
        "colab": {
          "base_uri": "https://localhost:8080/"
        },
        "id": "VBYt7ipdEz_L",
        "outputId": "7d922e49-0827-4fa5-ea51-246fc558031c"
      },
      "execution_count": 50,
      "outputs": [
        {
          "output_type": "execute_result",
          "data": {
            "text/plain": [
              "torch.Size([3])"
            ]
          },
          "metadata": {},
          "execution_count": 50
        }
      ]
    },
    {
      "cell_type": "code",
      "source": [
        "result = scalar + vector # possible due to broadcasting\n",
        "result # scalar is expanded to have the same shape as the vector, resulting in element-wise addition: [5, 5, 5]"
      ],
      "metadata": {
        "colab": {
          "base_uri": "https://localhost:8080/"
        },
        "id": "3OMKlvqSE9nR",
        "outputId": "d499a020-604a-445a-80ac-74e357221ef0"
      },
      "execution_count": 53,
      "outputs": [
        {
          "output_type": "execute_result",
          "data": {
            "text/plain": [
              "tensor([6, 7, 8])"
            ]
          },
          "metadata": {},
          "execution_count": 53
        }
      ]
    },
    {
      "cell_type": "markdown",
      "source": [
        "Rules of Broadcasting\n",
        "\n",
        "Dimension Matching: Starting from the trailing dimensions, the dimensions of the tensors must either be equal or one of them must be 1.  \n",
        "\n",
        "Expansion: If a dimension is 1, it is automatically expanded to match the corresponding dimension of the other tensor.  \n",
        "\n",
        "Compatibility: If the dimensions are not compatible, a runtime error will occur.\n"
      ],
      "metadata": {
        "id": "bWx8zffjFjg4"
      }
    },
    {
      "cell_type": "code",
      "source": [
        "\n"
      ],
      "metadata": {
        "id": "xUC7V_HwEn2x"
      },
      "execution_count": null,
      "outputs": []
    }
  ]
}
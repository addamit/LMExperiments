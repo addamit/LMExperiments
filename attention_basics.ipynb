{
  "nbformat": 4,
  "nbformat_minor": 0,
  "metadata": {
    "colab": {
      "provenance": [],
      "authorship_tag": "ABX9TyPJT2S+bfk9sj/252UPbjXu",
      "include_colab_link": true
    },
    "kernelspec": {
      "name": "python3",
      "display_name": "Python 3"
    },
    "language_info": {
      "name": "python"
    },
    "widgets": {
      "application/vnd.jupyter.widget-state+json": {
        "0ec988f4955c480fa377e1c2a5639994": {
          "model_module": "@jupyter-widgets/controls",
          "model_name": "HBoxModel",
          "model_module_version": "1.5.0",
          "state": {
            "_dom_classes": [],
            "_model_module": "@jupyter-widgets/controls",
            "_model_module_version": "1.5.0",
            "_model_name": "HBoxModel",
            "_view_count": null,
            "_view_module": "@jupyter-widgets/controls",
            "_view_module_version": "1.5.0",
            "_view_name": "HBoxView",
            "box_style": "",
            "children": [
              "IPY_MODEL_09a3641e4c5a4c6196cf6406f319bfd4",
              "IPY_MODEL_90dc06c9af114edbad9a52cbb1d1d16a",
              "IPY_MODEL_4e6dc438184a44d587696b569a9ae012"
            ],
            "layout": "IPY_MODEL_f3f1097cbf0146cb8f4827eeb499c6a3"
          }
        },
        "09a3641e4c5a4c6196cf6406f319bfd4": {
          "model_module": "@jupyter-widgets/controls",
          "model_name": "HTMLModel",
          "model_module_version": "1.5.0",
          "state": {
            "_dom_classes": [],
            "_model_module": "@jupyter-widgets/controls",
            "_model_module_version": "1.5.0",
            "_model_name": "HTMLModel",
            "_view_count": null,
            "_view_module": "@jupyter-widgets/controls",
            "_view_module_version": "1.5.0",
            "_view_name": "HTMLView",
            "description": "",
            "description_tooltip": null,
            "layout": "IPY_MODEL_50453bc663cf47748c933e911340d759",
            "placeholder": "​",
            "style": "IPY_MODEL_9da1eec84b9c41ff8303b6eb0136f1bf",
            "value": "tokenizer_config.json: 100%"
          }
        },
        "90dc06c9af114edbad9a52cbb1d1d16a": {
          "model_module": "@jupyter-widgets/controls",
          "model_name": "FloatProgressModel",
          "model_module_version": "1.5.0",
          "state": {
            "_dom_classes": [],
            "_model_module": "@jupyter-widgets/controls",
            "_model_module_version": "1.5.0",
            "_model_name": "FloatProgressModel",
            "_view_count": null,
            "_view_module": "@jupyter-widgets/controls",
            "_view_module_version": "1.5.0",
            "_view_name": "ProgressView",
            "bar_style": "success",
            "description": "",
            "description_tooltip": null,
            "layout": "IPY_MODEL_ac86f61a006843058b8ffc6c01ae0f56",
            "max": 26,
            "min": 0,
            "orientation": "horizontal",
            "style": "IPY_MODEL_54e9a3567fc94c85a34ec6a9b3c86fc4",
            "value": 26
          }
        },
        "4e6dc438184a44d587696b569a9ae012": {
          "model_module": "@jupyter-widgets/controls",
          "model_name": "HTMLModel",
          "model_module_version": "1.5.0",
          "state": {
            "_dom_classes": [],
            "_model_module": "@jupyter-widgets/controls",
            "_model_module_version": "1.5.0",
            "_model_name": "HTMLModel",
            "_view_count": null,
            "_view_module": "@jupyter-widgets/controls",
            "_view_module_version": "1.5.0",
            "_view_name": "HTMLView",
            "description": "",
            "description_tooltip": null,
            "layout": "IPY_MODEL_40094c8c64e947fbb657d10e01e4d96e",
            "placeholder": "​",
            "style": "IPY_MODEL_a6a1b40bb1be46a0a40d0b30442dd9f9",
            "value": " 26.0/26.0 [00:00&lt;00:00, 2.46kB/s]"
          }
        },
        "f3f1097cbf0146cb8f4827eeb499c6a3": {
          "model_module": "@jupyter-widgets/base",
          "model_name": "LayoutModel",
          "model_module_version": "1.2.0",
          "state": {
            "_model_module": "@jupyter-widgets/base",
            "_model_module_version": "1.2.0",
            "_model_name": "LayoutModel",
            "_view_count": null,
            "_view_module": "@jupyter-widgets/base",
            "_view_module_version": "1.2.0",
            "_view_name": "LayoutView",
            "align_content": null,
            "align_items": null,
            "align_self": null,
            "border": null,
            "bottom": null,
            "display": null,
            "flex": null,
            "flex_flow": null,
            "grid_area": null,
            "grid_auto_columns": null,
            "grid_auto_flow": null,
            "grid_auto_rows": null,
            "grid_column": null,
            "grid_gap": null,
            "grid_row": null,
            "grid_template_areas": null,
            "grid_template_columns": null,
            "grid_template_rows": null,
            "height": null,
            "justify_content": null,
            "justify_items": null,
            "left": null,
            "margin": null,
            "max_height": null,
            "max_width": null,
            "min_height": null,
            "min_width": null,
            "object_fit": null,
            "object_position": null,
            "order": null,
            "overflow": null,
            "overflow_x": null,
            "overflow_y": null,
            "padding": null,
            "right": null,
            "top": null,
            "visibility": null,
            "width": null
          }
        },
        "50453bc663cf47748c933e911340d759": {
          "model_module": "@jupyter-widgets/base",
          "model_name": "LayoutModel",
          "model_module_version": "1.2.0",
          "state": {
            "_model_module": "@jupyter-widgets/base",
            "_model_module_version": "1.2.0",
            "_model_name": "LayoutModel",
            "_view_count": null,
            "_view_module": "@jupyter-widgets/base",
            "_view_module_version": "1.2.0",
            "_view_name": "LayoutView",
            "align_content": null,
            "align_items": null,
            "align_self": null,
            "border": null,
            "bottom": null,
            "display": null,
            "flex": null,
            "flex_flow": null,
            "grid_area": null,
            "grid_auto_columns": null,
            "grid_auto_flow": null,
            "grid_auto_rows": null,
            "grid_column": null,
            "grid_gap": null,
            "grid_row": null,
            "grid_template_areas": null,
            "grid_template_columns": null,
            "grid_template_rows": null,
            "height": null,
            "justify_content": null,
            "justify_items": null,
            "left": null,
            "margin": null,
            "max_height": null,
            "max_width": null,
            "min_height": null,
            "min_width": null,
            "object_fit": null,
            "object_position": null,
            "order": null,
            "overflow": null,
            "overflow_x": null,
            "overflow_y": null,
            "padding": null,
            "right": null,
            "top": null,
            "visibility": null,
            "width": null
          }
        },
        "9da1eec84b9c41ff8303b6eb0136f1bf": {
          "model_module": "@jupyter-widgets/controls",
          "model_name": "DescriptionStyleModel",
          "model_module_version": "1.5.0",
          "state": {
            "_model_module": "@jupyter-widgets/controls",
            "_model_module_version": "1.5.0",
            "_model_name": "DescriptionStyleModel",
            "_view_count": null,
            "_view_module": "@jupyter-widgets/base",
            "_view_module_version": "1.2.0",
            "_view_name": "StyleView",
            "description_width": ""
          }
        },
        "ac86f61a006843058b8ffc6c01ae0f56": {
          "model_module": "@jupyter-widgets/base",
          "model_name": "LayoutModel",
          "model_module_version": "1.2.0",
          "state": {
            "_model_module": "@jupyter-widgets/base",
            "_model_module_version": "1.2.0",
            "_model_name": "LayoutModel",
            "_view_count": null,
            "_view_module": "@jupyter-widgets/base",
            "_view_module_version": "1.2.0",
            "_view_name": "LayoutView",
            "align_content": null,
            "align_items": null,
            "align_self": null,
            "border": null,
            "bottom": null,
            "display": null,
            "flex": null,
            "flex_flow": null,
            "grid_area": null,
            "grid_auto_columns": null,
            "grid_auto_flow": null,
            "grid_auto_rows": null,
            "grid_column": null,
            "grid_gap": null,
            "grid_row": null,
            "grid_template_areas": null,
            "grid_template_columns": null,
            "grid_template_rows": null,
            "height": null,
            "justify_content": null,
            "justify_items": null,
            "left": null,
            "margin": null,
            "max_height": null,
            "max_width": null,
            "min_height": null,
            "min_width": null,
            "object_fit": null,
            "object_position": null,
            "order": null,
            "overflow": null,
            "overflow_x": null,
            "overflow_y": null,
            "padding": null,
            "right": null,
            "top": null,
            "visibility": null,
            "width": null
          }
        },
        "54e9a3567fc94c85a34ec6a9b3c86fc4": {
          "model_module": "@jupyter-widgets/controls",
          "model_name": "ProgressStyleModel",
          "model_module_version": "1.5.0",
          "state": {
            "_model_module": "@jupyter-widgets/controls",
            "_model_module_version": "1.5.0",
            "_model_name": "ProgressStyleModel",
            "_view_count": null,
            "_view_module": "@jupyter-widgets/base",
            "_view_module_version": "1.2.0",
            "_view_name": "StyleView",
            "bar_color": null,
            "description_width": ""
          }
        },
        "40094c8c64e947fbb657d10e01e4d96e": {
          "model_module": "@jupyter-widgets/base",
          "model_name": "LayoutModel",
          "model_module_version": "1.2.0",
          "state": {
            "_model_module": "@jupyter-widgets/base",
            "_model_module_version": "1.2.0",
            "_model_name": "LayoutModel",
            "_view_count": null,
            "_view_module": "@jupyter-widgets/base",
            "_view_module_version": "1.2.0",
            "_view_name": "LayoutView",
            "align_content": null,
            "align_items": null,
            "align_self": null,
            "border": null,
            "bottom": null,
            "display": null,
            "flex": null,
            "flex_flow": null,
            "grid_area": null,
            "grid_auto_columns": null,
            "grid_auto_flow": null,
            "grid_auto_rows": null,
            "grid_column": null,
            "grid_gap": null,
            "grid_row": null,
            "grid_template_areas": null,
            "grid_template_columns": null,
            "grid_template_rows": null,
            "height": null,
            "justify_content": null,
            "justify_items": null,
            "left": null,
            "margin": null,
            "max_height": null,
            "max_width": null,
            "min_height": null,
            "min_width": null,
            "object_fit": null,
            "object_position": null,
            "order": null,
            "overflow": null,
            "overflow_x": null,
            "overflow_y": null,
            "padding": null,
            "right": null,
            "top": null,
            "visibility": null,
            "width": null
          }
        },
        "a6a1b40bb1be46a0a40d0b30442dd9f9": {
          "model_module": "@jupyter-widgets/controls",
          "model_name": "DescriptionStyleModel",
          "model_module_version": "1.5.0",
          "state": {
            "_model_module": "@jupyter-widgets/controls",
            "_model_module_version": "1.5.0",
            "_model_name": "DescriptionStyleModel",
            "_view_count": null,
            "_view_module": "@jupyter-widgets/base",
            "_view_module_version": "1.2.0",
            "_view_name": "StyleView",
            "description_width": ""
          }
        },
        "c7ba7f2f2fb8470ebda2168f4ef8e9b2": {
          "model_module": "@jupyter-widgets/controls",
          "model_name": "HBoxModel",
          "model_module_version": "1.5.0",
          "state": {
            "_dom_classes": [],
            "_model_module": "@jupyter-widgets/controls",
            "_model_module_version": "1.5.0",
            "_model_name": "HBoxModel",
            "_view_count": null,
            "_view_module": "@jupyter-widgets/controls",
            "_view_module_version": "1.5.0",
            "_view_name": "HBoxView",
            "box_style": "",
            "children": [
              "IPY_MODEL_caa12a8bab024f73a08cbc93095783ec",
              "IPY_MODEL_c810e81efa0d434195864e2d2d323eff",
              "IPY_MODEL_78723b2e167048679635f98d4d112134"
            ],
            "layout": "IPY_MODEL_2d2e2218c76d4558aa2a3c873435f5af"
          }
        },
        "caa12a8bab024f73a08cbc93095783ec": {
          "model_module": "@jupyter-widgets/controls",
          "model_name": "HTMLModel",
          "model_module_version": "1.5.0",
          "state": {
            "_dom_classes": [],
            "_model_module": "@jupyter-widgets/controls",
            "_model_module_version": "1.5.0",
            "_model_name": "HTMLModel",
            "_view_count": null,
            "_view_module": "@jupyter-widgets/controls",
            "_view_module_version": "1.5.0",
            "_view_name": "HTMLView",
            "description": "",
            "description_tooltip": null,
            "layout": "IPY_MODEL_1da7a7307daf4bda88111032bbbede92",
            "placeholder": "​",
            "style": "IPY_MODEL_1427306cf0204b3a91cf2a1d6d7446c0",
            "value": "vocab.json: 100%"
          }
        },
        "c810e81efa0d434195864e2d2d323eff": {
          "model_module": "@jupyter-widgets/controls",
          "model_name": "FloatProgressModel",
          "model_module_version": "1.5.0",
          "state": {
            "_dom_classes": [],
            "_model_module": "@jupyter-widgets/controls",
            "_model_module_version": "1.5.0",
            "_model_name": "FloatProgressModel",
            "_view_count": null,
            "_view_module": "@jupyter-widgets/controls",
            "_view_module_version": "1.5.0",
            "_view_name": "ProgressView",
            "bar_style": "success",
            "description": "",
            "description_tooltip": null,
            "layout": "IPY_MODEL_8669eb6d308b4380b887c4b49c73b751",
            "max": 1042301,
            "min": 0,
            "orientation": "horizontal",
            "style": "IPY_MODEL_320a8285a25342f294ed71a0623c99bb",
            "value": 1042301
          }
        },
        "78723b2e167048679635f98d4d112134": {
          "model_module": "@jupyter-widgets/controls",
          "model_name": "HTMLModel",
          "model_module_version": "1.5.0",
          "state": {
            "_dom_classes": [],
            "_model_module": "@jupyter-widgets/controls",
            "_model_module_version": "1.5.0",
            "_model_name": "HTMLModel",
            "_view_count": null,
            "_view_module": "@jupyter-widgets/controls",
            "_view_module_version": "1.5.0",
            "_view_name": "HTMLView",
            "description": "",
            "description_tooltip": null,
            "layout": "IPY_MODEL_16724c6bf6bf4d9492020298e87cb42d",
            "placeholder": "​",
            "style": "IPY_MODEL_1f7ea2b49608404681368dc1dcb49d85",
            "value": " 1.04M/1.04M [00:00&lt;00:00, 9.94MB/s]"
          }
        },
        "2d2e2218c76d4558aa2a3c873435f5af": {
          "model_module": "@jupyter-widgets/base",
          "model_name": "LayoutModel",
          "model_module_version": "1.2.0",
          "state": {
            "_model_module": "@jupyter-widgets/base",
            "_model_module_version": "1.2.0",
            "_model_name": "LayoutModel",
            "_view_count": null,
            "_view_module": "@jupyter-widgets/base",
            "_view_module_version": "1.2.0",
            "_view_name": "LayoutView",
            "align_content": null,
            "align_items": null,
            "align_self": null,
            "border": null,
            "bottom": null,
            "display": null,
            "flex": null,
            "flex_flow": null,
            "grid_area": null,
            "grid_auto_columns": null,
            "grid_auto_flow": null,
            "grid_auto_rows": null,
            "grid_column": null,
            "grid_gap": null,
            "grid_row": null,
            "grid_template_areas": null,
            "grid_template_columns": null,
            "grid_template_rows": null,
            "height": null,
            "justify_content": null,
            "justify_items": null,
            "left": null,
            "margin": null,
            "max_height": null,
            "max_width": null,
            "min_height": null,
            "min_width": null,
            "object_fit": null,
            "object_position": null,
            "order": null,
            "overflow": null,
            "overflow_x": null,
            "overflow_y": null,
            "padding": null,
            "right": null,
            "top": null,
            "visibility": null,
            "width": null
          }
        },
        "1da7a7307daf4bda88111032bbbede92": {
          "model_module": "@jupyter-widgets/base",
          "model_name": "LayoutModel",
          "model_module_version": "1.2.0",
          "state": {
            "_model_module": "@jupyter-widgets/base",
            "_model_module_version": "1.2.0",
            "_model_name": "LayoutModel",
            "_view_count": null,
            "_view_module": "@jupyter-widgets/base",
            "_view_module_version": "1.2.0",
            "_view_name": "LayoutView",
            "align_content": null,
            "align_items": null,
            "align_self": null,
            "border": null,
            "bottom": null,
            "display": null,
            "flex": null,
            "flex_flow": null,
            "grid_area": null,
            "grid_auto_columns": null,
            "grid_auto_flow": null,
            "grid_auto_rows": null,
            "grid_column": null,
            "grid_gap": null,
            "grid_row": null,
            "grid_template_areas": null,
            "grid_template_columns": null,
            "grid_template_rows": null,
            "height": null,
            "justify_content": null,
            "justify_items": null,
            "left": null,
            "margin": null,
            "max_height": null,
            "max_width": null,
            "min_height": null,
            "min_width": null,
            "object_fit": null,
            "object_position": null,
            "order": null,
            "overflow": null,
            "overflow_x": null,
            "overflow_y": null,
            "padding": null,
            "right": null,
            "top": null,
            "visibility": null,
            "width": null
          }
        },
        "1427306cf0204b3a91cf2a1d6d7446c0": {
          "model_module": "@jupyter-widgets/controls",
          "model_name": "DescriptionStyleModel",
          "model_module_version": "1.5.0",
          "state": {
            "_model_module": "@jupyter-widgets/controls",
            "_model_module_version": "1.5.0",
            "_model_name": "DescriptionStyleModel",
            "_view_count": null,
            "_view_module": "@jupyter-widgets/base",
            "_view_module_version": "1.2.0",
            "_view_name": "StyleView",
            "description_width": ""
          }
        },
        "8669eb6d308b4380b887c4b49c73b751": {
          "model_module": "@jupyter-widgets/base",
          "model_name": "LayoutModel",
          "model_module_version": "1.2.0",
          "state": {
            "_model_module": "@jupyter-widgets/base",
            "_model_module_version": "1.2.0",
            "_model_name": "LayoutModel",
            "_view_count": null,
            "_view_module": "@jupyter-widgets/base",
            "_view_module_version": "1.2.0",
            "_view_name": "LayoutView",
            "align_content": null,
            "align_items": null,
            "align_self": null,
            "border": null,
            "bottom": null,
            "display": null,
            "flex": null,
            "flex_flow": null,
            "grid_area": null,
            "grid_auto_columns": null,
            "grid_auto_flow": null,
            "grid_auto_rows": null,
            "grid_column": null,
            "grid_gap": null,
            "grid_row": null,
            "grid_template_areas": null,
            "grid_template_columns": null,
            "grid_template_rows": null,
            "height": null,
            "justify_content": null,
            "justify_items": null,
            "left": null,
            "margin": null,
            "max_height": null,
            "max_width": null,
            "min_height": null,
            "min_width": null,
            "object_fit": null,
            "object_position": null,
            "order": null,
            "overflow": null,
            "overflow_x": null,
            "overflow_y": null,
            "padding": null,
            "right": null,
            "top": null,
            "visibility": null,
            "width": null
          }
        },
        "320a8285a25342f294ed71a0623c99bb": {
          "model_module": "@jupyter-widgets/controls",
          "model_name": "ProgressStyleModel",
          "model_module_version": "1.5.0",
          "state": {
            "_model_module": "@jupyter-widgets/controls",
            "_model_module_version": "1.5.0",
            "_model_name": "ProgressStyleModel",
            "_view_count": null,
            "_view_module": "@jupyter-widgets/base",
            "_view_module_version": "1.2.0",
            "_view_name": "StyleView",
            "bar_color": null,
            "description_width": ""
          }
        },
        "16724c6bf6bf4d9492020298e87cb42d": {
          "model_module": "@jupyter-widgets/base",
          "model_name": "LayoutModel",
          "model_module_version": "1.2.0",
          "state": {
            "_model_module": "@jupyter-widgets/base",
            "_model_module_version": "1.2.0",
            "_model_name": "LayoutModel",
            "_view_count": null,
            "_view_module": "@jupyter-widgets/base",
            "_view_module_version": "1.2.0",
            "_view_name": "LayoutView",
            "align_content": null,
            "align_items": null,
            "align_self": null,
            "border": null,
            "bottom": null,
            "display": null,
            "flex": null,
            "flex_flow": null,
            "grid_area": null,
            "grid_auto_columns": null,
            "grid_auto_flow": null,
            "grid_auto_rows": null,
            "grid_column": null,
            "grid_gap": null,
            "grid_row": null,
            "grid_template_areas": null,
            "grid_template_columns": null,
            "grid_template_rows": null,
            "height": null,
            "justify_content": null,
            "justify_items": null,
            "left": null,
            "margin": null,
            "max_height": null,
            "max_width": null,
            "min_height": null,
            "min_width": null,
            "object_fit": null,
            "object_position": null,
            "order": null,
            "overflow": null,
            "overflow_x": null,
            "overflow_y": null,
            "padding": null,
            "right": null,
            "top": null,
            "visibility": null,
            "width": null
          }
        },
        "1f7ea2b49608404681368dc1dcb49d85": {
          "model_module": "@jupyter-widgets/controls",
          "model_name": "DescriptionStyleModel",
          "model_module_version": "1.5.0",
          "state": {
            "_model_module": "@jupyter-widgets/controls",
            "_model_module_version": "1.5.0",
            "_model_name": "DescriptionStyleModel",
            "_view_count": null,
            "_view_module": "@jupyter-widgets/base",
            "_view_module_version": "1.2.0",
            "_view_name": "StyleView",
            "description_width": ""
          }
        },
        "5af98bd781e544da84d58d34e71c5839": {
          "model_module": "@jupyter-widgets/controls",
          "model_name": "HBoxModel",
          "model_module_version": "1.5.0",
          "state": {
            "_dom_classes": [],
            "_model_module": "@jupyter-widgets/controls",
            "_model_module_version": "1.5.0",
            "_model_name": "HBoxModel",
            "_view_count": null,
            "_view_module": "@jupyter-widgets/controls",
            "_view_module_version": "1.5.0",
            "_view_name": "HBoxView",
            "box_style": "",
            "children": [
              "IPY_MODEL_cf0f819ca9564ca18776d762c34d22b1",
              "IPY_MODEL_81e221b153bf4b8fa1fc8a3fb2185ca6",
              "IPY_MODEL_89758574f0844df6b176bc002ab432a0"
            ],
            "layout": "IPY_MODEL_900fb524e926405eb40cdc8ad05d09ee"
          }
        },
        "cf0f819ca9564ca18776d762c34d22b1": {
          "model_module": "@jupyter-widgets/controls",
          "model_name": "HTMLModel",
          "model_module_version": "1.5.0",
          "state": {
            "_dom_classes": [],
            "_model_module": "@jupyter-widgets/controls",
            "_model_module_version": "1.5.0",
            "_model_name": "HTMLModel",
            "_view_count": null,
            "_view_module": "@jupyter-widgets/controls",
            "_view_module_version": "1.5.0",
            "_view_name": "HTMLView",
            "description": "",
            "description_tooltip": null,
            "layout": "IPY_MODEL_1e978997d7ed48c289e22b32b80f1f4e",
            "placeholder": "​",
            "style": "IPY_MODEL_6fa8dc755ae9482f89aa266adb098561",
            "value": "merges.txt: 100%"
          }
        },
        "81e221b153bf4b8fa1fc8a3fb2185ca6": {
          "model_module": "@jupyter-widgets/controls",
          "model_name": "FloatProgressModel",
          "model_module_version": "1.5.0",
          "state": {
            "_dom_classes": [],
            "_model_module": "@jupyter-widgets/controls",
            "_model_module_version": "1.5.0",
            "_model_name": "FloatProgressModel",
            "_view_count": null,
            "_view_module": "@jupyter-widgets/controls",
            "_view_module_version": "1.5.0",
            "_view_name": "ProgressView",
            "bar_style": "success",
            "description": "",
            "description_tooltip": null,
            "layout": "IPY_MODEL_1bcc66b26fb041da93f59703c41cd886",
            "max": 456318,
            "min": 0,
            "orientation": "horizontal",
            "style": "IPY_MODEL_7bdb32da4ca248da88f18568f03f62d6",
            "value": 456318
          }
        },
        "89758574f0844df6b176bc002ab432a0": {
          "model_module": "@jupyter-widgets/controls",
          "model_name": "HTMLModel",
          "model_module_version": "1.5.0",
          "state": {
            "_dom_classes": [],
            "_model_module": "@jupyter-widgets/controls",
            "_model_module_version": "1.5.0",
            "_model_name": "HTMLModel",
            "_view_count": null,
            "_view_module": "@jupyter-widgets/controls",
            "_view_module_version": "1.5.0",
            "_view_name": "HTMLView",
            "description": "",
            "description_tooltip": null,
            "layout": "IPY_MODEL_9f502babe3cc49baa8d3033f59350e8f",
            "placeholder": "​",
            "style": "IPY_MODEL_40681916f85941a7ad66df16dc153aa5",
            "value": " 456k/456k [00:00&lt;00:00, 3.35MB/s]"
          }
        },
        "900fb524e926405eb40cdc8ad05d09ee": {
          "model_module": "@jupyter-widgets/base",
          "model_name": "LayoutModel",
          "model_module_version": "1.2.0",
          "state": {
            "_model_module": "@jupyter-widgets/base",
            "_model_module_version": "1.2.0",
            "_model_name": "LayoutModel",
            "_view_count": null,
            "_view_module": "@jupyter-widgets/base",
            "_view_module_version": "1.2.0",
            "_view_name": "LayoutView",
            "align_content": null,
            "align_items": null,
            "align_self": null,
            "border": null,
            "bottom": null,
            "display": null,
            "flex": null,
            "flex_flow": null,
            "grid_area": null,
            "grid_auto_columns": null,
            "grid_auto_flow": null,
            "grid_auto_rows": null,
            "grid_column": null,
            "grid_gap": null,
            "grid_row": null,
            "grid_template_areas": null,
            "grid_template_columns": null,
            "grid_template_rows": null,
            "height": null,
            "justify_content": null,
            "justify_items": null,
            "left": null,
            "margin": null,
            "max_height": null,
            "max_width": null,
            "min_height": null,
            "min_width": null,
            "object_fit": null,
            "object_position": null,
            "order": null,
            "overflow": null,
            "overflow_x": null,
            "overflow_y": null,
            "padding": null,
            "right": null,
            "top": null,
            "visibility": null,
            "width": null
          }
        },
        "1e978997d7ed48c289e22b32b80f1f4e": {
          "model_module": "@jupyter-widgets/base",
          "model_name": "LayoutModel",
          "model_module_version": "1.2.0",
          "state": {
            "_model_module": "@jupyter-widgets/base",
            "_model_module_version": "1.2.0",
            "_model_name": "LayoutModel",
            "_view_count": null,
            "_view_module": "@jupyter-widgets/base",
            "_view_module_version": "1.2.0",
            "_view_name": "LayoutView",
            "align_content": null,
            "align_items": null,
            "align_self": null,
            "border": null,
            "bottom": null,
            "display": null,
            "flex": null,
            "flex_flow": null,
            "grid_area": null,
            "grid_auto_columns": null,
            "grid_auto_flow": null,
            "grid_auto_rows": null,
            "grid_column": null,
            "grid_gap": null,
            "grid_row": null,
            "grid_template_areas": null,
            "grid_template_columns": null,
            "grid_template_rows": null,
            "height": null,
            "justify_content": null,
            "justify_items": null,
            "left": null,
            "margin": null,
            "max_height": null,
            "max_width": null,
            "min_height": null,
            "min_width": null,
            "object_fit": null,
            "object_position": null,
            "order": null,
            "overflow": null,
            "overflow_x": null,
            "overflow_y": null,
            "padding": null,
            "right": null,
            "top": null,
            "visibility": null,
            "width": null
          }
        },
        "6fa8dc755ae9482f89aa266adb098561": {
          "model_module": "@jupyter-widgets/controls",
          "model_name": "DescriptionStyleModel",
          "model_module_version": "1.5.0",
          "state": {
            "_model_module": "@jupyter-widgets/controls",
            "_model_module_version": "1.5.0",
            "_model_name": "DescriptionStyleModel",
            "_view_count": null,
            "_view_module": "@jupyter-widgets/base",
            "_view_module_version": "1.2.0",
            "_view_name": "StyleView",
            "description_width": ""
          }
        },
        "1bcc66b26fb041da93f59703c41cd886": {
          "model_module": "@jupyter-widgets/base",
          "model_name": "LayoutModel",
          "model_module_version": "1.2.0",
          "state": {
            "_model_module": "@jupyter-widgets/base",
            "_model_module_version": "1.2.0",
            "_model_name": "LayoutModel",
            "_view_count": null,
            "_view_module": "@jupyter-widgets/base",
            "_view_module_version": "1.2.0",
            "_view_name": "LayoutView",
            "align_content": null,
            "align_items": null,
            "align_self": null,
            "border": null,
            "bottom": null,
            "display": null,
            "flex": null,
            "flex_flow": null,
            "grid_area": null,
            "grid_auto_columns": null,
            "grid_auto_flow": null,
            "grid_auto_rows": null,
            "grid_column": null,
            "grid_gap": null,
            "grid_row": null,
            "grid_template_areas": null,
            "grid_template_columns": null,
            "grid_template_rows": null,
            "height": null,
            "justify_content": null,
            "justify_items": null,
            "left": null,
            "margin": null,
            "max_height": null,
            "max_width": null,
            "min_height": null,
            "min_width": null,
            "object_fit": null,
            "object_position": null,
            "order": null,
            "overflow": null,
            "overflow_x": null,
            "overflow_y": null,
            "padding": null,
            "right": null,
            "top": null,
            "visibility": null,
            "width": null
          }
        },
        "7bdb32da4ca248da88f18568f03f62d6": {
          "model_module": "@jupyter-widgets/controls",
          "model_name": "ProgressStyleModel",
          "model_module_version": "1.5.0",
          "state": {
            "_model_module": "@jupyter-widgets/controls",
            "_model_module_version": "1.5.0",
            "_model_name": "ProgressStyleModel",
            "_view_count": null,
            "_view_module": "@jupyter-widgets/base",
            "_view_module_version": "1.2.0",
            "_view_name": "StyleView",
            "bar_color": null,
            "description_width": ""
          }
        },
        "9f502babe3cc49baa8d3033f59350e8f": {
          "model_module": "@jupyter-widgets/base",
          "model_name": "LayoutModel",
          "model_module_version": "1.2.0",
          "state": {
            "_model_module": "@jupyter-widgets/base",
            "_model_module_version": "1.2.0",
            "_model_name": "LayoutModel",
            "_view_count": null,
            "_view_module": "@jupyter-widgets/base",
            "_view_module_version": "1.2.0",
            "_view_name": "LayoutView",
            "align_content": null,
            "align_items": null,
            "align_self": null,
            "border": null,
            "bottom": null,
            "display": null,
            "flex": null,
            "flex_flow": null,
            "grid_area": null,
            "grid_auto_columns": null,
            "grid_auto_flow": null,
            "grid_auto_rows": null,
            "grid_column": null,
            "grid_gap": null,
            "grid_row": null,
            "grid_template_areas": null,
            "grid_template_columns": null,
            "grid_template_rows": null,
            "height": null,
            "justify_content": null,
            "justify_items": null,
            "left": null,
            "margin": null,
            "max_height": null,
            "max_width": null,
            "min_height": null,
            "min_width": null,
            "object_fit": null,
            "object_position": null,
            "order": null,
            "overflow": null,
            "overflow_x": null,
            "overflow_y": null,
            "padding": null,
            "right": null,
            "top": null,
            "visibility": null,
            "width": null
          }
        },
        "40681916f85941a7ad66df16dc153aa5": {
          "model_module": "@jupyter-widgets/controls",
          "model_name": "DescriptionStyleModel",
          "model_module_version": "1.5.0",
          "state": {
            "_model_module": "@jupyter-widgets/controls",
            "_model_module_version": "1.5.0",
            "_model_name": "DescriptionStyleModel",
            "_view_count": null,
            "_view_module": "@jupyter-widgets/base",
            "_view_module_version": "1.2.0",
            "_view_name": "StyleView",
            "description_width": ""
          }
        },
        "8741257b17d44ecb97840d51250bfab1": {
          "model_module": "@jupyter-widgets/controls",
          "model_name": "HBoxModel",
          "model_module_version": "1.5.0",
          "state": {
            "_dom_classes": [],
            "_model_module": "@jupyter-widgets/controls",
            "_model_module_version": "1.5.0",
            "_model_name": "HBoxModel",
            "_view_count": null,
            "_view_module": "@jupyter-widgets/controls",
            "_view_module_version": "1.5.0",
            "_view_name": "HBoxView",
            "box_style": "",
            "children": [
              "IPY_MODEL_8889b30f91ed409daf5833675e3a41de",
              "IPY_MODEL_7f84267fa25147ac92c8361afd63bbb3",
              "IPY_MODEL_993f115fbdf44e37aea5b96915dfce45"
            ],
            "layout": "IPY_MODEL_a8b922f3a7f74b5b9de3d35eed6e140d"
          }
        },
        "8889b30f91ed409daf5833675e3a41de": {
          "model_module": "@jupyter-widgets/controls",
          "model_name": "HTMLModel",
          "model_module_version": "1.5.0",
          "state": {
            "_dom_classes": [],
            "_model_module": "@jupyter-widgets/controls",
            "_model_module_version": "1.5.0",
            "_model_name": "HTMLModel",
            "_view_count": null,
            "_view_module": "@jupyter-widgets/controls",
            "_view_module_version": "1.5.0",
            "_view_name": "HTMLView",
            "description": "",
            "description_tooltip": null,
            "layout": "IPY_MODEL_05d0079c8f75449cae34106444703feb",
            "placeholder": "​",
            "style": "IPY_MODEL_f519825a6cc649119ae91fabbe397a4c",
            "value": "tokenizer.json: 100%"
          }
        },
        "7f84267fa25147ac92c8361afd63bbb3": {
          "model_module": "@jupyter-widgets/controls",
          "model_name": "FloatProgressModel",
          "model_module_version": "1.5.0",
          "state": {
            "_dom_classes": [],
            "_model_module": "@jupyter-widgets/controls",
            "_model_module_version": "1.5.0",
            "_model_name": "FloatProgressModel",
            "_view_count": null,
            "_view_module": "@jupyter-widgets/controls",
            "_view_module_version": "1.5.0",
            "_view_name": "ProgressView",
            "bar_style": "success",
            "description": "",
            "description_tooltip": null,
            "layout": "IPY_MODEL_be89a37fec6c44179843bfe7a768cf1d",
            "max": 1355256,
            "min": 0,
            "orientation": "horizontal",
            "style": "IPY_MODEL_5f92fdc46d434c0e8b67707fcb254ea3",
            "value": 1355256
          }
        },
        "993f115fbdf44e37aea5b96915dfce45": {
          "model_module": "@jupyter-widgets/controls",
          "model_name": "HTMLModel",
          "model_module_version": "1.5.0",
          "state": {
            "_dom_classes": [],
            "_model_module": "@jupyter-widgets/controls",
            "_model_module_version": "1.5.0",
            "_model_name": "HTMLModel",
            "_view_count": null,
            "_view_module": "@jupyter-widgets/controls",
            "_view_module_version": "1.5.0",
            "_view_name": "HTMLView",
            "description": "",
            "description_tooltip": null,
            "layout": "IPY_MODEL_f190abb03fb943bfbf5fe9ac31fda7df",
            "placeholder": "​",
            "style": "IPY_MODEL_5d8af42271dd4c0693c40a5055564717",
            "value": " 1.36M/1.36M [00:00&lt;00:00, 27.4MB/s]"
          }
        },
        "a8b922f3a7f74b5b9de3d35eed6e140d": {
          "model_module": "@jupyter-widgets/base",
          "model_name": "LayoutModel",
          "model_module_version": "1.2.0",
          "state": {
            "_model_module": "@jupyter-widgets/base",
            "_model_module_version": "1.2.0",
            "_model_name": "LayoutModel",
            "_view_count": null,
            "_view_module": "@jupyter-widgets/base",
            "_view_module_version": "1.2.0",
            "_view_name": "LayoutView",
            "align_content": null,
            "align_items": null,
            "align_self": null,
            "border": null,
            "bottom": null,
            "display": null,
            "flex": null,
            "flex_flow": null,
            "grid_area": null,
            "grid_auto_columns": null,
            "grid_auto_flow": null,
            "grid_auto_rows": null,
            "grid_column": null,
            "grid_gap": null,
            "grid_row": null,
            "grid_template_areas": null,
            "grid_template_columns": null,
            "grid_template_rows": null,
            "height": null,
            "justify_content": null,
            "justify_items": null,
            "left": null,
            "margin": null,
            "max_height": null,
            "max_width": null,
            "min_height": null,
            "min_width": null,
            "object_fit": null,
            "object_position": null,
            "order": null,
            "overflow": null,
            "overflow_x": null,
            "overflow_y": null,
            "padding": null,
            "right": null,
            "top": null,
            "visibility": null,
            "width": null
          }
        },
        "05d0079c8f75449cae34106444703feb": {
          "model_module": "@jupyter-widgets/base",
          "model_name": "LayoutModel",
          "model_module_version": "1.2.0",
          "state": {
            "_model_module": "@jupyter-widgets/base",
            "_model_module_version": "1.2.0",
            "_model_name": "LayoutModel",
            "_view_count": null,
            "_view_module": "@jupyter-widgets/base",
            "_view_module_version": "1.2.0",
            "_view_name": "LayoutView",
            "align_content": null,
            "align_items": null,
            "align_self": null,
            "border": null,
            "bottom": null,
            "display": null,
            "flex": null,
            "flex_flow": null,
            "grid_area": null,
            "grid_auto_columns": null,
            "grid_auto_flow": null,
            "grid_auto_rows": null,
            "grid_column": null,
            "grid_gap": null,
            "grid_row": null,
            "grid_template_areas": null,
            "grid_template_columns": null,
            "grid_template_rows": null,
            "height": null,
            "justify_content": null,
            "justify_items": null,
            "left": null,
            "margin": null,
            "max_height": null,
            "max_width": null,
            "min_height": null,
            "min_width": null,
            "object_fit": null,
            "object_position": null,
            "order": null,
            "overflow": null,
            "overflow_x": null,
            "overflow_y": null,
            "padding": null,
            "right": null,
            "top": null,
            "visibility": null,
            "width": null
          }
        },
        "f519825a6cc649119ae91fabbe397a4c": {
          "model_module": "@jupyter-widgets/controls",
          "model_name": "DescriptionStyleModel",
          "model_module_version": "1.5.0",
          "state": {
            "_model_module": "@jupyter-widgets/controls",
            "_model_module_version": "1.5.0",
            "_model_name": "DescriptionStyleModel",
            "_view_count": null,
            "_view_module": "@jupyter-widgets/base",
            "_view_module_version": "1.2.0",
            "_view_name": "StyleView",
            "description_width": ""
          }
        },
        "be89a37fec6c44179843bfe7a768cf1d": {
          "model_module": "@jupyter-widgets/base",
          "model_name": "LayoutModel",
          "model_module_version": "1.2.0",
          "state": {
            "_model_module": "@jupyter-widgets/base",
            "_model_module_version": "1.2.0",
            "_model_name": "LayoutModel",
            "_view_count": null,
            "_view_module": "@jupyter-widgets/base",
            "_view_module_version": "1.2.0",
            "_view_name": "LayoutView",
            "align_content": null,
            "align_items": null,
            "align_self": null,
            "border": null,
            "bottom": null,
            "display": null,
            "flex": null,
            "flex_flow": null,
            "grid_area": null,
            "grid_auto_columns": null,
            "grid_auto_flow": null,
            "grid_auto_rows": null,
            "grid_column": null,
            "grid_gap": null,
            "grid_row": null,
            "grid_template_areas": null,
            "grid_template_columns": null,
            "grid_template_rows": null,
            "height": null,
            "justify_content": null,
            "justify_items": null,
            "left": null,
            "margin": null,
            "max_height": null,
            "max_width": null,
            "min_height": null,
            "min_width": null,
            "object_fit": null,
            "object_position": null,
            "order": null,
            "overflow": null,
            "overflow_x": null,
            "overflow_y": null,
            "padding": null,
            "right": null,
            "top": null,
            "visibility": null,
            "width": null
          }
        },
        "5f92fdc46d434c0e8b67707fcb254ea3": {
          "model_module": "@jupyter-widgets/controls",
          "model_name": "ProgressStyleModel",
          "model_module_version": "1.5.0",
          "state": {
            "_model_module": "@jupyter-widgets/controls",
            "_model_module_version": "1.5.0",
            "_model_name": "ProgressStyleModel",
            "_view_count": null,
            "_view_module": "@jupyter-widgets/base",
            "_view_module_version": "1.2.0",
            "_view_name": "StyleView",
            "bar_color": null,
            "description_width": ""
          }
        },
        "f190abb03fb943bfbf5fe9ac31fda7df": {
          "model_module": "@jupyter-widgets/base",
          "model_name": "LayoutModel",
          "model_module_version": "1.2.0",
          "state": {
            "_model_module": "@jupyter-widgets/base",
            "_model_module_version": "1.2.0",
            "_model_name": "LayoutModel",
            "_view_count": null,
            "_view_module": "@jupyter-widgets/base",
            "_view_module_version": "1.2.0",
            "_view_name": "LayoutView",
            "align_content": null,
            "align_items": null,
            "align_self": null,
            "border": null,
            "bottom": null,
            "display": null,
            "flex": null,
            "flex_flow": null,
            "grid_area": null,
            "grid_auto_columns": null,
            "grid_auto_flow": null,
            "grid_auto_rows": null,
            "grid_column": null,
            "grid_gap": null,
            "grid_row": null,
            "grid_template_areas": null,
            "grid_template_columns": null,
            "grid_template_rows": null,
            "height": null,
            "justify_content": null,
            "justify_items": null,
            "left": null,
            "margin": null,
            "max_height": null,
            "max_width": null,
            "min_height": null,
            "min_width": null,
            "object_fit": null,
            "object_position": null,
            "order": null,
            "overflow": null,
            "overflow_x": null,
            "overflow_y": null,
            "padding": null,
            "right": null,
            "top": null,
            "visibility": null,
            "width": null
          }
        },
        "5d8af42271dd4c0693c40a5055564717": {
          "model_module": "@jupyter-widgets/controls",
          "model_name": "DescriptionStyleModel",
          "model_module_version": "1.5.0",
          "state": {
            "_model_module": "@jupyter-widgets/controls",
            "_model_module_version": "1.5.0",
            "_model_name": "DescriptionStyleModel",
            "_view_count": null,
            "_view_module": "@jupyter-widgets/base",
            "_view_module_version": "1.2.0",
            "_view_name": "StyleView",
            "description_width": ""
          }
        },
        "2e827b2ab0fc46748e52b1208065e2d0": {
          "model_module": "@jupyter-widgets/controls",
          "model_name": "HBoxModel",
          "model_module_version": "1.5.0",
          "state": {
            "_dom_classes": [],
            "_model_module": "@jupyter-widgets/controls",
            "_model_module_version": "1.5.0",
            "_model_name": "HBoxModel",
            "_view_count": null,
            "_view_module": "@jupyter-widgets/controls",
            "_view_module_version": "1.5.0",
            "_view_name": "HBoxView",
            "box_style": "",
            "children": [
              "IPY_MODEL_8b892e00ca5a41d0bae90b2cff9f4a13",
              "IPY_MODEL_067d7bdbaa9a4ea5a12185b87f3e6cb0",
              "IPY_MODEL_748bfc22b4c04554a38ca015d3c13455"
            ],
            "layout": "IPY_MODEL_5ba5757a9fd24847bea21ae44741479d"
          }
        },
        "8b892e00ca5a41d0bae90b2cff9f4a13": {
          "model_module": "@jupyter-widgets/controls",
          "model_name": "HTMLModel",
          "model_module_version": "1.5.0",
          "state": {
            "_dom_classes": [],
            "_model_module": "@jupyter-widgets/controls",
            "_model_module_version": "1.5.0",
            "_model_name": "HTMLModel",
            "_view_count": null,
            "_view_module": "@jupyter-widgets/controls",
            "_view_module_version": "1.5.0",
            "_view_name": "HTMLView",
            "description": "",
            "description_tooltip": null,
            "layout": "IPY_MODEL_6789101a190c44f3ac1b57e8bf0bc1ae",
            "placeholder": "​",
            "style": "IPY_MODEL_52d70ab3ac66477bb154dc0f3c9baf32",
            "value": "config.json: 100%"
          }
        },
        "067d7bdbaa9a4ea5a12185b87f3e6cb0": {
          "model_module": "@jupyter-widgets/controls",
          "model_name": "FloatProgressModel",
          "model_module_version": "1.5.0",
          "state": {
            "_dom_classes": [],
            "_model_module": "@jupyter-widgets/controls",
            "_model_module_version": "1.5.0",
            "_model_name": "FloatProgressModel",
            "_view_count": null,
            "_view_module": "@jupyter-widgets/controls",
            "_view_module_version": "1.5.0",
            "_view_name": "ProgressView",
            "bar_style": "success",
            "description": "",
            "description_tooltip": null,
            "layout": "IPY_MODEL_d675c5a050024474b60c4264438d8079",
            "max": 665,
            "min": 0,
            "orientation": "horizontal",
            "style": "IPY_MODEL_903e333e54604e528d449323f0ad7b73",
            "value": 665
          }
        },
        "748bfc22b4c04554a38ca015d3c13455": {
          "model_module": "@jupyter-widgets/controls",
          "model_name": "HTMLModel",
          "model_module_version": "1.5.0",
          "state": {
            "_dom_classes": [],
            "_model_module": "@jupyter-widgets/controls",
            "_model_module_version": "1.5.0",
            "_model_name": "HTMLModel",
            "_view_count": null,
            "_view_module": "@jupyter-widgets/controls",
            "_view_module_version": "1.5.0",
            "_view_name": "HTMLView",
            "description": "",
            "description_tooltip": null,
            "layout": "IPY_MODEL_a1543c6747ae4f3789d348882231faf2",
            "placeholder": "​",
            "style": "IPY_MODEL_a48a468d11af498e883df3d8ee8923c8",
            "value": " 665/665 [00:00&lt;00:00, 44.6kB/s]"
          }
        },
        "5ba5757a9fd24847bea21ae44741479d": {
          "model_module": "@jupyter-widgets/base",
          "model_name": "LayoutModel",
          "model_module_version": "1.2.0",
          "state": {
            "_model_module": "@jupyter-widgets/base",
            "_model_module_version": "1.2.0",
            "_model_name": "LayoutModel",
            "_view_count": null,
            "_view_module": "@jupyter-widgets/base",
            "_view_module_version": "1.2.0",
            "_view_name": "LayoutView",
            "align_content": null,
            "align_items": null,
            "align_self": null,
            "border": null,
            "bottom": null,
            "display": null,
            "flex": null,
            "flex_flow": null,
            "grid_area": null,
            "grid_auto_columns": null,
            "grid_auto_flow": null,
            "grid_auto_rows": null,
            "grid_column": null,
            "grid_gap": null,
            "grid_row": null,
            "grid_template_areas": null,
            "grid_template_columns": null,
            "grid_template_rows": null,
            "height": null,
            "justify_content": null,
            "justify_items": null,
            "left": null,
            "margin": null,
            "max_height": null,
            "max_width": null,
            "min_height": null,
            "min_width": null,
            "object_fit": null,
            "object_position": null,
            "order": null,
            "overflow": null,
            "overflow_x": null,
            "overflow_y": null,
            "padding": null,
            "right": null,
            "top": null,
            "visibility": null,
            "width": null
          }
        },
        "6789101a190c44f3ac1b57e8bf0bc1ae": {
          "model_module": "@jupyter-widgets/base",
          "model_name": "LayoutModel",
          "model_module_version": "1.2.0",
          "state": {
            "_model_module": "@jupyter-widgets/base",
            "_model_module_version": "1.2.0",
            "_model_name": "LayoutModel",
            "_view_count": null,
            "_view_module": "@jupyter-widgets/base",
            "_view_module_version": "1.2.0",
            "_view_name": "LayoutView",
            "align_content": null,
            "align_items": null,
            "align_self": null,
            "border": null,
            "bottom": null,
            "display": null,
            "flex": null,
            "flex_flow": null,
            "grid_area": null,
            "grid_auto_columns": null,
            "grid_auto_flow": null,
            "grid_auto_rows": null,
            "grid_column": null,
            "grid_gap": null,
            "grid_row": null,
            "grid_template_areas": null,
            "grid_template_columns": null,
            "grid_template_rows": null,
            "height": null,
            "justify_content": null,
            "justify_items": null,
            "left": null,
            "margin": null,
            "max_height": null,
            "max_width": null,
            "min_height": null,
            "min_width": null,
            "object_fit": null,
            "object_position": null,
            "order": null,
            "overflow": null,
            "overflow_x": null,
            "overflow_y": null,
            "padding": null,
            "right": null,
            "top": null,
            "visibility": null,
            "width": null
          }
        },
        "52d70ab3ac66477bb154dc0f3c9baf32": {
          "model_module": "@jupyter-widgets/controls",
          "model_name": "DescriptionStyleModel",
          "model_module_version": "1.5.0",
          "state": {
            "_model_module": "@jupyter-widgets/controls",
            "_model_module_version": "1.5.0",
            "_model_name": "DescriptionStyleModel",
            "_view_count": null,
            "_view_module": "@jupyter-widgets/base",
            "_view_module_version": "1.2.0",
            "_view_name": "StyleView",
            "description_width": ""
          }
        },
        "d675c5a050024474b60c4264438d8079": {
          "model_module": "@jupyter-widgets/base",
          "model_name": "LayoutModel",
          "model_module_version": "1.2.0",
          "state": {
            "_model_module": "@jupyter-widgets/base",
            "_model_module_version": "1.2.0",
            "_model_name": "LayoutModel",
            "_view_count": null,
            "_view_module": "@jupyter-widgets/base",
            "_view_module_version": "1.2.0",
            "_view_name": "LayoutView",
            "align_content": null,
            "align_items": null,
            "align_self": null,
            "border": null,
            "bottom": null,
            "display": null,
            "flex": null,
            "flex_flow": null,
            "grid_area": null,
            "grid_auto_columns": null,
            "grid_auto_flow": null,
            "grid_auto_rows": null,
            "grid_column": null,
            "grid_gap": null,
            "grid_row": null,
            "grid_template_areas": null,
            "grid_template_columns": null,
            "grid_template_rows": null,
            "height": null,
            "justify_content": null,
            "justify_items": null,
            "left": null,
            "margin": null,
            "max_height": null,
            "max_width": null,
            "min_height": null,
            "min_width": null,
            "object_fit": null,
            "object_position": null,
            "order": null,
            "overflow": null,
            "overflow_x": null,
            "overflow_y": null,
            "padding": null,
            "right": null,
            "top": null,
            "visibility": null,
            "width": null
          }
        },
        "903e333e54604e528d449323f0ad7b73": {
          "model_module": "@jupyter-widgets/controls",
          "model_name": "ProgressStyleModel",
          "model_module_version": "1.5.0",
          "state": {
            "_model_module": "@jupyter-widgets/controls",
            "_model_module_version": "1.5.0",
            "_model_name": "ProgressStyleModel",
            "_view_count": null,
            "_view_module": "@jupyter-widgets/base",
            "_view_module_version": "1.2.0",
            "_view_name": "StyleView",
            "bar_color": null,
            "description_width": ""
          }
        },
        "a1543c6747ae4f3789d348882231faf2": {
          "model_module": "@jupyter-widgets/base",
          "model_name": "LayoutModel",
          "model_module_version": "1.2.0",
          "state": {
            "_model_module": "@jupyter-widgets/base",
            "_model_module_version": "1.2.0",
            "_model_name": "LayoutModel",
            "_view_count": null,
            "_view_module": "@jupyter-widgets/base",
            "_view_module_version": "1.2.0",
            "_view_name": "LayoutView",
            "align_content": null,
            "align_items": null,
            "align_self": null,
            "border": null,
            "bottom": null,
            "display": null,
            "flex": null,
            "flex_flow": null,
            "grid_area": null,
            "grid_auto_columns": null,
            "grid_auto_flow": null,
            "grid_auto_rows": null,
            "grid_column": null,
            "grid_gap": null,
            "grid_row": null,
            "grid_template_areas": null,
            "grid_template_columns": null,
            "grid_template_rows": null,
            "height": null,
            "justify_content": null,
            "justify_items": null,
            "left": null,
            "margin": null,
            "max_height": null,
            "max_width": null,
            "min_height": null,
            "min_width": null,
            "object_fit": null,
            "object_position": null,
            "order": null,
            "overflow": null,
            "overflow_x": null,
            "overflow_y": null,
            "padding": null,
            "right": null,
            "top": null,
            "visibility": null,
            "width": null
          }
        },
        "a48a468d11af498e883df3d8ee8923c8": {
          "model_module": "@jupyter-widgets/controls",
          "model_name": "DescriptionStyleModel",
          "model_module_version": "1.5.0",
          "state": {
            "_model_module": "@jupyter-widgets/controls",
            "_model_module_version": "1.5.0",
            "_model_name": "DescriptionStyleModel",
            "_view_count": null,
            "_view_module": "@jupyter-widgets/base",
            "_view_module_version": "1.2.0",
            "_view_name": "StyleView",
            "description_width": ""
          }
        },
        "76a932b6754b4b2fbaae3a731c30cd0a": {
          "model_module": "@jupyter-widgets/controls",
          "model_name": "HBoxModel",
          "model_module_version": "1.5.0",
          "state": {
            "_dom_classes": [],
            "_model_module": "@jupyter-widgets/controls",
            "_model_module_version": "1.5.0",
            "_model_name": "HBoxModel",
            "_view_count": null,
            "_view_module": "@jupyter-widgets/controls",
            "_view_module_version": "1.5.0",
            "_view_name": "HBoxView",
            "box_style": "",
            "children": [
              "IPY_MODEL_ae575db5889b4e48adce3e7ee862e1b9",
              "IPY_MODEL_a382d8ac6007445ba6ce3340afafa2ed",
              "IPY_MODEL_6f120a48d55f445280dec9db2db56fa7"
            ],
            "layout": "IPY_MODEL_aa2b653e0cbc4df8b3699a761b7ded76"
          }
        },
        "ae575db5889b4e48adce3e7ee862e1b9": {
          "model_module": "@jupyter-widgets/controls",
          "model_name": "HTMLModel",
          "model_module_version": "1.5.0",
          "state": {
            "_dom_classes": [],
            "_model_module": "@jupyter-widgets/controls",
            "_model_module_version": "1.5.0",
            "_model_name": "HTMLModel",
            "_view_count": null,
            "_view_module": "@jupyter-widgets/controls",
            "_view_module_version": "1.5.0",
            "_view_name": "HTMLView",
            "description": "",
            "description_tooltip": null,
            "layout": "IPY_MODEL_feef60414e5d4dedb7ec3bf94d64fff5",
            "placeholder": "​",
            "style": "IPY_MODEL_aac8cbf7bdd7439dac877be087d3d79f",
            "value": "model.safetensors: 100%"
          }
        },
        "a382d8ac6007445ba6ce3340afafa2ed": {
          "model_module": "@jupyter-widgets/controls",
          "model_name": "FloatProgressModel",
          "model_module_version": "1.5.0",
          "state": {
            "_dom_classes": [],
            "_model_module": "@jupyter-widgets/controls",
            "_model_module_version": "1.5.0",
            "_model_name": "FloatProgressModel",
            "_view_count": null,
            "_view_module": "@jupyter-widgets/controls",
            "_view_module_version": "1.5.0",
            "_view_name": "ProgressView",
            "bar_style": "success",
            "description": "",
            "description_tooltip": null,
            "layout": "IPY_MODEL_3d6b276ed46244a5b653e4772ba45c78",
            "max": 548105171,
            "min": 0,
            "orientation": "horizontal",
            "style": "IPY_MODEL_f29ed1f702af4511a34631bcefbe341e",
            "value": 548105171
          }
        },
        "6f120a48d55f445280dec9db2db56fa7": {
          "model_module": "@jupyter-widgets/controls",
          "model_name": "HTMLModel",
          "model_module_version": "1.5.0",
          "state": {
            "_dom_classes": [],
            "_model_module": "@jupyter-widgets/controls",
            "_model_module_version": "1.5.0",
            "_model_name": "HTMLModel",
            "_view_count": null,
            "_view_module": "@jupyter-widgets/controls",
            "_view_module_version": "1.5.0",
            "_view_name": "HTMLView",
            "description": "",
            "description_tooltip": null,
            "layout": "IPY_MODEL_6a196c47f49e4598957f25e0959e84b5",
            "placeholder": "​",
            "style": "IPY_MODEL_146ced168ef54f2bbdcd5218abc9b392",
            "value": " 548M/548M [00:06&lt;00:00, 95.7MB/s]"
          }
        },
        "aa2b653e0cbc4df8b3699a761b7ded76": {
          "model_module": "@jupyter-widgets/base",
          "model_name": "LayoutModel",
          "model_module_version": "1.2.0",
          "state": {
            "_model_module": "@jupyter-widgets/base",
            "_model_module_version": "1.2.0",
            "_model_name": "LayoutModel",
            "_view_count": null,
            "_view_module": "@jupyter-widgets/base",
            "_view_module_version": "1.2.0",
            "_view_name": "LayoutView",
            "align_content": null,
            "align_items": null,
            "align_self": null,
            "border": null,
            "bottom": null,
            "display": null,
            "flex": null,
            "flex_flow": null,
            "grid_area": null,
            "grid_auto_columns": null,
            "grid_auto_flow": null,
            "grid_auto_rows": null,
            "grid_column": null,
            "grid_gap": null,
            "grid_row": null,
            "grid_template_areas": null,
            "grid_template_columns": null,
            "grid_template_rows": null,
            "height": null,
            "justify_content": null,
            "justify_items": null,
            "left": null,
            "margin": null,
            "max_height": null,
            "max_width": null,
            "min_height": null,
            "min_width": null,
            "object_fit": null,
            "object_position": null,
            "order": null,
            "overflow": null,
            "overflow_x": null,
            "overflow_y": null,
            "padding": null,
            "right": null,
            "top": null,
            "visibility": null,
            "width": null
          }
        },
        "feef60414e5d4dedb7ec3bf94d64fff5": {
          "model_module": "@jupyter-widgets/base",
          "model_name": "LayoutModel",
          "model_module_version": "1.2.0",
          "state": {
            "_model_module": "@jupyter-widgets/base",
            "_model_module_version": "1.2.0",
            "_model_name": "LayoutModel",
            "_view_count": null,
            "_view_module": "@jupyter-widgets/base",
            "_view_module_version": "1.2.0",
            "_view_name": "LayoutView",
            "align_content": null,
            "align_items": null,
            "align_self": null,
            "border": null,
            "bottom": null,
            "display": null,
            "flex": null,
            "flex_flow": null,
            "grid_area": null,
            "grid_auto_columns": null,
            "grid_auto_flow": null,
            "grid_auto_rows": null,
            "grid_column": null,
            "grid_gap": null,
            "grid_row": null,
            "grid_template_areas": null,
            "grid_template_columns": null,
            "grid_template_rows": null,
            "height": null,
            "justify_content": null,
            "justify_items": null,
            "left": null,
            "margin": null,
            "max_height": null,
            "max_width": null,
            "min_height": null,
            "min_width": null,
            "object_fit": null,
            "object_position": null,
            "order": null,
            "overflow": null,
            "overflow_x": null,
            "overflow_y": null,
            "padding": null,
            "right": null,
            "top": null,
            "visibility": null,
            "width": null
          }
        },
        "aac8cbf7bdd7439dac877be087d3d79f": {
          "model_module": "@jupyter-widgets/controls",
          "model_name": "DescriptionStyleModel",
          "model_module_version": "1.5.0",
          "state": {
            "_model_module": "@jupyter-widgets/controls",
            "_model_module_version": "1.5.0",
            "_model_name": "DescriptionStyleModel",
            "_view_count": null,
            "_view_module": "@jupyter-widgets/base",
            "_view_module_version": "1.2.0",
            "_view_name": "StyleView",
            "description_width": ""
          }
        },
        "3d6b276ed46244a5b653e4772ba45c78": {
          "model_module": "@jupyter-widgets/base",
          "model_name": "LayoutModel",
          "model_module_version": "1.2.0",
          "state": {
            "_model_module": "@jupyter-widgets/base",
            "_model_module_version": "1.2.0",
            "_model_name": "LayoutModel",
            "_view_count": null,
            "_view_module": "@jupyter-widgets/base",
            "_view_module_version": "1.2.0",
            "_view_name": "LayoutView",
            "align_content": null,
            "align_items": null,
            "align_self": null,
            "border": null,
            "bottom": null,
            "display": null,
            "flex": null,
            "flex_flow": null,
            "grid_area": null,
            "grid_auto_columns": null,
            "grid_auto_flow": null,
            "grid_auto_rows": null,
            "grid_column": null,
            "grid_gap": null,
            "grid_row": null,
            "grid_template_areas": null,
            "grid_template_columns": null,
            "grid_template_rows": null,
            "height": null,
            "justify_content": null,
            "justify_items": null,
            "left": null,
            "margin": null,
            "max_height": null,
            "max_width": null,
            "min_height": null,
            "min_width": null,
            "object_fit": null,
            "object_position": null,
            "order": null,
            "overflow": null,
            "overflow_x": null,
            "overflow_y": null,
            "padding": null,
            "right": null,
            "top": null,
            "visibility": null,
            "width": null
          }
        },
        "f29ed1f702af4511a34631bcefbe341e": {
          "model_module": "@jupyter-widgets/controls",
          "model_name": "ProgressStyleModel",
          "model_module_version": "1.5.0",
          "state": {
            "_model_module": "@jupyter-widgets/controls",
            "_model_module_version": "1.5.0",
            "_model_name": "ProgressStyleModel",
            "_view_count": null,
            "_view_module": "@jupyter-widgets/base",
            "_view_module_version": "1.2.0",
            "_view_name": "StyleView",
            "bar_color": null,
            "description_width": ""
          }
        },
        "6a196c47f49e4598957f25e0959e84b5": {
          "model_module": "@jupyter-widgets/base",
          "model_name": "LayoutModel",
          "model_module_version": "1.2.0",
          "state": {
            "_model_module": "@jupyter-widgets/base",
            "_model_module_version": "1.2.0",
            "_model_name": "LayoutModel",
            "_view_count": null,
            "_view_module": "@jupyter-widgets/base",
            "_view_module_version": "1.2.0",
            "_view_name": "LayoutView",
            "align_content": null,
            "align_items": null,
            "align_self": null,
            "border": null,
            "bottom": null,
            "display": null,
            "flex": null,
            "flex_flow": null,
            "grid_area": null,
            "grid_auto_columns": null,
            "grid_auto_flow": null,
            "grid_auto_rows": null,
            "grid_column": null,
            "grid_gap": null,
            "grid_row": null,
            "grid_template_areas": null,
            "grid_template_columns": null,
            "grid_template_rows": null,
            "height": null,
            "justify_content": null,
            "justify_items": null,
            "left": null,
            "margin": null,
            "max_height": null,
            "max_width": null,
            "min_height": null,
            "min_width": null,
            "object_fit": null,
            "object_position": null,
            "order": null,
            "overflow": null,
            "overflow_x": null,
            "overflow_y": null,
            "padding": null,
            "right": null,
            "top": null,
            "visibility": null,
            "width": null
          }
        },
        "146ced168ef54f2bbdcd5218abc9b392": {
          "model_module": "@jupyter-widgets/controls",
          "model_name": "DescriptionStyleModel",
          "model_module_version": "1.5.0",
          "state": {
            "_model_module": "@jupyter-widgets/controls",
            "_model_module_version": "1.5.0",
            "_model_name": "DescriptionStyleModel",
            "_view_count": null,
            "_view_module": "@jupyter-widgets/base",
            "_view_module_version": "1.2.0",
            "_view_name": "StyleView",
            "description_width": ""
          }
        }
      }
    }
  },
  "cells": [
    {
      "cell_type": "markdown",
      "metadata": {
        "id": "view-in-github",
        "colab_type": "text"
      },
      "source": [
        "<a href=\"https://colab.research.google.com/github/addamit/LMExperiments/blob/main/attention_basics.ipynb\" target=\"_parent\"><img src=\"https://colab.research.google.com/assets/colab-badge.svg\" alt=\"Open In Colab\"/></a>"
      ]
    },
    {
      "cell_type": "code",
      "source": [
        "import torch"
      ],
      "metadata": {
        "id": "eGwKUPv61KEL"
      },
      "execution_count": 5,
      "outputs": []
    },
    {
      "cell_type": "code",
      "source": [
        "E = torch.tensor([\n",
        "    [0.1, 0.2, 0.3, 0.4],  # token 10\n",
        "    [0.2, 0.3, 0.4, 0.5],  # token 20\n",
        "    [0.3, 0.4, 0.5, 0.6],  # token 30\n",
        "    [0.4, 0.5, 0.6, 0.7],  # token 40\n",
        "    [0.5, 0.6, 0.7, 0.8],  # token 50\n",
        "    [0.6, 0.7, 0.8, 0.9]   # token 60\n",
        "])\n",
        "token_2 = E[1]\n",
        "token_2"
      ],
      "metadata": {
        "id": "ZoB0hMd_1KBC",
        "outputId": "c3d3b4c7-1389-49f6-dddd-50be722271d1",
        "colab": {
          "base_uri": "https://localhost:8080/"
        }
      },
      "execution_count": null,
      "outputs": [
        {
          "output_type": "execute_result",
          "data": {
            "text/plain": [
              "tensor([0.2000, 0.3000, 0.4000, 0.5000])"
            ]
          },
          "metadata": {},
          "execution_count": 2
        }
      ]
    },
    {
      "cell_type": "code",
      "source": [
        "r_2 = torch.dot(token_2, token_2)\n",
        "r_22 = 0.2*0.2 + 0.3*0.3 + 0.4*0.4 + 0.5*0.5\n",
        "r_2 == r_22"
      ],
      "metadata": {
        "id": "u4PLa5ls1J92",
        "outputId": "7ba33e0e-5d70-4c0f-c10d-858c34a10d49",
        "colab": {
          "base_uri": "https://localhost:8080/"
        }
      },
      "execution_count": null,
      "outputs": [
        {
          "output_type": "execute_result",
          "data": {
            "text/plain": [
              "tensor(True)"
            ]
          },
          "metadata": {},
          "execution_count": 3
        }
      ]
    },
    {
      "cell_type": "code",
      "source": [
        "\n",
        "torch.dot(token_2, E[5])"
      ],
      "metadata": {
        "id": "GFaNo54U3Trm",
        "outputId": "56c8a56b-5f94-4bc0-b7d5-6a3d282ebe9d",
        "colab": {
          "base_uri": "https://localhost:8080/"
        }
      },
      "execution_count": null,
      "outputs": [
        {
          "output_type": "execute_result",
          "data": {
            "text/plain": [
              "tensor(1.1000)"
            ]
          },
          "metadata": {},
          "execution_count": 4
        }
      ]
    },
    {
      "cell_type": "code",
      "source": [
        "num_tokens = E.shape[0]\n",
        "\n",
        "scores = torch.empty(num_tokens, num_tokens)\n",
        "for i in range(num_tokens):\n",
        "  for j in range(num_tokens):\n",
        "    scores[i][j] = torch.dot(E[i], E[j])\n"
      ],
      "metadata": {
        "id": "5bfoScSm2Woh"
      },
      "execution_count": null,
      "outputs": []
    },
    {
      "cell_type": "code",
      "source": [
        "scores"
      ],
      "metadata": {
        "id": "QWN-FNrg1J7A",
        "outputId": "b791b611-6f32-4f20-a71e-8464190b6025",
        "colab": {
          "base_uri": "https://localhost:8080/"
        }
      },
      "execution_count": null,
      "outputs": [
        {
          "output_type": "execute_result",
          "data": {
            "text/plain": [
              "tensor([[0.3000, 0.4000, 0.5000, 0.6000, 0.7000, 0.8000],\n",
              "        [0.4000, 0.5400, 0.6800, 0.8200, 0.9600, 1.1000],\n",
              "        [0.5000, 0.6800, 0.8600, 1.0400, 1.2200, 1.4000],\n",
              "        [0.6000, 0.8200, 1.0400, 1.2600, 1.4800, 1.7000],\n",
              "        [0.7000, 0.9600, 1.2200, 1.4800, 1.7400, 2.0000],\n",
              "        [0.8000, 1.1000, 1.4000, 1.7000, 2.0000, 2.3000]])"
            ]
          },
          "metadata": {},
          "execution_count": 6
        }
      ]
    },
    {
      "cell_type": "code",
      "source": [
        "scores.sum(dim=1)"
      ],
      "metadata": {
        "id": "xmXhVUmp3nXH",
        "outputId": "5d061290-b15a-49c9-d876-4fb8f6253ee6",
        "colab": {
          "base_uri": "https://localhost:8080/"
        }
      },
      "execution_count": null,
      "outputs": [
        {
          "output_type": "execute_result",
          "data": {
            "text/plain": [
              "tensor([3.3000, 4.5000, 5.7000, 6.9000, 8.1000, 9.3000])"
            ]
          },
          "metadata": {},
          "execution_count": 7
        }
      ]
    },
    {
      "cell_type": "code",
      "source": [
        "0.3 + 0.4 + 0.5 + 0.6 + 0.7 + 0.8"
      ],
      "metadata": {
        "id": "U1QqW4Fy3nT7",
        "outputId": "0d8b4839-0bd6-485b-8afb-07892c954296",
        "colab": {
          "base_uri": "https://localhost:8080/"
        }
      },
      "execution_count": null,
      "outputs": [
        {
          "output_type": "execute_result",
          "data": {
            "text/plain": [
              "3.3"
            ]
          },
          "metadata": {},
          "execution_count": 8
        }
      ]
    },
    {
      "cell_type": "code",
      "source": [
        "weighted_scores = scores / scores.sum(dim=1)"
      ],
      "metadata": {
        "id": "5sI8pYZW3nQP"
      },
      "execution_count": null,
      "outputs": []
    },
    {
      "cell_type": "code",
      "source": [
        "weighted_scores"
      ],
      "metadata": {
        "id": "QNvkju4A1J3z",
        "outputId": "19fc3659-fa28-447e-a17f-cf2fcfb12dea",
        "colab": {
          "base_uri": "https://localhost:8080/"
        }
      },
      "execution_count": null,
      "outputs": [
        {
          "output_type": "execute_result",
          "data": {
            "text/plain": [
              "tensor([[0.0909, 0.0889, 0.0877, 0.0870, 0.0864, 0.0860],\n",
              "        [0.1212, 0.1200, 0.1193, 0.1188, 0.1185, 0.1183],\n",
              "        [0.1515, 0.1511, 0.1509, 0.1507, 0.1506, 0.1505],\n",
              "        [0.1818, 0.1822, 0.1825, 0.1826, 0.1827, 0.1828],\n",
              "        [0.2121, 0.2133, 0.2140, 0.2145, 0.2148, 0.2151],\n",
              "        [0.2424, 0.2444, 0.2456, 0.2464, 0.2469, 0.2473]])"
            ]
          },
          "metadata": {},
          "execution_count": 21
        }
      ]
    },
    {
      "cell_type": "code",
      "source": [
        "weighted_scores.sum(dim=1)"
      ],
      "metadata": {
        "id": "XOJpHuHO1J0t",
        "outputId": "9b98038d-0b52-492d-b2ad-0acc175c298f",
        "colab": {
          "base_uri": "https://localhost:8080/"
        }
      },
      "execution_count": null,
      "outputs": [
        {
          "output_type": "execute_result",
          "data": {
            "text/plain": [
              "tensor([0.5269, 0.7161, 0.9054, 1.0946, 1.2839, 1.4731])"
            ]
          },
          "metadata": {},
          "execution_count": 10
        }
      ]
    },
    {
      "cell_type": "code",
      "source": [
        "weighted_scores = torch.softmax(scores, dim=1)\n",
        "weighted_scores"
      ],
      "metadata": {
        "id": "6n2JkYUb6CbM",
        "outputId": "6ddc71a2-a217-45bf-c5e8-0c4cb5bbe029",
        "colab": {
          "base_uri": "https://localhost:8080/"
        }
      },
      "execution_count": null,
      "outputs": [
        {
          "output_type": "execute_result",
          "data": {
            "text/plain": [
              "tensor([[0.1279, 0.1414, 0.1562, 0.1727, 0.1908, 0.2109],\n",
              "        [0.1142, 0.1313, 0.1510, 0.1737, 0.1999, 0.2299],\n",
              "        [0.1014, 0.1214, 0.1454, 0.1740, 0.2083, 0.2494],\n",
              "        [0.0897, 0.1118, 0.1393, 0.1735, 0.2163, 0.2695],\n",
              "        [0.0790, 0.1025, 0.1329, 0.1723, 0.2235, 0.2899],\n",
              "        [0.0693, 0.0935, 0.1262, 0.1704, 0.2300, 0.3105]])"
            ]
          },
          "metadata": {},
          "execution_count": 11
        }
      ]
    },
    {
      "cell_type": "code",
      "source": [
        "weighted_scores.sum(dim=1)"
      ],
      "metadata": {
        "id": "exgV9prW6CSR",
        "outputId": "c26f1157-5438-4f51-858f-21f0f53e2b67",
        "colab": {
          "base_uri": "https://localhost:8080/"
        }
      },
      "execution_count": null,
      "outputs": [
        {
          "output_type": "execute_result",
          "data": {
            "text/plain": [
              "tensor([1., 1., 1., 1., 1., 1.])"
            ]
          },
          "metadata": {},
          "execution_count": 12
        }
      ]
    },
    {
      "cell_type": "code",
      "source": [],
      "metadata": {
        "id": "joCzjE37-ubG"
      },
      "execution_count": null,
      "outputs": []
    },
    {
      "cell_type": "code",
      "source": [
        "token_2_attentions = weighted_scores[1]\n",
        "print(token_2_attentions.sum())\n",
        "token_2_attentions"
      ],
      "metadata": {
        "id": "lGilOMSw6CO2",
        "outputId": "e5e5f792-959f-401a-efcc-b0a03b07cbc0",
        "colab": {
          "base_uri": "https://localhost:8080/"
        }
      },
      "execution_count": null,
      "outputs": [
        {
          "output_type": "stream",
          "name": "stdout",
          "text": [
            "tensor(1.)\n"
          ]
        },
        {
          "output_type": "execute_result",
          "data": {
            "text/plain": [
              "tensor([0.1142, 0.1313, 0.1510, 0.1737, 0.1999, 0.2299])"
            ]
          },
          "metadata": {},
          "execution_count": 14
        }
      ]
    },
    {
      "cell_type": "code",
      "source": [
        "\n"
      ],
      "metadata": {
        "id": "0mqObVEO9-Sy"
      },
      "execution_count": null,
      "outputs": []
    },
    {
      "cell_type": "code",
      "source": [
        "context_vec = torch.zeros(1, 4) # calculating only 1 context vector for a given input token\n",
        "for i in range(num_tokens):\n",
        "  print(context_vec)\n",
        "  context_vec += token_2_attentions[i]*E[i]\n",
        "print(f\"final context vec {context_vec}\")"
      ],
      "metadata": {
        "id": "Q1Umb7SK6CLq",
        "outputId": "e24de576-59e2-4be5-b6d1-679e2b567201",
        "colab": {
          "base_uri": "https://localhost:8080/"
        }
      },
      "execution_count": null,
      "outputs": [
        {
          "output_type": "stream",
          "name": "stdout",
          "text": [
            "tensor([[0., 0., 0., 0.]])\n",
            "tensor([[0.0114, 0.0228, 0.0342, 0.0457]])\n",
            "tensor([[0.0377, 0.0622, 0.0868, 0.1113]])\n",
            "tensor([[0.0830, 0.1226, 0.1623, 0.2019]])\n",
            "tensor([[0.1525, 0.2095, 0.2665, 0.3236]])\n",
            "tensor([[0.2524, 0.3294, 0.4064, 0.4835]])\n",
            "final context vec tensor([[0.3903, 0.4903, 0.5903, 0.6903]])\n"
          ]
        }
      ]
    },
    {
      "cell_type": "code",
      "source": [
        "context_vec"
      ],
      "metadata": {
        "id": "JuaclLwe8yIn",
        "outputId": "4b3932ca-6825-42ea-bbf1-6a816d513ee2",
        "colab": {
          "base_uri": "https://localhost:8080/"
        }
      },
      "execution_count": null,
      "outputs": [
        {
          "output_type": "execute_result",
          "data": {
            "text/plain": [
              "tensor([[0.3903, 0.4903, 0.5903, 0.6903]])"
            ]
          },
          "metadata": {},
          "execution_count": 44
        }
      ]
    },
    {
      "cell_type": "code",
      "source": [
        "context_vecs = torch.zeros(num_tokens, 4) # All tokens. Each input is of size 4\n",
        "for i in range(num_tokens):\n",
        "  token_weighted_scores = weighted_scores[i]\n",
        "  #print(token_weighted_scores)\n",
        "  for j in range(num_tokens):\n",
        "    context_vecs[i] += token_weighted_scores[j]*E[j]\n"
      ],
      "metadata": {
        "id": "TjFsuNLf-56t"
      },
      "execution_count": null,
      "outputs": []
    },
    {
      "cell_type": "code",
      "source": [
        "context_vecs"
      ],
      "metadata": {
        "id": "WZZz5bVJ_laX",
        "outputId": "11b48e42-7a4c-405f-9b15-55703575127c",
        "colab": {
          "base_uri": "https://localhost:8080/"
        }
      },
      "execution_count": null,
      "outputs": [
        {
          "output_type": "execute_result",
          "data": {
            "text/plain": [
              "tensor([[0.3790, 0.4790, 0.5790, 0.6790],\n",
              "        [0.3903, 0.4903, 0.5903, 0.6903],\n",
              "        [0.4015, 0.5015, 0.6015, 0.7015],\n",
              "        [0.4123, 0.5123, 0.6123, 0.7123],\n",
              "        [0.4228, 0.5228, 0.6228, 0.7228],\n",
              "        [0.4330, 0.5330, 0.6330, 0.7330]])"
            ]
          },
          "metadata": {},
          "execution_count": 25
        }
      ]
    },
    {
      "cell_type": "code",
      "source": [
        "## More compact\n",
        "import torch\n",
        "import torch.nn as nn"
      ],
      "metadata": {
        "id": "Y0m-kyfFBYaO"
      },
      "execution_count": 9,
      "outputs": []
    },
    {
      "cell_type": "code",
      "source": [
        "# small vocab\n",
        "vocab = {\"<s>\": 0, \"I\": 1, \"like\": 2, \"AI\": 3, \".\": 4, \"<pad>\": 5, \"<unk>\": 6}\n",
        "inv_vocab = {v: k for k, v in vocab.items()}\n"
      ],
      "metadata": {
        "id": "KYcbujBEAtAx"
      },
      "execution_count": 10,
      "outputs": []
    },
    {
      "cell_type": "code",
      "source": [
        "# lets write a tokenizer\n",
        "def tokenize(text):\n",
        "  tokens = text.split()\n",
        "  token_ids = [vocab[token] if token in vocab else vocab[\"<unk>\"] for token in tokens]\n",
        "  return token_ids\n"
      ],
      "metadata": {
        "id": "GFC-Y7fMDHtU"
      },
      "execution_count": 11,
      "outputs": []
    },
    {
      "cell_type": "code",
      "source": [
        "text = \"<s> I like AI .\"\n",
        "inputs = tokenize(text)\n",
        "inputs"
      ],
      "metadata": {
        "id": "-rjmZ0z6EVAP",
        "outputId": "4236e2fe-c2b8-4161-be83-66f19230c8ca",
        "colab": {
          "base_uri": "https://localhost:8080/"
        }
      },
      "execution_count": 12,
      "outputs": [
        {
          "output_type": "execute_result",
          "data": {
            "text/plain": [
              "[0, 1, 2, 3, 4]"
            ]
          },
          "metadata": {},
          "execution_count": 12
        }
      ]
    },
    {
      "cell_type": "code",
      "source": [
        "input_ids = torch.tensor(inputs)\n",
        "input_ids, input_ids.shape"
      ],
      "metadata": {
        "id": "wrnKagEOE2_n",
        "outputId": "078b8750-73b7-4003-ddee-50fb71206cc7",
        "colab": {
          "base_uri": "https://localhost:8080/"
        }
      },
      "execution_count": 13,
      "outputs": [
        {
          "output_type": "execute_result",
          "data": {
            "text/plain": [
              "(tensor([0, 1, 2, 3, 4]), torch.Size([5]))"
            ]
          },
          "metadata": {},
          "execution_count": 13
        }
      ]
    },
    {
      "cell_type": "code",
      "source": [
        "# token gets projected as embedding\n",
        "embedding_weights = torch.tensor([\n",
        "    [0.1, 0.2, 0.3, 0.4],  # token <s>\n",
        "    [0.2, 0.3, 0.4, 0.5],  # token <I>\n",
        "    [0.3, 0.4, 0.5, 0.6],  # token <like>\n",
        "    [0.4, 0.5, 0.6, 0.7],  # token <AI>\n",
        "    [0.5, 0.6, 0.7, 0.8],  # token <.>\n",
        "    [0.6, 0.7, 0.8, 0.9]   # token <pad>\n",
        "])\n",
        "\n",
        "embedding_layer = nn.Embedding.from_pretrained(embedding_weights, freeze=True)\n"
      ],
      "metadata": {
        "id": "lmSpi0gkFDV2"
      },
      "execution_count": 14,
      "outputs": []
    },
    {
      "cell_type": "code",
      "source": [
        "x = embedding_layer(input_ids)\n",
        "x.shape"
      ],
      "metadata": {
        "id": "u3qjiB8yFkhF",
        "outputId": "5dea876f-0d8b-41a0-8527-80757781ee38",
        "colab": {
          "base_uri": "https://localhost:8080/"
        }
      },
      "execution_count": 15,
      "outputs": [
        {
          "output_type": "execute_result",
          "data": {
            "text/plain": [
              "torch.Size([5, 4])"
            ]
          },
          "metadata": {},
          "execution_count": 15
        }
      ]
    },
    {
      "cell_type": "code",
      "source": [
        "x"
      ],
      "metadata": {
        "colab": {
          "base_uri": "https://localhost:8080/"
        },
        "id": "2L8rQtIOuAy7",
        "outputId": "7bdadb53-c810-4b60-b477-5fe0cd867f32"
      },
      "execution_count": 16,
      "outputs": [
        {
          "output_type": "execute_result",
          "data": {
            "text/plain": [
              "tensor([[0.1000, 0.2000, 0.3000, 0.4000],\n",
              "        [0.2000, 0.3000, 0.4000, 0.5000],\n",
              "        [0.3000, 0.4000, 0.5000, 0.6000],\n",
              "        [0.4000, 0.5000, 0.6000, 0.7000],\n",
              "        [0.5000, 0.6000, 0.7000, 0.8000]])"
            ]
          },
          "metadata": {},
          "execution_count": 16
        }
      ]
    },
    {
      "cell_type": "code",
      "source": [
        "Wei_q = torch.tensor([  # Query weights\n",
        "    [1.0, 0.5],\n",
        "    [0.6, 0.3],\n",
        "    [0.4, 0.2],\n",
        "    [0.8, 0.7]\n",
        "])\n",
        "\n",
        "Wei_k = torch.tensor([  # Key weights\n",
        "    [0.9, 0.2],\n",
        "    [0.5, 0.4],\n",
        "    [0.3, 0.8],\n",
        "    [0.1, 0.6]\n",
        "])\n",
        "\n",
        "Wei_v = torch.tensor([  # Value weights\n",
        "    [0.8, 0.3],\n",
        "    [0.2, 0.5],\n",
        "    [0.7, 0.4],\n",
        "    [0.1, 0.9]\n",
        "])\n",
        "\n",
        "W_q = nn.Parameter(Wei_q, requires_grad=False)\n",
        "W_k = nn.Parameter(Wei_k, requires_grad=False)\n",
        "W_v = nn.Parameter(Wei_v, requires_grad=False)\n"
      ],
      "metadata": {
        "id": "1S5WUWWxF9gj"
      },
      "execution_count": 17,
      "outputs": []
    },
    {
      "cell_type": "code",
      "source": [
        "# projection\n",
        "Q = x @ W_q\n",
        "K = x @ W_k\n",
        "Q.shape, K.shape # All tokens are projected"
      ],
      "metadata": {
        "id": "9al02j31F5xN",
        "outputId": "0cd60383-d66d-42a5-ff04-9df30c91aa68",
        "colab": {
          "base_uri": "https://localhost:8080/"
        }
      },
      "execution_count": 18,
      "outputs": [
        {
          "output_type": "execute_result",
          "data": {
            "text/plain": [
              "(torch.Size([5, 2]), torch.Size([5, 2]))"
            ]
          },
          "metadata": {},
          "execution_count": 18
        }
      ]
    },
    {
      "cell_type": "code",
      "source": [
        "scores = Q @ K.transpose(-1, -2)\n",
        "scores\n"
      ],
      "metadata": {
        "id": "5iUS8GlpFtab",
        "outputId": "b79d8e2d-614a-4f4b-ddaa-699179a290f5",
        "colab": {
          "base_uri": "https://localhost:8080/"
        }
      },
      "execution_count": 19,
      "outputs": [
        {
          "output_type": "execute_result",
          "data": {
            "text/plain": [
              "tensor([[0.4722, 0.6810, 0.8898, 1.0986, 1.3074],\n",
              "        [0.6604, 0.9536, 1.2468, 1.5400, 1.8332],\n",
              "        [0.8486, 1.2262, 1.6038, 1.9814, 2.3590],\n",
              "        [1.0368, 1.4988, 1.9608, 2.4228, 2.8848],\n",
              "        [1.2250, 1.7714, 2.3178, 2.8642, 3.4106]])"
            ]
          },
          "metadata": {},
          "execution_count": 19
        }
      ]
    },
    {
      "cell_type": "code",
      "source": [
        "# Normalize the scores by the embedding dimension - \"scaled dot product attention\"\n",
        "scores = scores / (K.shape[-1] ** 0.5)\n",
        "scores"
      ],
      "metadata": {
        "colab": {
          "base_uri": "https://localhost:8080/"
        },
        "id": "t8uyUWMyu7yd",
        "outputId": "386f92dc-3a53-4a7e-f2f4-f39109fa5ae1"
      },
      "execution_count": 20,
      "outputs": [
        {
          "output_type": "execute_result",
          "data": {
            "text/plain": [
              "tensor([[0.3339, 0.4815, 0.6292, 0.7768, 0.9245],\n",
              "        [0.4670, 0.6743, 0.8816, 1.0889, 1.2963],\n",
              "        [0.6001, 0.8671, 1.1341, 1.4011, 1.6681],\n",
              "        [0.7331, 1.0598, 1.3865, 1.7132, 2.0399],\n",
              "        [0.8662, 1.2526, 1.6389, 2.0253, 2.4117]])"
            ]
          },
          "metadata": {},
          "execution_count": 20
        }
      ]
    },
    {
      "cell_type": "code",
      "source": [],
      "metadata": {
        "id": "MKAVOks2vPWB"
      },
      "execution_count": 23,
      "outputs": []
    },
    {
      "cell_type": "code",
      "source": [
        "torch.dot(Q[0], K[0]) / (K.shape[-1] ** 0.5) # manually verifying with scores for one"
      ],
      "metadata": {
        "id": "GlJoxXzcIsWO",
        "outputId": "b73598cc-e922-46b1-ecef-b91a598f6b72",
        "colab": {
          "base_uri": "https://localhost:8080/"
        }
      },
      "execution_count": 22,
      "outputs": [
        {
          "output_type": "execute_result",
          "data": {
            "text/plain": [
              "tensor(0.3339)"
            ]
          },
          "metadata": {},
          "execution_count": 22
        }
      ]
    },
    {
      "cell_type": "code",
      "source": [
        "attention_weights = torch.softmax(scores, dim=-1)\n",
        "attention_weights"
      ],
      "metadata": {
        "id": "X6fIBDMOI9Gc",
        "outputId": "72db0536-b8e0-414f-9f09-34489f465b80",
        "colab": {
          "base_uri": "https://localhost:8080/"
        }
      },
      "execution_count": 23,
      "outputs": [
        {
          "output_type": "execute_result",
          "data": {
            "text/plain": [
              "tensor([[0.1457, 0.1688, 0.1957, 0.2268, 0.2629],\n",
              "        [0.1266, 0.1558, 0.1917, 0.2358, 0.2901],\n",
              "        [0.1093, 0.1427, 0.1864, 0.2435, 0.3180],\n",
              "        [0.0937, 0.1300, 0.1802, 0.2498, 0.3463],\n",
              "        [0.0799, 0.1176, 0.1731, 0.2547, 0.3748]])"
            ]
          },
          "metadata": {},
          "execution_count": 23
        }
      ]
    },
    {
      "cell_type": "code",
      "source": [
        "attention_weights.sum(dim=1)"
      ],
      "metadata": {
        "colab": {
          "base_uri": "https://localhost:8080/"
        },
        "id": "p52GtvHixc2B",
        "outputId": "44bbd817-7ea1-4f45-8397-80f218958d71"
      },
      "execution_count": 24,
      "outputs": [
        {
          "output_type": "execute_result",
          "data": {
            "text/plain": [
              "tensor([1.0000, 1.0000, 1.0000, 1.0000, 1.0000])"
            ]
          },
          "metadata": {},
          "execution_count": 24
        }
      ]
    },
    {
      "cell_type": "code",
      "source": [
        "# lets recreate the softmax logic for one row\n",
        "import math\n",
        "total_exp = math.exp(scores[0][0]) + math.exp(scores[0][1]) + math.exp(scores[0][2]) + math.exp(scores[0][3])\n",
        "total_exp\n"
      ],
      "metadata": {
        "id": "8sZrmGc8I9Dj",
        "outputId": "dfc47a95-cd82-4995-bb3a-f611ba55c25c",
        "colab": {
          "base_uri": "https://localhost:8080/"
        }
      },
      "execution_count": 25,
      "outputs": [
        {
          "output_type": "execute_result",
          "data": {
            "text/plain": [
              "7.065603615893195"
            ]
          },
          "metadata": {},
          "execution_count": 25
        }
      ]
    },
    {
      "cell_type": "code",
      "source": [
        "row_wei = [math.exp(scores[0][0]) / total_exp, math.exp(scores[0][1]) / total_exp, math.exp(scores[0][2]) / total_exp, math.exp(scores[0][3]) / total_exp]\n",
        "row_wei\n",
        "row_wei_pt = torch.tensor(row_wei)\n",
        "row_wei_pt.sum()"
      ],
      "metadata": {
        "id": "Nhpx7gQ2KJ5F",
        "outputId": "7035ec29-8c3a-4f32-ab50-447c44580d39",
        "colab": {
          "base_uri": "https://localhost:8080/"
        }
      },
      "execution_count": 26,
      "outputs": [
        {
          "output_type": "execute_result",
          "data": {
            "text/plain": [
              "tensor(1.)"
            ]
          },
          "metadata": {},
          "execution_count": 26
        }
      ]
    },
    {
      "cell_type": "code",
      "source": [],
      "metadata": {
        "id": "l9wt6iKfLR9R"
      },
      "execution_count": 27,
      "outputs": []
    },
    {
      "cell_type": "code",
      "source": [
        "# packing it all together in a single line it looks like so:\n",
        "# Scaled dot product attention\n",
        "attention_scores = torch.softmax(Q @ K.transpose(-1, -2)/ K.shape[-1]**0.5 , dim=-1)\n",
        "attention_scores"
      ],
      "metadata": {
        "id": "LnPdcuvxJT_4",
        "outputId": "37ca14cb-b8e3-458c-d2f2-0e107fd6f40b",
        "colab": {
          "base_uri": "https://localhost:8080/"
        }
      },
      "execution_count": 27,
      "outputs": [
        {
          "output_type": "execute_result",
          "data": {
            "text/plain": [
              "tensor([[0.1457, 0.1688, 0.1957, 0.2268, 0.2629],\n",
              "        [0.1266, 0.1558, 0.1917, 0.2358, 0.2901],\n",
              "        [0.1093, 0.1427, 0.1864, 0.2435, 0.3180],\n",
              "        [0.0937, 0.1300, 0.1802, 0.2498, 0.3463],\n",
              "        [0.0799, 0.1176, 0.1731, 0.2547, 0.3748]])"
            ]
          },
          "metadata": {},
          "execution_count": 27
        }
      ]
    },
    {
      "cell_type": "code",
      "source": [
        "x.shape, W_v.shape"
      ],
      "metadata": {
        "colab": {
          "base_uri": "https://localhost:8080/"
        },
        "id": "FYe83vP7vuV1",
        "outputId": "41e65d01-e3a3-4e39-8726-f4a33ac04bca"
      },
      "execution_count": 29,
      "outputs": [
        {
          "output_type": "execute_result",
          "data": {
            "text/plain": [
              "(torch.Size([5, 4]), torch.Size([4, 2]))"
            ]
          },
          "metadata": {},
          "execution_count": 29
        }
      ]
    },
    {
      "cell_type": "code",
      "source": [
        "V = x @ W_v\n",
        "V.shape"
      ],
      "metadata": {
        "id": "juTwkkOMKwHY",
        "outputId": "b9638063-3a68-4366-f97b-2452a29527d8",
        "colab": {
          "base_uri": "https://localhost:8080/"
        }
      },
      "execution_count": 28,
      "outputs": [
        {
          "output_type": "execute_result",
          "data": {
            "text/plain": [
              "torch.Size([5, 2])"
            ]
          },
          "metadata": {},
          "execution_count": 28
        }
      ]
    },
    {
      "cell_type": "code",
      "source": [
        "attention_output = attention_scores @ V  # Weighted sum of values\n",
        "attention_output"
      ],
      "metadata": {
        "id": "Nl0thAUBI9A9",
        "outputId": "94d72bca-bdfb-4114-e497-983f9c5d272c",
        "colab": {
          "base_uri": "https://localhost:8080/"
        }
      },
      "execution_count": 30,
      "outputs": [
        {
          "output_type": "execute_result",
          "data": {
            "text/plain": [
              "tensor([[0.7827, 1.0914],\n",
              "        [0.8033, 1.1155],\n",
              "        [0.8233, 1.1388],\n",
              "        [0.8425, 1.1612],\n",
              "        [0.8608, 1.1826]])"
            ]
          },
          "metadata": {},
          "execution_count": 30
        }
      ]
    },
    {
      "cell_type": "code",
      "source": [
        "# Lets see how the above is weighted average for one token\n",
        "attention_weights_tok0 = attention_scores[0]\n",
        "print(attention_weights_tok0)\n"
      ],
      "metadata": {
        "id": "8na_Gcn0I8-P",
        "colab": {
          "base_uri": "https://localhost:8080/"
        },
        "outputId": "33e4aa92-c280-4787-b420-a7cf394e0333"
      },
      "execution_count": 31,
      "outputs": [
        {
          "output_type": "stream",
          "name": "stdout",
          "text": [
            "tensor([0.1457, 0.1688, 0.1957, 0.2268, 0.2629])\n"
          ]
        }
      ]
    },
    {
      "cell_type": "code",
      "source": [
        "contextvec_tok0 = torch.zeros(1,2)\n",
        "contextvec_tok0\n",
        "for i in range(V.shape[0]):\n",
        "  contextvec_tok0 += attention_weights_tok0[i]*V[i]\n",
        "contextvec_tok0 # this matches with attention_output[0]"
      ],
      "metadata": {
        "colab": {
          "base_uri": "https://localhost:8080/"
        },
        "id": "lHpU1QSpzKrG",
        "outputId": "9758f22f-1b4d-40de-90c9-3a66aac1b668"
      },
      "execution_count": 34,
      "outputs": [
        {
          "output_type": "execute_result",
          "data": {
            "text/plain": [
              "tensor([[0.7827, 1.0914]])"
            ]
          },
          "metadata": {},
          "execution_count": 34
        }
      ]
    },
    {
      "cell_type": "code",
      "source": [
        "# checking if two tensors are equal\n",
        "torch.allclose(attention_output[0], contextvec_tok0)"
      ],
      "metadata": {
        "id": "kay0HkCRI87c",
        "colab": {
          "base_uri": "https://localhost:8080/"
        },
        "outputId": "4a2e7854-8dcb-4a4b-b4bb-12e90b5d9839"
      },
      "execution_count": 37,
      "outputs": [
        {
          "output_type": "execute_result",
          "data": {
            "text/plain": [
              "True"
            ]
          },
          "metadata": {},
          "execution_count": 37
        }
      ]
    },
    {
      "cell_type": "code",
      "source": [
        "## now lets learn how to hide future tokens\n",
        "ones = torch.ones(attention_scores.shape)\n",
        "ones"
      ],
      "metadata": {
        "id": "xSp-SuX-I84N",
        "colab": {
          "base_uri": "https://localhost:8080/"
        },
        "outputId": "5d618387-1b62-4382-d038-2bbc277821d0"
      },
      "execution_count": 38,
      "outputs": [
        {
          "output_type": "execute_result",
          "data": {
            "text/plain": [
              "tensor([[1., 1., 1., 1., 1.],\n",
              "        [1., 1., 1., 1., 1.],\n",
              "        [1., 1., 1., 1., 1.],\n",
              "        [1., 1., 1., 1., 1.],\n",
              "        [1., 1., 1., 1., 1.]])"
            ]
          },
          "metadata": {},
          "execution_count": 38
        }
      ]
    },
    {
      "cell_type": "code",
      "source": [
        "mask = torch.tril(ones)\n",
        "mask"
      ],
      "metadata": {
        "colab": {
          "base_uri": "https://localhost:8080/"
        },
        "id": "cmLTod582k9F",
        "outputId": "a537108b-0a8f-4cfe-ae97-00a2a2e6f4ac"
      },
      "execution_count": 40,
      "outputs": [
        {
          "output_type": "execute_result",
          "data": {
            "text/plain": [
              "tensor([[1., 0., 0., 0., 0.],\n",
              "        [1., 1., 0., 0., 0.],\n",
              "        [1., 1., 1., 0., 0.],\n",
              "        [1., 1., 1., 1., 0.],\n",
              "        [1., 1., 1., 1., 1.]])"
            ]
          },
          "metadata": {},
          "execution_count": 40
        }
      ]
    },
    {
      "cell_type": "code",
      "source": [
        "masked_attention_weights = attention_weights * mask\n",
        "masked_attention_weights"
      ],
      "metadata": {
        "id": "bvlk5tIsI81O",
        "colab": {
          "base_uri": "https://localhost:8080/"
        },
        "outputId": "3bc2f120-5f95-4952-cf4f-4e98a5507b41"
      },
      "execution_count": 41,
      "outputs": [
        {
          "output_type": "execute_result",
          "data": {
            "text/plain": [
              "tensor([[0.1457, 0.0000, 0.0000, 0.0000, 0.0000],\n",
              "        [0.1266, 0.1558, 0.0000, 0.0000, 0.0000],\n",
              "        [0.1093, 0.1427, 0.1864, 0.0000, 0.0000],\n",
              "        [0.0937, 0.1300, 0.1802, 0.2498, 0.0000],\n",
              "        [0.0799, 0.1176, 0.1731, 0.2547, 0.3748]])"
            ]
          },
          "metadata": {},
          "execution_count": 41
        }
      ]
    },
    {
      "cell_type": "code",
      "source": [
        "row_sum = masked_attention_weights.sum(dim=-1)"
      ],
      "metadata": {
        "id": "qvmjSltb2pcu"
      },
      "execution_count": 45,
      "outputs": []
    },
    {
      "cell_type": "code",
      "source": [
        "row_sum.unsqueeze(-1)"
      ],
      "metadata": {
        "colab": {
          "base_uri": "https://localhost:8080/"
        },
        "id": "mPz_TiiM33xp",
        "outputId": "70bb3ecb-dd8c-475b-b6d4-be0d83fbcbab"
      },
      "execution_count": 48,
      "outputs": [
        {
          "output_type": "execute_result",
          "data": {
            "text/plain": [
              "tensor([[0.1457],\n",
              "        [0.2824],\n",
              "        [0.4385],\n",
              "        [0.6537],\n",
              "        [1.0000]])"
            ]
          },
          "metadata": {},
          "execution_count": 48
        }
      ]
    },
    {
      "cell_type": "code",
      "source": [
        "causal_attention_weights = masked_attention_weights / row_sum.unsqueeze(-1)"
      ],
      "metadata": {
        "id": "fnY9MobM3lMC"
      },
      "execution_count": 49,
      "outputs": []
    },
    {
      "cell_type": "code",
      "source": [
        "causal_attention_weights.sum(dim=-1)"
      ],
      "metadata": {
        "colab": {
          "base_uri": "https://localhost:8080/"
        },
        "id": "CCOoxAji2p91",
        "outputId": "f5d2607e-5fd3-4d38-a098-e43fd9c686ea"
      },
      "execution_count": 51,
      "outputs": [
        {
          "output_type": "execute_result",
          "data": {
            "text/plain": [
              "tensor([1., 1., 1., 1., 1.])"
            ]
          },
          "metadata": {},
          "execution_count": 51
        }
      ]
    },
    {
      "cell_type": "code",
      "source": [
        "causal_attention_weights"
      ],
      "metadata": {
        "colab": {
          "base_uri": "https://localhost:8080/"
        },
        "id": "EeBvSTdT2qFo",
        "outputId": "10916fc3-1f62-4a68-fb97-224589ba8aae"
      },
      "execution_count": 52,
      "outputs": [
        {
          "output_type": "execute_result",
          "data": {
            "text/plain": [
              "tensor([[1.0000, 0.0000, 0.0000, 0.0000, 0.0000],\n",
              "        [0.4484, 0.5516, 0.0000, 0.0000, 0.0000],\n",
              "        [0.2493, 0.3256, 0.4252, 0.0000, 0.0000],\n",
              "        [0.1434, 0.1988, 0.2756, 0.3821, 0.0000],\n",
              "        [0.0799, 0.1176, 0.1731, 0.2547, 0.3748]])"
            ]
          },
          "metadata": {},
          "execution_count": 52
        }
      ]
    },
    {
      "cell_type": "code",
      "source": [
        "mask = torch.triu(torch.ones(5, 5), diagonal=1)\n",
        "mask"
      ],
      "metadata": {
        "colab": {
          "base_uri": "https://localhost:8080/"
        },
        "id": "oV39yn_64HBR",
        "outputId": "1d1155b2-fdc5-4640-c4f3-3d2323fbc7b6"
      },
      "execution_count": 59,
      "outputs": [
        {
          "output_type": "execute_result",
          "data": {
            "text/plain": [
              "tensor([[0., 1., 1., 1., 1.],\n",
              "        [0., 0., 1., 1., 1.],\n",
              "        [0., 0., 0., 1., 1.],\n",
              "        [0., 0., 0., 0., 1.],\n",
              "        [0., 0., 0., 0., 0.]])"
            ]
          },
          "metadata": {},
          "execution_count": 59
        }
      ]
    },
    {
      "cell_type": "code",
      "source": [
        "mask.bool()"
      ],
      "metadata": {
        "colab": {
          "base_uri": "https://localhost:8080/"
        },
        "id": "FYPeS3sk6TyH",
        "outputId": "c5ec2383-bb05-4e06-a6bc-8d16524b9cf7"
      },
      "execution_count": 60,
      "outputs": [
        {
          "output_type": "execute_result",
          "data": {
            "text/plain": [
              "tensor([[False,  True,  True,  True,  True],\n",
              "        [False, False,  True,  True,  True],\n",
              "        [False, False, False,  True,  True],\n",
              "        [False, False, False, False,  True],\n",
              "        [False, False, False, False, False]])"
            ]
          },
          "metadata": {},
          "execution_count": 60
        }
      ]
    },
    {
      "cell_type": "code",
      "source": [
        "attention_weights.masked_fill(mask.bool(), float('-inf'))"
      ],
      "metadata": {
        "colab": {
          "base_uri": "https://localhost:8080/"
        },
        "id": "chQaM1jR6d21",
        "outputId": "36af1bc8-debd-4eae-a637-4b09af65d78f"
      },
      "execution_count": 62,
      "outputs": [
        {
          "output_type": "execute_result",
          "data": {
            "text/plain": [
              "tensor([[0.1457,   -inf,   -inf,   -inf,   -inf],\n",
              "        [0.1266, 0.1558,   -inf,   -inf,   -inf],\n",
              "        [0.1093, 0.1427, 0.1864,   -inf,   -inf],\n",
              "        [0.0937, 0.1300, 0.1802, 0.2498,   -inf],\n",
              "        [0.0799, 0.1176, 0.1731, 0.2547, 0.3748]])"
            ]
          },
          "metadata": {},
          "execution_count": 62
        }
      ]
    },
    {
      "cell_type": "code",
      "source": [
        "causal_attention_weights = torch.softmax(attention_weights.masked_fill(mask.bool(), float('-inf')), dim=-1)\n",
        "causal_attention_weights"
      ],
      "metadata": {
        "colab": {
          "base_uri": "https://localhost:8080/"
        },
        "id": "CPtS3QQF6yyr",
        "outputId": "d46fb7c1-a9c5-4c30-eff9-27eeb605e76b"
      },
      "execution_count": 63,
      "outputs": [
        {
          "output_type": "execute_result",
          "data": {
            "text/plain": [
              "tensor([[1.0000, 0.0000, 0.0000, 0.0000, 0.0000],\n",
              "        [0.4927, 0.5073, 0.0000, 0.0000, 0.0000],\n",
              "        [0.3211, 0.3320, 0.3469, 0.0000, 0.0000],\n",
              "        [0.2328, 0.2414, 0.2538, 0.2721, 0.0000],\n",
              "        [0.1764, 0.1831, 0.1936, 0.2100, 0.2369]])"
            ]
          },
          "metadata": {},
          "execution_count": 63
        }
      ]
    },
    {
      "cell_type": "code",
      "source": [
        "\n",
        "m = torch.triu(torch.ones(5, 5), diagonal=1)\n",
        "m.bool()\n",
        "t = torch.randn(5,5)\n",
        "t.masked_fill(m.bool(), float('-inf'))\n"
      ],
      "metadata": {
        "id": "dY8sNQGT_mHb",
        "outputId": "d6738433-348a-49b1-9f05-fb544d2bfe07",
        "colab": {
          "base_uri": "https://localhost:8080/"
        }
      },
      "execution_count": 70,
      "outputs": [
        {
          "output_type": "execute_result",
          "data": {
            "text/plain": [
              "tensor([[-0.3347,    -inf,    -inf,    -inf,    -inf],\n",
              "        [-0.8329, -0.4303,    -inf,    -inf,    -inf],\n",
              "        [ 1.2636, -1.2162, -0.4066,    -inf,    -inf],\n",
              "        [ 0.5300,  0.6473, -2.0347,  0.3024,    -inf],\n",
              "        [ 0.7117, -1.1402,  2.3720,  0.3692,  0.1019]])"
            ]
          },
          "metadata": {},
          "execution_count": 70
        }
      ]
    },
    {
      "cell_type": "code",
      "source": [
        "class CausalAttention(nn.Module):\n",
        "\n",
        "  def __init__(self, context_len, embedding_dim, head_dim, use_bias):\n",
        "    super().__init__()\n",
        "    self.head_dim = head_dim\n",
        "    self.context_len = context_len\n",
        "    self.query = nn.Linear(embedding_dim, head_dim, bias=use_bias)\n",
        "    self.key   = nn.Linear(embedding_dim, head_dim, bias=use_bias)\n",
        "    self.value = nn.Linear(embedding_dim, head_dim, bias=use_bias)\n",
        "    self.register_buffer('mask', torch.triu(torch.ones(context_len, context_len), diagonal=1))\n",
        "\n",
        "  def formard(self, x):\n",
        "\n",
        "    q = self.query(x) # projecting x to q\n",
        "    k = self.key(x)   # projecting x to k\n",
        "    v = self.value(x) # projecting x to v\n",
        "\n",
        "    scores = q @ k.transpose(-1, -2) / (self.head_dim ** 0.5)  # scaled dot product\n",
        "\n",
        "\n"
      ],
      "metadata": {
        "id": "JBa-gug35NZy"
      },
      "execution_count": null,
      "outputs": []
    },
    {
      "cell_type": "code",
      "source": [],
      "metadata": {
        "id": "fLE47hpY2qOD"
      },
      "execution_count": null,
      "outputs": []
    },
    {
      "cell_type": "code",
      "source": [],
      "metadata": {
        "id": "x1uCvJ2_I8yk"
      },
      "execution_count": null,
      "outputs": []
    },
    {
      "cell_type": "code",
      "source": [],
      "metadata": {
        "id": "QcUUNZMdI8v5"
      },
      "execution_count": null,
      "outputs": []
    },
    {
      "cell_type": "code",
      "source": [
        "# Now, for a single attention head, let's define some example weight matrices:\n",
        "W_q = torch.tensor([  # Query weights\n",
        "    [1.0, 0.5],\n",
        "    [0.6, 0.3],\n",
        "    [0.4, 0.2],\n",
        "    [0.8, 0.7]\n",
        "])\n",
        "\n",
        "W_k = torch.tensor([  # Key weights\n",
        "    [0.9, 0.2],\n",
        "    [0.5, 0.4],\n",
        "    [0.3, 0.8],\n",
        "    [0.1, 0.6]\n",
        "])\n",
        "\n",
        "W_v = torch.tensor([  # Value weights\n",
        "    [0.8, 0.3],\n",
        "    [0.2, 0.5],\n",
        "    [0.7, 0.4],\n",
        "    [0.1, 0.9]\n",
        "])\n"
      ],
      "metadata": {
        "id": "sYrB3slf-53F"
      },
      "execution_count": null,
      "outputs": []
    },
    {
      "cell_type": "code",
      "source": [],
      "metadata": {
        "id": "GjaHDPCQAMyC"
      },
      "execution_count": null,
      "outputs": []
    },
    {
      "cell_type": "code",
      "source": [],
      "metadata": {
        "id": "wBbJ66tMANSV"
      },
      "execution_count": null,
      "outputs": []
    },
    {
      "cell_type": "code",
      "source": [],
      "metadata": {
        "id": "v1LlQ-TcANkR"
      },
      "execution_count": null,
      "outputs": []
    },
    {
      "cell_type": "code",
      "source": [],
      "metadata": {
        "id": "SQFjI2vd8yFq"
      },
      "execution_count": null,
      "outputs": []
    },
    {
      "cell_type": "code",
      "source": [],
      "metadata": {
        "id": "46n5KqhO8yCX"
      },
      "execution_count": null,
      "outputs": []
    },
    {
      "cell_type": "code",
      "source": [],
      "metadata": {
        "id": "TBhby8cE8x_K"
      },
      "execution_count": null,
      "outputs": []
    },
    {
      "cell_type": "code",
      "source": [],
      "metadata": {
        "id": "8JHasg681Jqb"
      },
      "execution_count": null,
      "outputs": []
    },
    {
      "cell_type": "markdown",
      "source": [
        "Prefill phase is a compute bound issue.   \n",
        "\n",
        "What does compute bound means?   \n",
        "\n",
        "Constrained by the amount of compute available"
      ],
      "metadata": {
        "id": "PKjapNGp4mI5"
      }
    },
    {
      "cell_type": "code",
      "source": [],
      "metadata": {
        "id": "aR0AW7oB1I5u"
      },
      "execution_count": null,
      "outputs": []
    },
    {
      "cell_type": "markdown",
      "source": [
        "1. Within each layer: During prefill, we are calculating the K, Q, and V matrices for the entire input sequence. However, the layer processing still follows a sequential pattern:\n",
        "\n",
        "Within each layer: All token positions are processed in parallel\n",
        "For each position, Q, K, V projections are calculated simultaneously\n",
        "Attention scores for all positions are computed in parallel\n",
        "2. Across layers: Processing happens sequentially\n",
        "\n",
        "Layer 1 must complete for all tokens before Layer 2 can begin\n",
        "Layer 2 must complete before Layer 3, and so on\n",
        "Each subsequent layer takes as input the output of the previous layer\n",
        "This sequential layer processing is necessary because each layer's input depends on the output of the previous layer. There's a data dependency that can't be parallelized away"
      ],
      "metadata": {
        "id": "66hX9nfj4xfz"
      }
    },
    {
      "cell_type": "markdown",
      "source": [
        "During prefill, all K and V values are computed first for the entire input sequence\n",
        "\n",
        "Then all attention calculations can happen in parallel, with each row using the appropriate subset of K and V values\n",
        "The causal mask ensures each position only attends to current and previous positions\n",
        "\n",
        "This shared access to K and V values doesn't break parallelism because we're not waiting for intermediate results of attention calculations - we're just sharing the input projections across all the parallel computations."
      ],
      "metadata": {
        "id": "AycL10LS5C9r"
      }
    },
    {
      "cell_type": "markdown",
      "source": [],
      "metadata": {
        "id": "laZLl2tx5PfY"
      }
    },
    {
      "cell_type": "code",
      "source": [],
      "metadata": {
        "id": "tBN4J5Mis2hJ"
      },
      "execution_count": null,
      "outputs": []
    },
    {
      "cell_type": "markdown",
      "source": [
        "When we multiply two matrices, pytorch can internally parallelize the multiplication in multiple cpu cores. One way would be to internally use threads on separate cores and each thread will perform multiplication on a subset of columns and concatenate the columns into the final matrix.\n"
      ],
      "metadata": {
        "id": "aJ9m81F3s4Ln"
      }
    },
    {
      "cell_type": "code",
      "source": [
        "import os\n",
        "import time\n",
        "import torch"
      ],
      "metadata": {
        "id": "OxaPQCOft1_j"
      },
      "execution_count": null,
      "outputs": []
    },
    {
      "cell_type": "code",
      "source": [
        "rows,cols = 1000, 1000\n",
        "A = torch.randn(rows, cols)\n",
        "B = torch.randn(rows, cols)\n",
        "start = time.time()\n",
        "C = torch.matmul(A, B)\n",
        "end = time.time()\n",
        "print(f\"time taken: {end-start}\")"
      ],
      "metadata": {
        "colab": {
          "base_uri": "https://localhost:8080/"
        },
        "id": "55Jcu31Tr0pT",
        "outputId": "de303660-e5da-4020-b5e2-749b72876c7d"
      },
      "execution_count": null,
      "outputs": [
        {
          "output_type": "stream",
          "name": "stdout",
          "text": [
            "time taken: 0.042360782623291016\n"
          ]
        }
      ]
    },
    {
      "cell_type": "code",
      "source": [
        "C.shape"
      ],
      "metadata": {
        "colab": {
          "base_uri": "https://localhost:8080/"
        },
        "id": "KMFDp--fsz26",
        "outputId": "b3ee3e17-84cd-445c-b699-aa48d64b36c9"
      },
      "execution_count": null,
      "outputs": [
        {
          "output_type": "execute_result",
          "data": {
            "text/plain": [
              "torch.Size([1000, 1000])"
            ]
          },
          "metadata": {},
          "execution_count": 3
        }
      ]
    },
    {
      "cell_type": "markdown",
      "source": [
        "Lets hand roll one to understand better"
      ],
      "metadata": {
        "id": "rl2GxYLFt86M"
      }
    },
    {
      "cell_type": "code",
      "source": [
        "num_threads = 2\n",
        "partition = cols // num_threads\n",
        "partition\n",
        "C1 = torch.matmul(A, B[:, :partition])\n",
        "C2 = torch.matmul(A, B[:, partition:])"
      ],
      "metadata": {
        "id": "6tlPMCCf5CB9"
      },
      "execution_count": null,
      "outputs": []
    },
    {
      "cell_type": "code",
      "source": [
        "C1.shape, C2.shape\n",
        "C_ = torch.cat([C1, C2], dim=1)\n",
        "C_.shape"
      ],
      "metadata": {
        "colab": {
          "base_uri": "https://localhost:8080/"
        },
        "id": "VNCpgXCCuaNg",
        "outputId": "cf4d67d0-9910-40ad-a126-4430471de2d8"
      },
      "execution_count": null,
      "outputs": [
        {
          "output_type": "execute_result",
          "data": {
            "text/plain": [
              "torch.Size([1000, 1000])"
            ]
          },
          "metadata": {},
          "execution_count": 19
        }
      ]
    },
    {
      "cell_type": "code",
      "source": [
        "are_equal = torch.allclose(C, C_, atol=1e-3)\n",
        "print(are_equal)"
      ],
      "metadata": {
        "colab": {
          "base_uri": "https://localhost:8080/"
        },
        "id": "5Pn6b0IizSmP",
        "outputId": "0edbb76a-91cc-4ce4-90c7-a23353d2a2d6"
      },
      "execution_count": null,
      "outputs": [
        {
          "output_type": "stream",
          "name": "stdout",
          "text": [
            "True\n"
          ]
        }
      ]
    },
    {
      "cell_type": "code",
      "source": [
        "# lets see how many threads are setup for torch\n",
        "torch_thread_count = torch.get_num_threads()\n",
        "print(f\"torch threads: {torch_thread_count}\")\n",
        "\n",
        "# lets see how many cpu cores we have on\n",
        "cores = os.cpu_count()\n",
        "print(f\"cpu cores: {cores}\")\n",
        "\n",
        "# now lets set the number of threads equaling the number of cores\n",
        "torch.set_num_threads(cores)\n",
        "torch_thread_count = torch.get_num_threads()\n",
        "print(f\"torch threads: {torch_thread_count}\")\n",
        "\n"
      ],
      "metadata": {
        "colab": {
          "base_uri": "https://localhost:8080/"
        },
        "id": "lMJfGpgYuGfF",
        "outputId": "50298906-e3f2-4fb2-b500-d1fb8b097332"
      },
      "execution_count": null,
      "outputs": [
        {
          "output_type": "stream",
          "name": "stdout",
          "text": [
            "torch threads: 1\n",
            "cpu cores: 2\n",
            "torch threads: 2\n"
          ]
        }
      ]
    },
    {
      "cell_type": "code",
      "source": [
        "\n",
        "# now lets perform the same multiplication we did earlier except this time torch will leverage cores internally.\n",
        "start = time.time()\n",
        "C = torch.matmul(A, B)\n",
        "end = time.time()\n",
        "print(f\"time taken: {end-start}\")\n"
      ],
      "metadata": {
        "colab": {
          "base_uri": "https://localhost:8080/"
        },
        "id": "zatMSAivxMiH",
        "outputId": "0539f613-340a-4742-b820-a96bcc74b92c"
      },
      "execution_count": null,
      "outputs": [
        {
          "output_type": "stream",
          "name": "stdout",
          "text": [
            "time taken: 0.06766867637634277\n"
          ]
        }
      ]
    },
    {
      "cell_type": "code",
      "source": [
        "# now lets create large matrix for multiplication\n",
        "N = 5000\n",
        "A = torch.randn(N, N)\n",
        "B = torch.randn(N, N)\n",
        "\n",
        "# lets create a function to wrap things up so we can test different thread counts\n",
        "def benchmark_matmul(num_threads):\n",
        "    torch.set_num_threads(num_threads)\n",
        "    start = time.time()\n",
        "    C = torch.matmul(A, B)\n",
        "    end = time.time()\n",
        "    print(f\"time taken: {end-start}\")\n",
        "    return end - start\n",
        "\n"
      ],
      "metadata": {
        "id": "LapR9XGOwpXf"
      },
      "execution_count": null,
      "outputs": []
    },
    {
      "cell_type": "code",
      "source": [
        "benchmark_matmul(num_threads=1)\n",
        "benchmark_matmul(num_threads=2)\n",
        "benchmark_matmul(num_threads=8) # if number of threads is more than num of cores the perfomance suffers\n"
      ],
      "metadata": {
        "colab": {
          "base_uri": "https://localhost:8080/"
        },
        "id": "RP6_3SbDuHCM",
        "outputId": "fe52805a-2091-4ac1-c383-abc052235a0f"
      },
      "execution_count": null,
      "outputs": [
        {
          "output_type": "stream",
          "name": "stdout",
          "text": [
            "time taken: 3.727259635925293\n",
            "time taken: 3.3741724491119385\n",
            "time taken: 8.147592544555664\n"
          ]
        },
        {
          "output_type": "execute_result",
          "data": {
            "text/plain": [
              "8.147592544555664"
            ]
          },
          "metadata": {},
          "execution_count": 13
        }
      ]
    },
    {
      "cell_type": "code",
      "source": [
        "# now lets see if we have a gpu, how can we make this faster\n",
        "if torch.cuda.is_available():\n",
        "    device = torch.device(\"cuda\")\n",
        "    A = A.to(device)\n",
        "    B = B.to(device)\n",
        "    start = time.time()\n",
        "    C = torch.matmul(A, B)\n",
        "    end = time.time()\n",
        "    print(f\"time taken: {end-start}\")"
      ],
      "metadata": {
        "id": "VL8Q2PXYyXo0"
      },
      "execution_count": null,
      "outputs": []
    },
    {
      "cell_type": "code",
      "source": [],
      "metadata": {
        "id": "aCDjNwbNuHH2"
      },
      "execution_count": null,
      "outputs": []
    },
    {
      "cell_type": "code",
      "source": [
        "import torch\n",
        "import math\n",
        "import torch.nn as nn\n",
        "import torch.nn.functional as F"
      ],
      "metadata": {
        "id": "qBNsosLSvkxH"
      },
      "execution_count": null,
      "outputs": []
    },
    {
      "cell_type": "markdown",
      "source": [
        "Imagine we have the following input sequence tokens\n",
        "[10, 20, 30, 40, 50, 60].\n",
        "\n",
        "First, we convert these tokens into embeddings.\n",
        "\n",
        "For simplicity, let's say our embedding table gives us:\n",
        "\n",
        "Token 10 → [0.1, 0.2, 0.3, 0.4]  \n",
        "Token 20 → [0.2, 0.3, 0.4, 0.5]  \n",
        "Token 30 → [0.3, 0.4, 0.5, 0.6]  \n",
        "Token 40 → [0.4, 0.5, 0.6, 0.7]  \n",
        "Token 50 → [0.5, 0.6, 0.7, 0.8]  \n",
        "Token 60 → [0.6, 0.7, 0.8, 0.9]  \n",
        "\n"
      ],
      "metadata": {
        "id": "58Ds82zKv32C"
      }
    },
    {
      "cell_type": "code",
      "source": [
        "#Our embedding matrix E is now:\n",
        "E = [\n",
        "    [0.1, 0.2, 0.3, 0.4],  # token 10\n",
        "    [0.2, 0.3, 0.4, 0.5],  # token 20\n",
        "    [0.3, 0.4, 0.5, 0.6],  # token 30\n",
        "    [0.4, 0.5, 0.6, 0.7],  # token 40\n",
        "    [0.5, 0.6, 0.7, 0.8],  # token 50\n",
        "    [0.6, 0.7, 0.8, 0.9]   # token 60\n",
        "]"
      ],
      "metadata": {
        "id": "-VgAyIhgvkt0"
      },
      "execution_count": null,
      "outputs": []
    },
    {
      "cell_type": "code",
      "source": [
        "# converting E into torch tensor\n",
        "import torch\n",
        "E = torch.tensor(E)\n",
        "E.shape"
      ],
      "metadata": {
        "colab": {
          "base_uri": "https://localhost:8080/"
        },
        "id": "KTs75mkpw2tP",
        "outputId": "d1e3492f-1c57-42ae-f648-bfdf2d356225"
      },
      "execution_count": null,
      "outputs": [
        {
          "output_type": "execute_result",
          "data": {
            "text/plain": [
              "torch.Size([6, 4])"
            ]
          },
          "metadata": {},
          "execution_count": 3
        }
      ]
    },
    {
      "cell_type": "code",
      "source": [
        "# Now, for a single attention head, let's define some example weight matrices:\n",
        "W_q = torch.tensor([  # Query weights\n",
        "    [1.0, 0.5],\n",
        "    [0.6, 0.3],\n",
        "    [0.4, 0.2],\n",
        "    [0.8, 0.7]\n",
        "])\n",
        "\n",
        "W_k = torch.tensor([  # Key weights\n",
        "    [0.9, 0.2],\n",
        "    [0.5, 0.4],\n",
        "    [0.3, 0.8],\n",
        "    [0.1, 0.6]\n",
        "])\n",
        "\n",
        "W_v = torch.tensor([  # Value weights\n",
        "    [0.8, 0.3],\n",
        "    [0.2, 0.5],\n",
        "    [0.7, 0.4],\n",
        "    [0.1, 0.9]\n",
        "])\n"
      ],
      "metadata": {
        "id": "wTbhUd1Ovkm0"
      },
      "execution_count": null,
      "outputs": []
    },
    {
      "cell_type": "code",
      "source": [
        "W_q.shape, W_k.shape, W_v.shape"
      ],
      "metadata": {
        "colab": {
          "base_uri": "https://localhost:8080/"
        },
        "id": "MJwi2MRoxNvU",
        "outputId": "21470d05-bbd8-45e2-a536-c9275b900b59"
      },
      "execution_count": null,
      "outputs": [
        {
          "output_type": "execute_result",
          "data": {
            "text/plain": [
              "(torch.Size([4, 2]), torch.Size([4, 2]), torch.Size([4, 2]))"
            ]
          },
          "metadata": {},
          "execution_count": 5
        }
      ]
    },
    {
      "cell_type": "code",
      "source": [
        "# Step 1: Calculate Q, K, V matrices\n",
        "# For each token, compute Q, K, V vectors\n",
        "Q = E @ W_q  # Shape: [6, 2]\n",
        "K = E @ W_k  # Shape: [6, 2]\n",
        "V = E @ W_v  # Shape: [6, 2]"
      ],
      "metadata": {
        "id": "WE-E9zEpwsAK"
      },
      "execution_count": null,
      "outputs": []
    },
    {
      "cell_type": "code",
      "source": [
        "Q.shape, K.shape, V.shape"
      ],
      "metadata": {
        "colab": {
          "base_uri": "https://localhost:8080/"
        },
        "id": "sTJ65nU3xUIX",
        "outputId": "92a1f98a-b6ab-43a1-fc68-f69f47a66f93"
      },
      "execution_count": null,
      "outputs": [
        {
          "output_type": "execute_result",
          "data": {
            "text/plain": [
              "(torch.Size([6, 2]), torch.Size([6, 2]), torch.Size([6, 2]))"
            ]
          },
          "metadata": {},
          "execution_count": 8
        }
      ]
    },
    {
      "cell_type": "code",
      "source": [
        "# attention scores\n",
        "attention_scores = Q @ K.transpose(-1, -2)\n",
        "attention_scores = attention_scores / math.sqrt(2) # our d_k = 2\n"
      ],
      "metadata": {
        "id": "Pr2ycg8OxXFK"
      },
      "execution_count": null,
      "outputs": []
    },
    {
      "cell_type": "code",
      "source": [
        "attention_scores.shape"
      ],
      "metadata": {
        "colab": {
          "base_uri": "https://localhost:8080/"
        },
        "id": "a4aQT8v8vkjc",
        "outputId": "6f62fe25-49f5-401f-c5cb-9701bea7c6d6"
      },
      "execution_count": null,
      "outputs": [
        {
          "output_type": "execute_result",
          "data": {
            "text/plain": [
              "torch.Size([6, 6])"
            ]
          },
          "metadata": {},
          "execution_count": 13
        }
      ]
    },
    {
      "cell_type": "code",
      "source": [
        "attention_scores"
      ],
      "metadata": {
        "colab": {
          "base_uri": "https://localhost:8080/"
        },
        "id": "uSKgS0RSwtcM",
        "outputId": "f2257fc2-42dc-4a63-9813-a78302130807"
      },
      "execution_count": null,
      "outputs": [
        {
          "output_type": "execute_result",
          "data": {
            "text/plain": [
              "tensor([[0.3339, 0.4815, 0.6292, 0.7768, 0.9245, 1.0721],\n",
              "        [0.4670, 0.6743, 0.8816, 1.0889, 1.2963, 1.5036],\n",
              "        [0.6001, 0.8671, 1.1341, 1.4011, 1.6681, 1.9351],\n",
              "        [0.7331, 1.0598, 1.3865, 1.7132, 2.0399, 2.3665],\n",
              "        [0.8662, 1.2526, 1.6389, 2.0253, 2.4117, 2.7980],\n",
              "        [0.9993, 1.4453, 1.8914, 2.3374, 2.7835, 3.2295]])"
            ]
          },
          "metadata": {},
          "execution_count": 14
        }
      ]
    },
    {
      "cell_type": "code",
      "source": [
        "# Create causal mask (lower triangular matrix)\n",
        "mask = torch.tril(torch.ones(6, 6))\n",
        "mask"
      ],
      "metadata": {
        "colab": {
          "base_uri": "https://localhost:8080/"
        },
        "id": "RlpzmkIqwtVi",
        "outputId": "db9c8c61-59bc-4840-ec67-1c56659040ea"
      },
      "execution_count": null,
      "outputs": [
        {
          "output_type": "execute_result",
          "data": {
            "text/plain": [
              "tensor([[1., 0., 0., 0., 0., 0.],\n",
              "        [1., 1., 0., 0., 0., 0.],\n",
              "        [1., 1., 1., 0., 0., 0.],\n",
              "        [1., 1., 1., 1., 0., 0.],\n",
              "        [1., 1., 1., 1., 1., 0.],\n",
              "        [1., 1., 1., 1., 1., 1.]])"
            ]
          },
          "metadata": {},
          "execution_count": 15
        }
      ]
    },
    {
      "cell_type": "code",
      "source": [
        "# Apply mask (set upper triangular part to -infinity)\n",
        "masked_scores = attention_scores * mask + -1e9 * (1 - mask)\n",
        "masked_scores"
      ],
      "metadata": {
        "colab": {
          "base_uri": "https://localhost:8080/"
        },
        "id": "mLkj95A7yLvZ",
        "outputId": "6d6b08c0-5069-4ee3-9b80-6a738a618c06"
      },
      "execution_count": null,
      "outputs": [
        {
          "output_type": "execute_result",
          "data": {
            "text/plain": [
              "tensor([[ 3.3390e-01, -1.0000e+09, -1.0000e+09, -1.0000e+09, -1.0000e+09,\n",
              "         -1.0000e+09],\n",
              "        [ 4.6697e-01,  6.7430e-01, -1.0000e+09, -1.0000e+09, -1.0000e+09,\n",
              "         -1.0000e+09],\n",
              "        [ 6.0005e-01,  8.6705e-01,  1.1341e+00, -1.0000e+09, -1.0000e+09,\n",
              "         -1.0000e+09],\n",
              "        [ 7.3313e-01,  1.0598e+00,  1.3865e+00,  1.7132e+00, -1.0000e+09,\n",
              "         -1.0000e+09],\n",
              "        [ 8.6621e-01,  1.2526e+00,  1.6389e+00,  2.0253e+00,  2.4117e+00,\n",
              "         -1.0000e+09],\n",
              "        [ 9.9928e-01,  1.4453e+00,  1.8914e+00,  2.3374e+00,  2.7835e+00,\n",
              "          3.2295e+00]])"
            ]
          },
          "metadata": {},
          "execution_count": 16
        }
      ]
    },
    {
      "cell_type": "code",
      "source": [
        "# Apply softmax row-wise\n",
        "attention_weights = F.softmax(masked_scores, dim=1)  # Shape: [6, 6]\n",
        "attention_weights"
      ],
      "metadata": {
        "colab": {
          "base_uri": "https://localhost:8080/"
        },
        "id": "kOPddfPcyLss",
        "outputId": "7614f10e-c662-416b-ec03-19bf4b7f3ee1"
      },
      "execution_count": null,
      "outputs": [
        {
          "output_type": "execute_result",
          "data": {
            "text/plain": [
              "tensor([[1.0000, 0.0000, 0.0000, 0.0000, 0.0000, 0.0000],\n",
              "        [0.4484, 0.5516, 0.0000, 0.0000, 0.0000, 0.0000],\n",
              "        [0.2493, 0.3256, 0.4252, 0.0000, 0.0000, 0.0000],\n",
              "        [0.1434, 0.1988, 0.2756, 0.3821, 0.0000, 0.0000],\n",
              "        [0.0799, 0.1176, 0.1731, 0.2547, 0.3748, 0.0000],\n",
              "        [0.0415, 0.0649, 0.1014, 0.1584, 0.2474, 0.3864]])"
            ]
          },
          "metadata": {},
          "execution_count": 17
        }
      ]
    },
    {
      "cell_type": "code",
      "source": [
        "# Context vectors = attention_weights @ V\n",
        "context_vectors = attention_weights @ V  # Shape: [6, 2]"
      ],
      "metadata": {
        "id": "x6JLdw_FyLpy"
      },
      "execution_count": null,
      "outputs": []
    },
    {
      "cell_type": "code",
      "source": [
        "context_vectors.shape"
      ],
      "metadata": {
        "colab": {
          "base_uri": "https://localhost:8080/"
        },
        "id": "xDLzUdLiyLm-",
        "outputId": "b5fe34a8-81e9-4d4f-fd83-ee7b53aa12f4"
      },
      "execution_count": null,
      "outputs": [
        {
          "output_type": "execute_result",
          "data": {
            "text/plain": [
              "torch.Size([6, 2])"
            ]
          },
          "metadata": {},
          "execution_count": 48
        }
      ]
    },
    {
      "cell_type": "code",
      "source": [
        "kv_cache = {\n",
        "    'K': K,  # Shape: [6, 2]\n",
        "    'V': V   # Shape: [6, 2]\n",
        "}"
      ],
      "metadata": {
        "id": "CVCyWVtzy_in"
      },
      "execution_count": null,
      "outputs": []
    },
    {
      "cell_type": "code",
      "source": [
        "kv_cache"
      ],
      "metadata": {
        "colab": {
          "base_uri": "https://localhost:8080/"
        },
        "id": "N2UO8lqny_f6",
        "outputId": "a376e991-847e-4f3e-cbff-d40fcc738ae2"
      },
      "execution_count": null,
      "outputs": [
        {
          "output_type": "execute_result",
          "data": {
            "text/plain": [
              "{'K': tensor([[0.3200, 0.5800],\n",
              "         [0.5000, 0.7800],\n",
              "         [0.6800, 0.9800],\n",
              "         [0.8600, 1.1800],\n",
              "         [1.0400, 1.3800],\n",
              "         [1.2200, 1.5800]]),\n",
              " 'V': tensor([[0.3700, 0.6100],\n",
              "         [0.5500, 0.8200],\n",
              "         [0.7300, 1.0300],\n",
              "         [0.9100, 1.2400],\n",
              "         [1.0900, 1.4500],\n",
              "         [1.2700, 1.6600]])}"
            ]
          },
          "metadata": {},
          "execution_count": 20
        }
      ]
    },
    {
      "cell_type": "code",
      "source": [
        "#  Parallelizing the QKV Projections\n",
        "# Computing for token 10\n",
        "Q_0 = E[0] @ W_q\n",
        "K_0 = E[0] @ W_k\n",
        "V_0 = E[0] @ W_v\n",
        "\n",
        "# Computing for token 20\n",
        "Q_1 = E[1] @ W_q\n",
        "K_1= E[1] @ W_k\n",
        "V_1 = E[1] @ W_v\n",
        "\n",
        "# And so on..."
      ],
      "metadata": {
        "id": "-FNKYqsby_cv"
      },
      "execution_count": null,
      "outputs": []
    },
    {
      "cell_type": "code",
      "source": [
        "# For token 10\n",
        "are_equal = torch.allclose(Q_0, Q[0], atol=1e-3)\n",
        "print(are_equal) # they are the same\n",
        "\n",
        "are_equal = torch.allclose(K_0, K[0], atol=1e-3)\n",
        "print(are_equal) # they are the same\n",
        "\n",
        "are_equal = torch.allclose(V_0, V[0], atol=1e-3)\n",
        "print(are_equal) # they are the same\n",
        "\n",
        "\n",
        "# For token 20\n",
        "are_equal = torch.allclose(Q_1, Q[1], atol=1e-3)\n",
        "print(are_equal) # they are the same\n",
        "\n",
        "are_equal = torch.allclose(K_1, K[1], atol=1e-3)\n",
        "print(are_equal) # they are the same\n",
        "\n",
        "are_equal = torch.allclose(V_1, V[1], atol=1e-3)\n",
        "print(are_equal) # they are the same\n"
      ],
      "metadata": {
        "id": "-Q3n1vCe8dcZ",
        "outputId": "d084663f-abfb-4c7c-9cbb-ef91b5207edd",
        "colab": {
          "base_uri": "https://localhost:8080/"
        }
      },
      "execution_count": null,
      "outputs": [
        {
          "output_type": "stream",
          "name": "stdout",
          "text": [
            "True\n",
            "True\n",
            "True\n",
            "True\n",
            "True\n",
            "True\n"
          ]
        }
      ]
    },
    {
      "cell_type": "code",
      "source": [],
      "metadata": {
        "id": "WiVcRRpT8l4p"
      },
      "execution_count": null,
      "outputs": []
    },
    {
      "cell_type": "code",
      "source": [],
      "metadata": {
        "id": "Iv4oBlJAy_Z0"
      },
      "execution_count": null,
      "outputs": []
    },
    {
      "cell_type": "code",
      "source": [],
      "metadata": {
        "id": "NNl4RRJewtRp"
      },
      "execution_count": null,
      "outputs": []
    },
    {
      "cell_type": "code",
      "source": [
        "import torch\n",
        "import torch.nn.functional as F\n",
        "import math\n",
        "from transformers import GPT2Model, GPT2Config, GPT2Tokenizer"
      ],
      "metadata": {
        "id": "YfNkWjVSqVUr"
      },
      "execution_count": null,
      "outputs": []
    },
    {
      "cell_type": "code",
      "execution_count": null,
      "metadata": {
        "colab": {
          "base_uri": "https://localhost:8080/",
          "height": 750,
          "referenced_widgets": [
            "0ec988f4955c480fa377e1c2a5639994",
            "09a3641e4c5a4c6196cf6406f319bfd4",
            "90dc06c9af114edbad9a52cbb1d1d16a",
            "4e6dc438184a44d587696b569a9ae012",
            "f3f1097cbf0146cb8f4827eeb499c6a3",
            "50453bc663cf47748c933e911340d759",
            "9da1eec84b9c41ff8303b6eb0136f1bf",
            "ac86f61a006843058b8ffc6c01ae0f56",
            "54e9a3567fc94c85a34ec6a9b3c86fc4",
            "40094c8c64e947fbb657d10e01e4d96e",
            "a6a1b40bb1be46a0a40d0b30442dd9f9",
            "c7ba7f2f2fb8470ebda2168f4ef8e9b2",
            "caa12a8bab024f73a08cbc93095783ec",
            "c810e81efa0d434195864e2d2d323eff",
            "78723b2e167048679635f98d4d112134",
            "2d2e2218c76d4558aa2a3c873435f5af",
            "1da7a7307daf4bda88111032bbbede92",
            "1427306cf0204b3a91cf2a1d6d7446c0",
            "8669eb6d308b4380b887c4b49c73b751",
            "320a8285a25342f294ed71a0623c99bb",
            "16724c6bf6bf4d9492020298e87cb42d",
            "1f7ea2b49608404681368dc1dcb49d85",
            "5af98bd781e544da84d58d34e71c5839",
            "cf0f819ca9564ca18776d762c34d22b1",
            "81e221b153bf4b8fa1fc8a3fb2185ca6",
            "89758574f0844df6b176bc002ab432a0",
            "900fb524e926405eb40cdc8ad05d09ee",
            "1e978997d7ed48c289e22b32b80f1f4e",
            "6fa8dc755ae9482f89aa266adb098561",
            "1bcc66b26fb041da93f59703c41cd886",
            "7bdb32da4ca248da88f18568f03f62d6",
            "9f502babe3cc49baa8d3033f59350e8f",
            "40681916f85941a7ad66df16dc153aa5",
            "8741257b17d44ecb97840d51250bfab1",
            "8889b30f91ed409daf5833675e3a41de",
            "7f84267fa25147ac92c8361afd63bbb3",
            "993f115fbdf44e37aea5b96915dfce45",
            "a8b922f3a7f74b5b9de3d35eed6e140d",
            "05d0079c8f75449cae34106444703feb",
            "f519825a6cc649119ae91fabbe397a4c",
            "be89a37fec6c44179843bfe7a768cf1d",
            "5f92fdc46d434c0e8b67707fcb254ea3",
            "f190abb03fb943bfbf5fe9ac31fda7df",
            "5d8af42271dd4c0693c40a5055564717",
            "2e827b2ab0fc46748e52b1208065e2d0",
            "8b892e00ca5a41d0bae90b2cff9f4a13",
            "067d7bdbaa9a4ea5a12185b87f3e6cb0",
            "748bfc22b4c04554a38ca015d3c13455",
            "5ba5757a9fd24847bea21ae44741479d",
            "6789101a190c44f3ac1b57e8bf0bc1ae",
            "52d70ab3ac66477bb154dc0f3c9baf32",
            "d675c5a050024474b60c4264438d8079",
            "903e333e54604e528d449323f0ad7b73",
            "a1543c6747ae4f3789d348882231faf2",
            "a48a468d11af498e883df3d8ee8923c8",
            "76a932b6754b4b2fbaae3a731c30cd0a",
            "ae575db5889b4e48adce3e7ee862e1b9",
            "a382d8ac6007445ba6ce3340afafa2ed",
            "6f120a48d55f445280dec9db2db56fa7",
            "aa2b653e0cbc4df8b3699a761b7ded76",
            "feef60414e5d4dedb7ec3bf94d64fff5",
            "aac8cbf7bdd7439dac877be087d3d79f",
            "3d6b276ed46244a5b653e4772ba45c78",
            "f29ed1f702af4511a34631bcefbe341e",
            "6a196c47f49e4598957f25e0959e84b5",
            "146ced168ef54f2bbdcd5218abc9b392"
          ]
        },
        "id": "VpEHK_0EqSq2",
        "outputId": "46f64b65-4034-4cba-c2f1-6049ccb0f286"
      },
      "outputs": [
        {
          "output_type": "stream",
          "name": "stderr",
          "text": [
            "/usr/local/lib/python3.11/dist-packages/huggingface_hub/utils/_auth.py:94: UserWarning: \n",
            "The secret `HF_TOKEN` does not exist in your Colab secrets.\n",
            "To authenticate with the Hugging Face Hub, create a token in your settings tab (https://huggingface.co/settings/tokens), set it as secret in your Google Colab and restart your session.\n",
            "You will be able to reuse this secret in all of your notebooks.\n",
            "Please note that authentication is recommended but still optional to access public models or datasets.\n",
            "  warnings.warn(\n"
          ]
        },
        {
          "output_type": "display_data",
          "data": {
            "text/plain": [
              "tokenizer_config.json:   0%|          | 0.00/26.0 [00:00<?, ?B/s]"
            ],
            "application/vnd.jupyter.widget-view+json": {
              "version_major": 2,
              "version_minor": 0,
              "model_id": "0ec988f4955c480fa377e1c2a5639994"
            }
          },
          "metadata": {}
        },
        {
          "output_type": "display_data",
          "data": {
            "text/plain": [
              "vocab.json:   0%|          | 0.00/1.04M [00:00<?, ?B/s]"
            ],
            "application/vnd.jupyter.widget-view+json": {
              "version_major": 2,
              "version_minor": 0,
              "model_id": "c7ba7f2f2fb8470ebda2168f4ef8e9b2"
            }
          },
          "metadata": {}
        },
        {
          "output_type": "display_data",
          "data": {
            "text/plain": [
              "merges.txt:   0%|          | 0.00/456k [00:00<?, ?B/s]"
            ],
            "application/vnd.jupyter.widget-view+json": {
              "version_major": 2,
              "version_minor": 0,
              "model_id": "5af98bd781e544da84d58d34e71c5839"
            }
          },
          "metadata": {}
        },
        {
          "output_type": "display_data",
          "data": {
            "text/plain": [
              "tokenizer.json:   0%|          | 0.00/1.36M [00:00<?, ?B/s]"
            ],
            "application/vnd.jupyter.widget-view+json": {
              "version_major": 2,
              "version_minor": 0,
              "model_id": "8741257b17d44ecb97840d51250bfab1"
            }
          },
          "metadata": {}
        },
        {
          "output_type": "display_data",
          "data": {
            "text/plain": [
              "config.json:   0%|          | 0.00/665 [00:00<?, ?B/s]"
            ],
            "application/vnd.jupyter.widget-view+json": {
              "version_major": 2,
              "version_minor": 0,
              "model_id": "2e827b2ab0fc46748e52b1208065e2d0"
            }
          },
          "metadata": {}
        },
        {
          "output_type": "display_data",
          "data": {
            "text/plain": [
              "model.safetensors:   0%|          | 0.00/548M [00:00<?, ?B/s]"
            ],
            "application/vnd.jupyter.widget-view+json": {
              "version_major": 2,
              "version_minor": 0,
              "model_id": "76a932b6754b4b2fbaae3a731c30cd0a"
            }
          },
          "metadata": {}
        },
        {
          "output_type": "execute_result",
          "data": {
            "text/plain": [
              "GPT2Model(\n",
              "  (wte): Embedding(50257, 768)\n",
              "  (wpe): Embedding(1024, 768)\n",
              "  (drop): Dropout(p=0.1, inplace=False)\n",
              "  (h): ModuleList(\n",
              "    (0-11): 12 x GPT2Block(\n",
              "      (ln_1): LayerNorm((768,), eps=1e-05, elementwise_affine=True)\n",
              "      (attn): GPT2Attention(\n",
              "        (c_attn): Conv1D(nf=2304, nx=768)\n",
              "        (c_proj): Conv1D(nf=768, nx=768)\n",
              "        (attn_dropout): Dropout(p=0.1, inplace=False)\n",
              "        (resid_dropout): Dropout(p=0.1, inplace=False)\n",
              "      )\n",
              "      (ln_2): LayerNorm((768,), eps=1e-05, elementwise_affine=True)\n",
              "      (mlp): GPT2MLP(\n",
              "        (c_fc): Conv1D(nf=3072, nx=768)\n",
              "        (c_proj): Conv1D(nf=768, nx=3072)\n",
              "        (act): NewGELUActivation()\n",
              "        (dropout): Dropout(p=0.1, inplace=False)\n",
              "      )\n",
              "    )\n",
              "  )\n",
              "  (ln_f): LayerNorm((768,), eps=1e-05, elementwise_affine=True)\n",
              ")"
            ]
          },
          "metadata": {},
          "execution_count": 2
        }
      ],
      "source": [
        "# Load pre-trained GPT2 model\n",
        "tokenizer = GPT2Tokenizer.from_pretrained('gpt2')\n",
        "model = GPT2Model.from_pretrained('gpt2')\n",
        "model.eval()  # S"
      ]
    },
    {
      "cell_type": "code",
      "source": [
        "# Sample input\n",
        "text = \"Hello, this is a test of the prefill phase.\"\n",
        "input_ids = tokenizer.encode(text, return_tensors='pt')\n"
      ],
      "metadata": {
        "id": "3cc3UCJWqock"
      },
      "execution_count": null,
      "outputs": []
    },
    {
      "cell_type": "code",
      "source": [
        "input_ids.shape"
      ],
      "metadata": {
        "colab": {
          "base_uri": "https://localhost:8080/"
        },
        "id": "wQUVTK16qyfs",
        "outputId": "8901568c-b033-432c-f1b0-35e0c9bc2b84"
      },
      "execution_count": null,
      "outputs": [
        {
          "output_type": "execute_result",
          "data": {
            "text/plain": [
              "torch.Size([1, 12])"
            ]
          },
          "metadata": {},
          "execution_count": 4
        }
      ]
    },
    {
      "cell_type": "code",
      "source": [
        "# Extract single layer params (let's use the first layer)\n",
        "layer_idx = 0\n",
        "layer = model.h[layer_idx]"
      ],
      "metadata": {
        "id": "dVbN8Y7fq2cs"
      },
      "execution_count": null,
      "outputs": []
    },
    {
      "cell_type": "code",
      "source": [
        "\n",
        "layer"
      ],
      "metadata": {
        "colab": {
          "base_uri": "https://localhost:8080/"
        },
        "id": "DRCnsbrYq8mD",
        "outputId": "e6bc521c-2da8-4453-d517-3af928814a0a"
      },
      "execution_count": null,
      "outputs": [
        {
          "output_type": "execute_result",
          "data": {
            "text/plain": [
              "GPT2Block(\n",
              "  (ln_1): LayerNorm((768,), eps=1e-05, elementwise_affine=True)\n",
              "  (attn): GPT2Attention(\n",
              "    (c_attn): Conv1D(nf=2304, nx=768)\n",
              "    (c_proj): Conv1D(nf=768, nx=768)\n",
              "    (attn_dropout): Dropout(p=0.1, inplace=False)\n",
              "    (resid_dropout): Dropout(p=0.1, inplace=False)\n",
              "  )\n",
              "  (ln_2): LayerNorm((768,), eps=1e-05, elementwise_affine=True)\n",
              "  (mlp): GPT2MLP(\n",
              "    (c_fc): Conv1D(nf=3072, nx=768)\n",
              "    (c_proj): Conv1D(nf=768, nx=3072)\n",
              "    (act): NewGELUActivation()\n",
              "    (dropout): Dropout(p=0.1, inplace=False)\n",
              "  )\n",
              ")"
            ]
          },
          "metadata": {},
          "execution_count": 6
        }
      ]
    },
    {
      "cell_type": "code",
      "source": [
        "# Configuration\n",
        "config = model.config\n"
      ],
      "metadata": {
        "id": "WeZrqPPsrCz0"
      },
      "execution_count": null,
      "outputs": []
    },
    {
      "cell_type": "code",
      "source": [
        "# Get token embeddings and position embeddings\n",
        "with torch.no_grad():\n",
        "    # Get initial embeddings (token embeddings + position embeddings)\n",
        "    token_embeddings = model.wte(input_ids)\n",
        "    position_ids = torch.arange(0, input_ids.shape[1], dtype=torch.long).unsqueeze(0)\n",
        "    position_embeddings = model.wpe(position_ids)\n",
        "    hidden_states = token_embeddings + position_embeddings"
      ],
      "metadata": {
        "id": "29GAMGmArKQU"
      },
      "execution_count": null,
      "outputs": []
    },
    {
      "cell_type": "code",
      "source": [
        "\n",
        "hidden_states.shape"
      ],
      "metadata": {
        "colab": {
          "base_uri": "https://localhost:8080/"
        },
        "id": "yN2vR-GVrcdz",
        "outputId": "c1e382e1-9eb1-4b8d-97e4-87ca451299cc"
      },
      "execution_count": null,
      "outputs": [
        {
          "output_type": "execute_result",
          "data": {
            "text/plain": [
              "torch.Size([1, 12, 768])"
            ]
          },
          "metadata": {},
          "execution_count": 11
        }
      ]
    },
    {
      "cell_type": "code",
      "source": [
        "# GPT2 uses causal attention mask\n",
        "batch_size, seq_length = hidden_states.size()[:2]\n",
        "causal_mask = torch.tril(torch.ones((seq_length, seq_length))).view(\n",
        "    1, 1, seq_length, seq_length\n",
        ")\n",
        "\n",
        "# batch_size, seq_length, causal_mask"
      ],
      "metadata": {
        "colab": {
          "base_uri": "https://localhost:8080/"
        },
        "id": "K0q1hPNFr5zc",
        "outputId": "92e2e058-fef9-463e-a02a-771f12cf6b87"
      },
      "execution_count": null,
      "outputs": [
        {
          "output_type": "execute_result",
          "data": {
            "text/plain": [
              "(1, 12)"
            ]
          },
          "metadata": {},
          "execution_count": 12
        }
      ]
    },
    {
      "cell_type": "code",
      "source": [
        "# Layer norm before attention\n",
        "ln_1_out = layer.ln_1(hidden_states)\n",
        "ln_1_out.shape"
      ],
      "metadata": {
        "colab": {
          "base_uri": "https://localhost:8080/"
        },
        "id": "6C7dZ0AUsTnx",
        "outputId": "75b518a8-83bd-4e92-efa0-35b4ecac2c69"
      },
      "execution_count": null,
      "outputs": [
        {
          "output_type": "execute_result",
          "data": {
            "text/plain": [
              "torch.Size([1, 12, 768])"
            ]
          },
          "metadata": {},
          "execution_count": 14
        }
      ]
    },
    {
      "cell_type": "code",
      "source": [
        "# Multi-head attention\n",
        "query = layer.attn.c_attn(ln_1_out)\n",
        "query.shape"
      ],
      "metadata": {
        "colab": {
          "base_uri": "https://localhost:8080/"
        },
        "id": "EpfihzHBsoAS",
        "outputId": "787427a6-cad1-45ef-cce6-e4347a63648a"
      },
      "execution_count": null,
      "outputs": [
        {
          "output_type": "execute_result",
          "data": {
            "text/plain": [
              "torch.Size([1, 12, 2304])"
            ]
          },
          "metadata": {},
          "execution_count": 16
        }
      ]
    },
    {
      "cell_type": "code",
      "source": [
        "# Split into query, key, value\n",
        "query, key, value = query.split(config.hidden_size, dim=2)\n",
        "query.shape, key.shape, value.shape"
      ],
      "metadata": {
        "colab": {
          "base_uri": "https://localhost:8080/"
        },
        "id": "r1ZHjGd5tIdQ",
        "outputId": "32dde4ce-bef2-45f2-cb61-84c452fa0422"
      },
      "execution_count": null,
      "outputs": [
        {
          "output_type": "execute_result",
          "data": {
            "text/plain": [
              "(torch.Size([1, 12, 768]), torch.Size([1, 12, 768]), torch.Size([1, 12, 768]))"
            ]
          },
          "metadata": {},
          "execution_count": 17
        }
      ]
    },
    {
      "cell_type": "code",
      "source": [
        "# Reshape for multi-head attention\n",
        "query = query.view(batch_size, seq_length, config.n_head, config.hidden_size // config.n_head).transpose(1, 2)\n",
        "key = key.view(batch_size, seq_length, config.n_head, config.hidden_size // config.n_head).transpose(1, 2)\n",
        "value = value.view(batch_size, seq_length, config.n_head, config.hidden_size // config.n_head).transpose(1, 2)\n",
        "query.shape, key.shape, value.shape"
      ],
      "metadata": {
        "colab": {
          "base_uri": "https://localhost:8080/"
        },
        "id": "ky9tShwMtSxC",
        "outputId": "0b3a96c9-0c90-4ae2-c948-51640a329ba7"
      },
      "execution_count": null,
      "outputs": [
        {
          "output_type": "execute_result",
          "data": {
            "text/plain": [
              "(torch.Size([1, 12, 12, 64]),\n",
              " torch.Size([1, 12, 12, 64]),\n",
              " torch.Size([1, 12, 12, 64]))"
            ]
          },
          "metadata": {},
          "execution_count": 18
        }
      ]
    },
    {
      "cell_type": "code",
      "source": [
        "# Compute attention scores\n",
        "attn_weights = torch.matmul(query, key.transpose(-1, -2))\n",
        "attn_weights = attn_weights / math.sqrt(config.hidden_size // config.n_head)\n",
        "attn_weights.shape"
      ],
      "metadata": {
        "colab": {
          "base_uri": "https://localhost:8080/"
        },
        "id": "R263ep2Ptrw6",
        "outputId": "5243c544-83c8-46c1-d98f-7fdbc1014386"
      },
      "execution_count": null,
      "outputs": [
        {
          "output_type": "execute_result",
          "data": {
            "text/plain": [
              "torch.Size([1, 12, 12, 12])"
            ]
          },
          "metadata": {},
          "execution_count": 19
        }
      ]
    },
    {
      "cell_type": "code",
      "source": [
        "# Apply causal mask\n",
        "attn_weights = attn_weights.masked_fill(causal_mask == 0, float('-inf'))\n",
        "\n",
        "# Softmax and dropout\n",
        "attn_weights = F.softmax(attn_weights, dim=-1)\n",
        "attn_weights = F.dropout(attn_weights, p=config.attn_pdrop, training=False)\n",
        "attn_weights.shape"
      ],
      "metadata": {
        "colab": {
          "base_uri": "https://localhost:8080/"
        },
        "id": "oArhCP3At_dC",
        "outputId": "ab45b5af-a176-49dd-c214-4e66462de690"
      },
      "execution_count": null,
      "outputs": [
        {
          "output_type": "execute_result",
          "data": {
            "text/plain": [
              "torch.Size([1, 12, 12, 12])"
            ]
          },
          "metadata": {},
          "execution_count": 20
        }
      ]
    },
    {
      "cell_type": "code",
      "source": [
        "# Apply attention to values\n",
        "attn_output = torch.matmul(attn_weights, value)\n",
        "\n",
        "# Reshape and project\n",
        "attn_output = attn_output.transpose(1, 2).contiguous().view(batch_size, seq_length, config.hidden_size)\n",
        "attn_output = layer.attn.c_proj(attn_output)\n",
        "attn_output.shape"
      ],
      "metadata": {
        "colab": {
          "base_uri": "https://localhost:8080/"
        },
        "id": "nx9fSym4uZpi",
        "outputId": "8862f2ef-bc08-49d5-c21e-6ca5dc804e27"
      },
      "execution_count": null,
      "outputs": [
        {
          "output_type": "execute_result",
          "data": {
            "text/plain": [
              "torch.Size([1, 12, 768])"
            ]
          },
          "metadata": {},
          "execution_count": 21
        }
      ]
    },
    {
      "cell_type": "code",
      "source": [
        "# Add residual connection\n",
        "hidden_states = hidden_states + attn_output\n",
        "\n",
        "# Layer norm before MLP\n",
        "ln_2_out = layer.ln_2(hidden_states)\n",
        "\n",
        "# MLP\n",
        "mlp_output = layer.mlp.c_fc(ln_2_out)\n",
        "mlp_output = F.gelu(mlp_output)\n",
        "mlp_output = layer.mlp.c_proj(mlp_output)\n",
        "\n",
        "# Add residual connection\n",
        "hidden_states = hidden_states + mlp_output"
      ],
      "metadata": {
        "id": "aDUPxIoRukGP"
      },
      "execution_count": null,
      "outputs": []
    },
    {
      "cell_type": "code",
      "source": [
        "\n",
        "hidden_states.shape"
      ],
      "metadata": {
        "colab": {
          "base_uri": "https://localhost:8080/"
        },
        "id": "vRWChPrdupvk",
        "outputId": "e1adeda3-4c31-4b8f-920a-c57542291ba8"
      },
      "execution_count": null,
      "outputs": [
        {
          "output_type": "execute_result",
          "data": {
            "text/plain": [
              "torch.Size([1, 12, 768])"
            ]
          },
          "metadata": {},
          "execution_count": 23
        }
      ]
    },
    {
      "cell_type": "code",
      "source": [
        "# Compare with original output\n",
        "with torch.no_grad():\n",
        "    # Extract the output from the same layer in the original model\n",
        "    original_layer_output = model(input_ids, output_hidden_states=True).hidden_states[layer_idx + 1]"
      ],
      "metadata": {
        "id": "VFZf6yAkuy6T"
      },
      "execution_count": null,
      "outputs": []
    },
    {
      "cell_type": "code",
      "source": [
        "original_layer_output.shape"
      ],
      "metadata": {
        "colab": {
          "base_uri": "https://localhost:8080/"
        },
        "id": "ar1XzsaQvC4B",
        "outputId": "450d08c1-c3f2-48f8-a159-1c728e04a1d5"
      },
      "execution_count": null,
      "outputs": [
        {
          "output_type": "execute_result",
          "data": {
            "text/plain": [
              "torch.Size([1, 12, 768])"
            ]
          },
          "metadata": {},
          "execution_count": 25
        }
      ]
    },
    {
      "cell_type": "code",
      "source": [
        "# Check if outputs match\n",
        "diff = (hidden_states - original_layer_output).abs().max().item()\n",
        "print(f\"Maximum difference between custom and original: {diff}\")\n",
        "\n",
        "if diff < 1e-5:\n",
        "    print(\"✓ Implementation matches the original model!\")\n",
        "else:\n",
        "    print(\"✗ Implementation does not match the original model.\")"
      ],
      "metadata": {
        "colab": {
          "base_uri": "https://localhost:8080/"
        },
        "id": "ZQAde0TovFeM",
        "outputId": "6391e0f9-8a36-4b85-ccbf-5c7d7fb1fc45"
      },
      "execution_count": null,
      "outputs": [
        {
          "output_type": "stream",
          "name": "stdout",
          "text": [
            "Maximum difference between custom and original: 0.0105743408203125\n",
            "✗ Implementation does not match the original model.\n"
          ]
        }
      ]
    }
  ]
}
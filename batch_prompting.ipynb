{
  "nbformat": 4,
  "nbformat_minor": 0,
  "metadata": {
    "colab": {
      "provenance": [],
      "authorship_tag": "ABX9TyMPpql/Fizcv4ZXJcVE9OBL",
      "include_colab_link": true
    },
    "kernelspec": {
      "name": "python3",
      "display_name": "Python 3"
    },
    "language_info": {
      "name": "python"
    },
    "widgets": {
      "application/vnd.jupyter.widget-state+json": {
        "bd3f6c1bbe764020b57d5748c48528e4": {
          "model_module": "@jupyter-widgets/controls",
          "model_name": "HBoxModel",
          "model_module_version": "1.5.0",
          "state": {
            "_dom_classes": [],
            "_model_module": "@jupyter-widgets/controls",
            "_model_module_version": "1.5.0",
            "_model_name": "HBoxModel",
            "_view_count": null,
            "_view_module": "@jupyter-widgets/controls",
            "_view_module_version": "1.5.0",
            "_view_name": "HBoxView",
            "box_style": "",
            "children": [
              "IPY_MODEL_f5ab6dc944ac4138a4ade1d56fc760ba",
              "IPY_MODEL_8f45454e65b34e4eb74003bb2ec076f0",
              "IPY_MODEL_adbe3b8638e24f54bfdacd860a3bceaf"
            ],
            "layout": "IPY_MODEL_4e04ca4783374e31bc93b9e47519de54"
          }
        },
        "f5ab6dc944ac4138a4ade1d56fc760ba": {
          "model_module": "@jupyter-widgets/controls",
          "model_name": "HTMLModel",
          "model_module_version": "1.5.0",
          "state": {
            "_dom_classes": [],
            "_model_module": "@jupyter-widgets/controls",
            "_model_module_version": "1.5.0",
            "_model_name": "HTMLModel",
            "_view_count": null,
            "_view_module": "@jupyter-widgets/controls",
            "_view_module_version": "1.5.0",
            "_view_name": "HTMLView",
            "description": "",
            "description_tooltip": null,
            "layout": "IPY_MODEL_46dd3d85d8d04b7f8814050b7e98ffee",
            "placeholder": "​",
            "style": "IPY_MODEL_ce97ac3362f343668e50d256df43075a",
            "value": "model.safetensors: 100%"
          }
        },
        "8f45454e65b34e4eb74003bb2ec076f0": {
          "model_module": "@jupyter-widgets/controls",
          "model_name": "FloatProgressModel",
          "model_module_version": "1.5.0",
          "state": {
            "_dom_classes": [],
            "_model_module": "@jupyter-widgets/controls",
            "_model_module_version": "1.5.0",
            "_model_name": "FloatProgressModel",
            "_view_count": null,
            "_view_module": "@jupyter-widgets/controls",
            "_view_module_version": "1.5.0",
            "_view_name": "ProgressView",
            "bar_style": "success",
            "description": "",
            "description_tooltip": null,
            "layout": "IPY_MODEL_6f73d22c5a674097ac9f5b074ee417e5",
            "max": 548105171,
            "min": 0,
            "orientation": "horizontal",
            "style": "IPY_MODEL_f2c6baf2b6614bf2a0b32e83e4fb946a",
            "value": 548105171
          }
        },
        "adbe3b8638e24f54bfdacd860a3bceaf": {
          "model_module": "@jupyter-widgets/controls",
          "model_name": "HTMLModel",
          "model_module_version": "1.5.0",
          "state": {
            "_dom_classes": [],
            "_model_module": "@jupyter-widgets/controls",
            "_model_module_version": "1.5.0",
            "_model_name": "HTMLModel",
            "_view_count": null,
            "_view_module": "@jupyter-widgets/controls",
            "_view_module_version": "1.5.0",
            "_view_name": "HTMLView",
            "description": "",
            "description_tooltip": null,
            "layout": "IPY_MODEL_a488a1002b324774a34d8855d73d1f1a",
            "placeholder": "​",
            "style": "IPY_MODEL_fda7e01a3d184ef18af9ca449741531d",
            "value": " 548M/548M [00:07&lt;00:00, 80.0MB/s]"
          }
        },
        "4e04ca4783374e31bc93b9e47519de54": {
          "model_module": "@jupyter-widgets/base",
          "model_name": "LayoutModel",
          "model_module_version": "1.2.0",
          "state": {
            "_model_module": "@jupyter-widgets/base",
            "_model_module_version": "1.2.0",
            "_model_name": "LayoutModel",
            "_view_count": null,
            "_view_module": "@jupyter-widgets/base",
            "_view_module_version": "1.2.0",
            "_view_name": "LayoutView",
            "align_content": null,
            "align_items": null,
            "align_self": null,
            "border": null,
            "bottom": null,
            "display": null,
            "flex": null,
            "flex_flow": null,
            "grid_area": null,
            "grid_auto_columns": null,
            "grid_auto_flow": null,
            "grid_auto_rows": null,
            "grid_column": null,
            "grid_gap": null,
            "grid_row": null,
            "grid_template_areas": null,
            "grid_template_columns": null,
            "grid_template_rows": null,
            "height": null,
            "justify_content": null,
            "justify_items": null,
            "left": null,
            "margin": null,
            "max_height": null,
            "max_width": null,
            "min_height": null,
            "min_width": null,
            "object_fit": null,
            "object_position": null,
            "order": null,
            "overflow": null,
            "overflow_x": null,
            "overflow_y": null,
            "padding": null,
            "right": null,
            "top": null,
            "visibility": null,
            "width": null
          }
        },
        "46dd3d85d8d04b7f8814050b7e98ffee": {
          "model_module": "@jupyter-widgets/base",
          "model_name": "LayoutModel",
          "model_module_version": "1.2.0",
          "state": {
            "_model_module": "@jupyter-widgets/base",
            "_model_module_version": "1.2.0",
            "_model_name": "LayoutModel",
            "_view_count": null,
            "_view_module": "@jupyter-widgets/base",
            "_view_module_version": "1.2.0",
            "_view_name": "LayoutView",
            "align_content": null,
            "align_items": null,
            "align_self": null,
            "border": null,
            "bottom": null,
            "display": null,
            "flex": null,
            "flex_flow": null,
            "grid_area": null,
            "grid_auto_columns": null,
            "grid_auto_flow": null,
            "grid_auto_rows": null,
            "grid_column": null,
            "grid_gap": null,
            "grid_row": null,
            "grid_template_areas": null,
            "grid_template_columns": null,
            "grid_template_rows": null,
            "height": null,
            "justify_content": null,
            "justify_items": null,
            "left": null,
            "margin": null,
            "max_height": null,
            "max_width": null,
            "min_height": null,
            "min_width": null,
            "object_fit": null,
            "object_position": null,
            "order": null,
            "overflow": null,
            "overflow_x": null,
            "overflow_y": null,
            "padding": null,
            "right": null,
            "top": null,
            "visibility": null,
            "width": null
          }
        },
        "ce97ac3362f343668e50d256df43075a": {
          "model_module": "@jupyter-widgets/controls",
          "model_name": "DescriptionStyleModel",
          "model_module_version": "1.5.0",
          "state": {
            "_model_module": "@jupyter-widgets/controls",
            "_model_module_version": "1.5.0",
            "_model_name": "DescriptionStyleModel",
            "_view_count": null,
            "_view_module": "@jupyter-widgets/base",
            "_view_module_version": "1.2.0",
            "_view_name": "StyleView",
            "description_width": ""
          }
        },
        "6f73d22c5a674097ac9f5b074ee417e5": {
          "model_module": "@jupyter-widgets/base",
          "model_name": "LayoutModel",
          "model_module_version": "1.2.0",
          "state": {
            "_model_module": "@jupyter-widgets/base",
            "_model_module_version": "1.2.0",
            "_model_name": "LayoutModel",
            "_view_count": null,
            "_view_module": "@jupyter-widgets/base",
            "_view_module_version": "1.2.0",
            "_view_name": "LayoutView",
            "align_content": null,
            "align_items": null,
            "align_self": null,
            "border": null,
            "bottom": null,
            "display": null,
            "flex": null,
            "flex_flow": null,
            "grid_area": null,
            "grid_auto_columns": null,
            "grid_auto_flow": null,
            "grid_auto_rows": null,
            "grid_column": null,
            "grid_gap": null,
            "grid_row": null,
            "grid_template_areas": null,
            "grid_template_columns": null,
            "grid_template_rows": null,
            "height": null,
            "justify_content": null,
            "justify_items": null,
            "left": null,
            "margin": null,
            "max_height": null,
            "max_width": null,
            "min_height": null,
            "min_width": null,
            "object_fit": null,
            "object_position": null,
            "order": null,
            "overflow": null,
            "overflow_x": null,
            "overflow_y": null,
            "padding": null,
            "right": null,
            "top": null,
            "visibility": null,
            "width": null
          }
        },
        "f2c6baf2b6614bf2a0b32e83e4fb946a": {
          "model_module": "@jupyter-widgets/controls",
          "model_name": "ProgressStyleModel",
          "model_module_version": "1.5.0",
          "state": {
            "_model_module": "@jupyter-widgets/controls",
            "_model_module_version": "1.5.0",
            "_model_name": "ProgressStyleModel",
            "_view_count": null,
            "_view_module": "@jupyter-widgets/base",
            "_view_module_version": "1.2.0",
            "_view_name": "StyleView",
            "bar_color": null,
            "description_width": ""
          }
        },
        "a488a1002b324774a34d8855d73d1f1a": {
          "model_module": "@jupyter-widgets/base",
          "model_name": "LayoutModel",
          "model_module_version": "1.2.0",
          "state": {
            "_model_module": "@jupyter-widgets/base",
            "_model_module_version": "1.2.0",
            "_model_name": "LayoutModel",
            "_view_count": null,
            "_view_module": "@jupyter-widgets/base",
            "_view_module_version": "1.2.0",
            "_view_name": "LayoutView",
            "align_content": null,
            "align_items": null,
            "align_self": null,
            "border": null,
            "bottom": null,
            "display": null,
            "flex": null,
            "flex_flow": null,
            "grid_area": null,
            "grid_auto_columns": null,
            "grid_auto_flow": null,
            "grid_auto_rows": null,
            "grid_column": null,
            "grid_gap": null,
            "grid_row": null,
            "grid_template_areas": null,
            "grid_template_columns": null,
            "grid_template_rows": null,
            "height": null,
            "justify_content": null,
            "justify_items": null,
            "left": null,
            "margin": null,
            "max_height": null,
            "max_width": null,
            "min_height": null,
            "min_width": null,
            "object_fit": null,
            "object_position": null,
            "order": null,
            "overflow": null,
            "overflow_x": null,
            "overflow_y": null,
            "padding": null,
            "right": null,
            "top": null,
            "visibility": null,
            "width": null
          }
        },
        "fda7e01a3d184ef18af9ca449741531d": {
          "model_module": "@jupyter-widgets/controls",
          "model_name": "DescriptionStyleModel",
          "model_module_version": "1.5.0",
          "state": {
            "_model_module": "@jupyter-widgets/controls",
            "_model_module_version": "1.5.0",
            "_model_name": "DescriptionStyleModel",
            "_view_count": null,
            "_view_module": "@jupyter-widgets/base",
            "_view_module_version": "1.2.0",
            "_view_name": "StyleView",
            "description_width": ""
          }
        },
        "579980aee2924b6f9229babd8c682e19": {
          "model_module": "@jupyter-widgets/controls",
          "model_name": "HBoxModel",
          "model_module_version": "1.5.0",
          "state": {
            "_dom_classes": [],
            "_model_module": "@jupyter-widgets/controls",
            "_model_module_version": "1.5.0",
            "_model_name": "HBoxModel",
            "_view_count": null,
            "_view_module": "@jupyter-widgets/controls",
            "_view_module_version": "1.5.0",
            "_view_name": "HBoxView",
            "box_style": "",
            "children": [
              "IPY_MODEL_ae1ebe78c59245c9bbf796fce2ab4165",
              "IPY_MODEL_1c9ba8067aed4518959e8bcdef5e278d",
              "IPY_MODEL_5889e42628024efba7e1f36b8e019382"
            ],
            "layout": "IPY_MODEL_136e676edc8b42c69aede6f41941d09d"
          }
        },
        "ae1ebe78c59245c9bbf796fce2ab4165": {
          "model_module": "@jupyter-widgets/controls",
          "model_name": "HTMLModel",
          "model_module_version": "1.5.0",
          "state": {
            "_dom_classes": [],
            "_model_module": "@jupyter-widgets/controls",
            "_model_module_version": "1.5.0",
            "_model_name": "HTMLModel",
            "_view_count": null,
            "_view_module": "@jupyter-widgets/controls",
            "_view_module_version": "1.5.0",
            "_view_name": "HTMLView",
            "description": "",
            "description_tooltip": null,
            "layout": "IPY_MODEL_e0c01f49c1214595b08d0a84f3707aed",
            "placeholder": "​",
            "style": "IPY_MODEL_240af0de13784df780dda3739644b7ae",
            "value": "generation_config.json: 100%"
          }
        },
        "1c9ba8067aed4518959e8bcdef5e278d": {
          "model_module": "@jupyter-widgets/controls",
          "model_name": "FloatProgressModel",
          "model_module_version": "1.5.0",
          "state": {
            "_dom_classes": [],
            "_model_module": "@jupyter-widgets/controls",
            "_model_module_version": "1.5.0",
            "_model_name": "FloatProgressModel",
            "_view_count": null,
            "_view_module": "@jupyter-widgets/controls",
            "_view_module_version": "1.5.0",
            "_view_name": "ProgressView",
            "bar_style": "success",
            "description": "",
            "description_tooltip": null,
            "layout": "IPY_MODEL_700539587d884377b7f080a55111daa1",
            "max": 124,
            "min": 0,
            "orientation": "horizontal",
            "style": "IPY_MODEL_3b818790ffbf463ba73f8e92f83ffc01",
            "value": 124
          }
        },
        "5889e42628024efba7e1f36b8e019382": {
          "model_module": "@jupyter-widgets/controls",
          "model_name": "HTMLModel",
          "model_module_version": "1.5.0",
          "state": {
            "_dom_classes": [],
            "_model_module": "@jupyter-widgets/controls",
            "_model_module_version": "1.5.0",
            "_model_name": "HTMLModel",
            "_view_count": null,
            "_view_module": "@jupyter-widgets/controls",
            "_view_module_version": "1.5.0",
            "_view_name": "HTMLView",
            "description": "",
            "description_tooltip": null,
            "layout": "IPY_MODEL_b9eb3f36ecf54dd48fd690587210319d",
            "placeholder": "​",
            "style": "IPY_MODEL_60eca16b5b1049ea9fa4183712e1f964",
            "value": " 124/124 [00:00&lt;00:00, 6.71kB/s]"
          }
        },
        "136e676edc8b42c69aede6f41941d09d": {
          "model_module": "@jupyter-widgets/base",
          "model_name": "LayoutModel",
          "model_module_version": "1.2.0",
          "state": {
            "_model_module": "@jupyter-widgets/base",
            "_model_module_version": "1.2.0",
            "_model_name": "LayoutModel",
            "_view_count": null,
            "_view_module": "@jupyter-widgets/base",
            "_view_module_version": "1.2.0",
            "_view_name": "LayoutView",
            "align_content": null,
            "align_items": null,
            "align_self": null,
            "border": null,
            "bottom": null,
            "display": null,
            "flex": null,
            "flex_flow": null,
            "grid_area": null,
            "grid_auto_columns": null,
            "grid_auto_flow": null,
            "grid_auto_rows": null,
            "grid_column": null,
            "grid_gap": null,
            "grid_row": null,
            "grid_template_areas": null,
            "grid_template_columns": null,
            "grid_template_rows": null,
            "height": null,
            "justify_content": null,
            "justify_items": null,
            "left": null,
            "margin": null,
            "max_height": null,
            "max_width": null,
            "min_height": null,
            "min_width": null,
            "object_fit": null,
            "object_position": null,
            "order": null,
            "overflow": null,
            "overflow_x": null,
            "overflow_y": null,
            "padding": null,
            "right": null,
            "top": null,
            "visibility": null,
            "width": null
          }
        },
        "e0c01f49c1214595b08d0a84f3707aed": {
          "model_module": "@jupyter-widgets/base",
          "model_name": "LayoutModel",
          "model_module_version": "1.2.0",
          "state": {
            "_model_module": "@jupyter-widgets/base",
            "_model_module_version": "1.2.0",
            "_model_name": "LayoutModel",
            "_view_count": null,
            "_view_module": "@jupyter-widgets/base",
            "_view_module_version": "1.2.0",
            "_view_name": "LayoutView",
            "align_content": null,
            "align_items": null,
            "align_self": null,
            "border": null,
            "bottom": null,
            "display": null,
            "flex": null,
            "flex_flow": null,
            "grid_area": null,
            "grid_auto_columns": null,
            "grid_auto_flow": null,
            "grid_auto_rows": null,
            "grid_column": null,
            "grid_gap": null,
            "grid_row": null,
            "grid_template_areas": null,
            "grid_template_columns": null,
            "grid_template_rows": null,
            "height": null,
            "justify_content": null,
            "justify_items": null,
            "left": null,
            "margin": null,
            "max_height": null,
            "max_width": null,
            "min_height": null,
            "min_width": null,
            "object_fit": null,
            "object_position": null,
            "order": null,
            "overflow": null,
            "overflow_x": null,
            "overflow_y": null,
            "padding": null,
            "right": null,
            "top": null,
            "visibility": null,
            "width": null
          }
        },
        "240af0de13784df780dda3739644b7ae": {
          "model_module": "@jupyter-widgets/controls",
          "model_name": "DescriptionStyleModel",
          "model_module_version": "1.5.0",
          "state": {
            "_model_module": "@jupyter-widgets/controls",
            "_model_module_version": "1.5.0",
            "_model_name": "DescriptionStyleModel",
            "_view_count": null,
            "_view_module": "@jupyter-widgets/base",
            "_view_module_version": "1.2.0",
            "_view_name": "StyleView",
            "description_width": ""
          }
        },
        "700539587d884377b7f080a55111daa1": {
          "model_module": "@jupyter-widgets/base",
          "model_name": "LayoutModel",
          "model_module_version": "1.2.0",
          "state": {
            "_model_module": "@jupyter-widgets/base",
            "_model_module_version": "1.2.0",
            "_model_name": "LayoutModel",
            "_view_count": null,
            "_view_module": "@jupyter-widgets/base",
            "_view_module_version": "1.2.0",
            "_view_name": "LayoutView",
            "align_content": null,
            "align_items": null,
            "align_self": null,
            "border": null,
            "bottom": null,
            "display": null,
            "flex": null,
            "flex_flow": null,
            "grid_area": null,
            "grid_auto_columns": null,
            "grid_auto_flow": null,
            "grid_auto_rows": null,
            "grid_column": null,
            "grid_gap": null,
            "grid_row": null,
            "grid_template_areas": null,
            "grid_template_columns": null,
            "grid_template_rows": null,
            "height": null,
            "justify_content": null,
            "justify_items": null,
            "left": null,
            "margin": null,
            "max_height": null,
            "max_width": null,
            "min_height": null,
            "min_width": null,
            "object_fit": null,
            "object_position": null,
            "order": null,
            "overflow": null,
            "overflow_x": null,
            "overflow_y": null,
            "padding": null,
            "right": null,
            "top": null,
            "visibility": null,
            "width": null
          }
        },
        "3b818790ffbf463ba73f8e92f83ffc01": {
          "model_module": "@jupyter-widgets/controls",
          "model_name": "ProgressStyleModel",
          "model_module_version": "1.5.0",
          "state": {
            "_model_module": "@jupyter-widgets/controls",
            "_model_module_version": "1.5.0",
            "_model_name": "ProgressStyleModel",
            "_view_count": null,
            "_view_module": "@jupyter-widgets/base",
            "_view_module_version": "1.2.0",
            "_view_name": "StyleView",
            "bar_color": null,
            "description_width": ""
          }
        },
        "b9eb3f36ecf54dd48fd690587210319d": {
          "model_module": "@jupyter-widgets/base",
          "model_name": "LayoutModel",
          "model_module_version": "1.2.0",
          "state": {
            "_model_module": "@jupyter-widgets/base",
            "_model_module_version": "1.2.0",
            "_model_name": "LayoutModel",
            "_view_count": null,
            "_view_module": "@jupyter-widgets/base",
            "_view_module_version": "1.2.0",
            "_view_name": "LayoutView",
            "align_content": null,
            "align_items": null,
            "align_self": null,
            "border": null,
            "bottom": null,
            "display": null,
            "flex": null,
            "flex_flow": null,
            "grid_area": null,
            "grid_auto_columns": null,
            "grid_auto_flow": null,
            "grid_auto_rows": null,
            "grid_column": null,
            "grid_gap": null,
            "grid_row": null,
            "grid_template_areas": null,
            "grid_template_columns": null,
            "grid_template_rows": null,
            "height": null,
            "justify_content": null,
            "justify_items": null,
            "left": null,
            "margin": null,
            "max_height": null,
            "max_width": null,
            "min_height": null,
            "min_width": null,
            "object_fit": null,
            "object_position": null,
            "order": null,
            "overflow": null,
            "overflow_x": null,
            "overflow_y": null,
            "padding": null,
            "right": null,
            "top": null,
            "visibility": null,
            "width": null
          }
        },
        "60eca16b5b1049ea9fa4183712e1f964": {
          "model_module": "@jupyter-widgets/controls",
          "model_name": "DescriptionStyleModel",
          "model_module_version": "1.5.0",
          "state": {
            "_model_module": "@jupyter-widgets/controls",
            "_model_module_version": "1.5.0",
            "_model_name": "DescriptionStyleModel",
            "_view_count": null,
            "_view_module": "@jupyter-widgets/base",
            "_view_module_version": "1.2.0",
            "_view_name": "StyleView",
            "description_width": ""
          }
        }
      }
    }
  },
  "cells": [
    {
      "cell_type": "markdown",
      "metadata": {
        "id": "view-in-github",
        "colab_type": "text"
      },
      "source": [
        "<a href=\"https://colab.research.google.com/github/addamit/LMExperiments/blob/main/batch_prompting.ipynb\" target=\"_parent\"><img src=\"https://colab.research.google.com/assets/colab-badge.svg\" alt=\"Open In Colab\"/></a>"
      ]
    },
    {
      "cell_type": "code",
      "execution_count": 1,
      "metadata": {
        "id": "H33AlIfImnZl"
      },
      "outputs": [],
      "source": [
        "import torch\n",
        "from transformers import AutoModelForCausalLM, AutoTokenizer"
      ]
    },
    {
      "cell_type": "code",
      "source": [
        "\n",
        "tokenizer = AutoTokenizer.from_pretrained(\"gpt2\")\n"
      ],
      "metadata": {
        "id": "R3OcKCDinevR"
      },
      "execution_count": 12,
      "outputs": []
    },
    {
      "cell_type": "markdown",
      "source": [],
      "metadata": {
        "id": "Dz4eJGfnpp4K"
      }
    },
    {
      "cell_type": "code",
      "source": [
        "tokenizer.pad_token  = tokenizer.eos_token\n",
        "\n",
        "# why we explicitly added the pad token ?\n",
        "\"\"\"\n",
        "Below line is added before calling tokenizer to encode. It sets the padding token of the tokenizer to the end-of-sequence token (eos_token). This is a common practice when a tokenizer doesn't have a dedicated padding token. By doing this, the tokenizer will use the eos_token\n",
        "\"\"\""
      ],
      "metadata": {
        "colab": {
          "base_uri": "https://localhost:8080/",
          "height": 87
        },
        "id": "Jhk9sA33pnDl",
        "outputId": "7c3a3fd7-4807-487c-8662-eab3ec7a4211"
      },
      "execution_count": 14,
      "outputs": [
        {
          "output_type": "execute_result",
          "data": {
            "text/plain": [
              "\"\\nBelow line is added before calling tokenizer to encode. It sets the padding token of the tokenizer to the end-of-sequence token (eos_token). This is a common practice when a tokenizer doesn't have a dedicated padding token. By doing this, the tokenizer will use the eos_token\\n\""
            ],
            "application/vnd.google.colaboratory.intrinsic+json": {
              "type": "string"
            }
          },
          "metadata": {},
          "execution_count": 14
        }
      ]
    },
    {
      "cell_type": "code",
      "source": [
        "# tokenize a batch of inputs\n",
        "prompts = [\n",
        "    \"Morning coffee is\",\n",
        "    \"Short walks and runs are good\"\n",
        "]\n",
        "inputs = tokenizer(prompts, return_tensors=\"pt\", padding=True)\n",
        "print(inputs)"
      ],
      "metadata": {
        "colab": {
          "base_uri": "https://localhost:8080/"
        },
        "id": "rbvRSadsn9-V",
        "outputId": "79cc0405-325c-411e-d045-339990dd2437"
      },
      "execution_count": 16,
      "outputs": [
        {
          "output_type": "stream",
          "name": "stdout",
          "text": [
            "{'input_ids': tensor([[42997,  6891,   318, 50256, 50256, 50256],\n",
            "        [16438, 11114,   290,  4539,   389,   922]]), 'attention_mask': tensor([[1, 1, 1, 0, 0, 0],\n",
            "        [1, 1, 1, 1, 1, 1]])}\n"
          ]
        }
      ]
    },
    {
      "cell_type": "code",
      "source": [
        "\n",
        "inputs['input_ids'].shape, inputs['attention_mask'].shape"
      ],
      "metadata": {
        "colab": {
          "base_uri": "https://localhost:8080/"
        },
        "id": "tw2ehkChqN6B",
        "outputId": "4133015d-074f-4a81-b2a6-78b29e908f2e"
      },
      "execution_count": 19,
      "outputs": [
        {
          "output_type": "execute_result",
          "data": {
            "text/plain": [
              "(torch.Size([2, 6]), torch.Size([2, 6]))"
            ]
          },
          "metadata": {},
          "execution_count": 19
        }
      ]
    },
    {
      "cell_type": "code",
      "source": [
        "\n",
        "inputs['input_ids'], inputs['attention_mask']"
      ],
      "metadata": {
        "colab": {
          "base_uri": "https://localhost:8080/"
        },
        "id": "HKlZp3mkrmH7",
        "outputId": "6f6ca427-dda8-41a5-c05f-ce611817180f"
      },
      "execution_count": 21,
      "outputs": [
        {
          "output_type": "execute_result",
          "data": {
            "text/plain": [
              "(tensor([[42997,  6891,   318, 50256, 50256, 50256],\n",
              "         [16438, 11114,   290,  4539,   389,   922]]),\n",
              " tensor([[1, 1, 1, 0, 0, 0],\n",
              "         [1, 1, 1, 1, 1, 1]]))"
            ]
          },
          "metadata": {},
          "execution_count": 21
        }
      ]
    },
    {
      "cell_type": "code",
      "source": [
        "\n",
        "model = AutoModelForCausalLM.from_pretrained(\"gpt2\")"
      ],
      "metadata": {
        "colab": {
          "base_uri": "https://localhost:8080/",
          "height": 136,
          "referenced_widgets": [
            "bd3f6c1bbe764020b57d5748c48528e4",
            "f5ab6dc944ac4138a4ade1d56fc760ba",
            "8f45454e65b34e4eb74003bb2ec076f0",
            "adbe3b8638e24f54bfdacd860a3bceaf",
            "4e04ca4783374e31bc93b9e47519de54",
            "46dd3d85d8d04b7f8814050b7e98ffee",
            "ce97ac3362f343668e50d256df43075a",
            "6f73d22c5a674097ac9f5b074ee417e5",
            "f2c6baf2b6614bf2a0b32e83e4fb946a",
            "a488a1002b324774a34d8855d73d1f1a",
            "fda7e01a3d184ef18af9ca449741531d",
            "579980aee2924b6f9229babd8c682e19",
            "ae1ebe78c59245c9bbf796fce2ab4165",
            "1c9ba8067aed4518959e8bcdef5e278d",
            "5889e42628024efba7e1f36b8e019382",
            "136e676edc8b42c69aede6f41941d09d",
            "e0c01f49c1214595b08d0a84f3707aed",
            "240af0de13784df780dda3739644b7ae",
            "700539587d884377b7f080a55111daa1",
            "3b818790ffbf463ba73f8e92f83ffc01",
            "b9eb3f36ecf54dd48fd690587210319d",
            "60eca16b5b1049ea9fa4183712e1f964"
          ]
        },
        "id": "ocM4IvKttZnW",
        "outputId": "c59736de-3875-4b2c-95f1-633fa57b834d"
      },
      "execution_count": 22,
      "outputs": [
        {
          "output_type": "stream",
          "name": "stderr",
          "text": [
            "Xet Storage is enabled for this repo, but the 'hf_xet' package is not installed. Falling back to regular HTTP download. For better performance, install the package with: `pip install huggingface_hub[hf_xet]` or `pip install hf_xet`\n",
            "WARNING:huggingface_hub.file_download:Xet Storage is enabled for this repo, but the 'hf_xet' package is not installed. Falling back to regular HTTP download. For better performance, install the package with: `pip install huggingface_hub[hf_xet]` or `pip install hf_xet`\n"
          ]
        },
        {
          "output_type": "display_data",
          "data": {
            "text/plain": [
              "model.safetensors:   0%|          | 0.00/548M [00:00<?, ?B/s]"
            ],
            "application/vnd.jupyter.widget-view+json": {
              "version_major": 2,
              "version_minor": 0,
              "model_id": "bd3f6c1bbe764020b57d5748c48528e4"
            }
          },
          "metadata": {}
        },
        {
          "output_type": "display_data",
          "data": {
            "text/plain": [
              "generation_config.json:   0%|          | 0.00/124 [00:00<?, ?B/s]"
            ],
            "application/vnd.jupyter.widget-view+json": {
              "version_major": 2,
              "version_minor": 0,
              "model_id": "579980aee2924b6f9229babd8c682e19"
            }
          },
          "metadata": {}
        }
      ]
    },
    {
      "cell_type": "code",
      "source": [
        "model.eval()\n",
        "outputs = model.generate(input_ids = inputs['input_ids'],\n",
        "               attention_mask = inputs['attention_mask'],\n",
        "               max_new_tokens = 10)"
      ],
      "metadata": {
        "colab": {
          "base_uri": "https://localhost:8080/"
        },
        "id": "1YQnd1hIuAMi",
        "outputId": "0e885454-ae21-4ca4-b112-3526e83c1e44"
      },
      "execution_count": 25,
      "outputs": [
        {
          "output_type": "stream",
          "name": "stderr",
          "text": [
            "Setting `pad_token_id` to `eos_token_id`:50256 for open-end generation.\n",
            "A decoder-only architecture is being used, but right-padding was detected! For correct generation results, please set `padding_side='left'` when initializing the tokenizer.\n"
          ]
        }
      ]
    },
    {
      "cell_type": "code",
      "source": [
        "\n",
        "outputs.shape"
      ],
      "metadata": {
        "colab": {
          "base_uri": "https://localhost:8080/"
        },
        "id": "MvYgnA4Vugo7",
        "outputId": "3c31719c-4f3d-4008-9a7c-d4ced97a6267"
      },
      "execution_count": 27,
      "outputs": [
        {
          "output_type": "execute_result",
          "data": {
            "text/plain": [
              "torch.Size([2, 16])"
            ]
          },
          "metadata": {},
          "execution_count": 27
        }
      ]
    },
    {
      "cell_type": "code",
      "source": [
        "text1 = tokenizer.decode(outputs[0], skip_special_tokens=True)\n",
        "text2 = tokenizer.decode(outputs[1], skip_special_tokens=True)\n",
        "print(f\"Sentence 1: {text1}\")\n",
        "print(f\"Sentence 2: {text2}\")"
      ],
      "metadata": {
        "colab": {
          "base_uri": "https://localhost:8080/"
        },
        "id": "CxXjQV3rula8",
        "outputId": "06923427-1566-4bbb-a5ec-c21079fd4f13"
      },
      "execution_count": 32,
      "outputs": [
        {
          "output_type": "stream",
          "name": "stdout",
          "text": [
            "Sentence 1: Morning coffee is\n",
            "\n",
            "a good way to get your coffee\n",
            "\n",
            "Sentence 2: Short walks and runs are good for a lot of people, but they're not\n"
          ]
        }
      ]
    },
    {
      "cell_type": "code",
      "source": [
        "tokenizer.batch_decode(outputs, skip_special_tokens=False)"
      ],
      "metadata": {
        "colab": {
          "base_uri": "https://localhost:8080/"
        },
        "id": "8Jl57UfIvLRI",
        "outputId": "7ef20859-4eb7-41c4-95c3-2c2e63f2f6d5"
      },
      "execution_count": 38,
      "outputs": [
        {
          "output_type": "execute_result",
          "data": {
            "text/plain": [
              "['Morning coffee is<|endoftext|><|endoftext|><|endoftext|>\\n\\na good way to get your coffee\\n',\n",
              " \"Short walks and runs are good for a lot of people, but they're not\"]"
            ]
          },
          "metadata": {},
          "execution_count": 38
        }
      ]
    },
    {
      "cell_type": "code",
      "source": [
        "\n",
        "tokenizer.batch_decode(outputs, skip_special_tokens=True)"
      ],
      "metadata": {
        "colab": {
          "base_uri": "https://localhost:8080/"
        },
        "id": "E3cIw3wSvpmV",
        "outputId": "dd42ae09-597a-432b-cdad-9f7fe5af4113"
      },
      "execution_count": 39,
      "outputs": [
        {
          "output_type": "execute_result",
          "data": {
            "text/plain": [
              "['Morning coffee is\\n\\na good way to get your coffee\\n',\n",
              " \"Short walks and runs are good for a lot of people, but they're not\"]"
            ]
          },
          "metadata": {},
          "execution_count": 39
        }
      ]
    },
    {
      "cell_type": "code",
      "source": [],
      "metadata": {
        "id": "IOw9y1kk7BIm"
      },
      "execution_count": 59,
      "outputs": []
    },
    {
      "cell_type": "code",
      "source": [
        "past_key_values = None\n",
        "max_new_tokens = 10\n",
        "batch_size = inputs['input_ids'].shape[0]\n",
        "\n",
        "generated_sequences = inputs['input_ids'].clone()\n",
        "\n",
        "for step in range(max_new_tokens):\n",
        "  if past_key_values is None:\n",
        "    outputs = model(input_ids = inputs['input_ids'],\n",
        "               attention_mask = inputs['attention_mask'],\n",
        "                    use_cache=True)\n",
        "\n",
        "    logits = outputs.logits\n",
        "    past_key_values = outputs.past_key_values\n",
        "    next_tokens = torch.argmax(logits[:, -1, :], dim=-1, keepdim=True)\n",
        "    print(f\"Shape Starting next tokens {next_tokens.shape}\")\n",
        "\n",
        "    current_attention_mask = inputs['attention_mask']\n",
        "\n",
        "  else:\n",
        "    current_attention_mask = torch.cat([current_attention_mask,\n",
        "                                        torch.ones(batch_size, 1, dtype=current_attention_mask.dtype)\n",
        "                                       ],\n",
        "                                       dim=-1)\n",
        "    outputs = model(input_ids = next_tokens,\n",
        "               attention_mask = current_attention_mask,\n",
        "               past_key_values = past_key_values,\n",
        "                    use_cache=True)\n",
        "\n",
        "    logits = outputs.logits\n",
        "    past_key_values = outputs.past_key_values\n",
        "    next_tokens = torch.argmax(logits[:, -1, :], dim=-1, keepdim=True)\n",
        "\n",
        "    # lets find out if there is any next token in the batch that is eos token\n",
        "    if torch.any(next_tokens.squeeze(-1) == tokenizer.eos_token_id):\n",
        "      print(\"Reached end of sentence\")\n",
        "      break\n",
        "\n",
        "  generated_sequences = torch.cat([generated_sequences, next_tokens], dim=-1)\n",
        "  print(tokenizer.batch_decode(generated_sequences, skip_special_tokens=True))\n",
        "\n",
        "\n"
      ],
      "metadata": {
        "colab": {
          "base_uri": "https://localhost:8080/"
        },
        "id": "uPHL2ATgwKEx",
        "outputId": "24b0c7e6-9bf3-41ce-b5d6-38a4537bf2f1"
      },
      "execution_count": 69,
      "outputs": [
        {
          "output_type": "stream",
          "name": "stdout",
          "text": [
            "Shape Starting next tokens torch.Size([2, 1])\n",
            "['Morning coffee isThe', 'Short walks and runs are good for']\n",
            "['Morning coffee isThe best', 'Short walks and runs are good for a']\n",
            "['Morning coffee isThe best way', 'Short walks and runs are good for a lot']\n",
            "['Morning coffee isThe best way to', 'Short walks and runs are good for a lot of']\n",
            "['Morning coffee isThe best way to get', 'Short walks and runs are good for a lot of people']\n",
            "['Morning coffee isThe best way to get your', 'Short walks and runs are good for a lot of people,']\n",
            "['Morning coffee isThe best way to get your coffee', 'Short walks and runs are good for a lot of people, but']\n",
            "['Morning coffee isThe best way to get your coffee.', 'Short walks and runs are good for a lot of people, but they']\n",
            "['Morning coffee isThe best way to get your coffee. It', \"Short walks and runs are good for a lot of people, but they're\"]\n",
            "[\"Morning coffee isThe best way to get your coffee. It's\", \"Short walks and runs are good for a lot of people, but they're not\"]\n"
          ]
        }
      ]
    },
    {
      "cell_type": "markdown",
      "source": [
        "```\n",
        "Initial attention mask:\n",
        "\n",
        "For causal LMs, typically has shape [batch_size, sequence_length]\n",
        "Contains 1s for actual tokens and 0s for padding tokens\n",
        "\n",
        "\n",
        "Extending attention masks:\n",
        "\n",
        "For each new generated token, extending the attention mask by adding a column of 1s\n",
        "This allows the new token to attend to all previous non-padding tokens\n",
        "\n",
        "\n",
        "```"
      ],
      "metadata": {
        "id": "8hZcr0mmGZ46"
      }
    },
    {
      "cell_type": "code",
      "source": [
        "print(inputs['input_ids'].shape)\n",
        "print(inputs['attention_mask'].shape)\n",
        "print(outputs.keys())\n",
        "print(outputs['logits'].shape)\n",
        "print(len(outputs['past_key_values']))\n"
      ],
      "metadata": {
        "colab": {
          "base_uri": "https://localhost:8080/"
        },
        "id": "oqlSR9EOxjLF",
        "outputId": "b255e521-3f8b-41fa-9f2c-14e6ce0c333f"
      },
      "execution_count": 54,
      "outputs": [
        {
          "output_type": "stream",
          "name": "stdout",
          "text": [
            "torch.Size([2, 6])\n",
            "torch.Size([2, 6])\n",
            "odict_keys(['logits', 'past_key_values'])\n",
            "torch.Size([2, 6, 50257])\n",
            "12\n"
          ]
        }
      ]
    },
    {
      "cell_type": "code",
      "source": [
        "next_token_id = torch.argmax(outputs['logits'][:, -1, :], dim=-1, keepdim=True)\n",
        "print(next_token_id.shape)\n",
        "tokenizer.batch_decode(next_token_id, skip_special_tokens=False)"
      ],
      "metadata": {
        "colab": {
          "base_uri": "https://localhost:8080/"
        },
        "id": "s8luviPfyjSj",
        "outputId": "d4fe6b25-7bcd-4d6f-c2b6-474ec4113337"
      },
      "execution_count": 57,
      "outputs": [
        {
          "output_type": "stream",
          "name": "stdout",
          "text": [
            "torch.Size([2, 1])\n"
          ]
        },
        {
          "output_type": "execute_result",
          "data": {
            "text/plain": [
              "['The', ' for']"
            ]
          },
          "metadata": {},
          "execution_count": 57
        }
      ]
    },
    {
      "cell_type": "code",
      "source": [
        "\n",
        "prompt = \"Morning coffee is\"\n",
        "input_ids = tokenizer.encode(prompt, return_tensors=\"pt\")\n",
        "input_ids.shape\n"
      ],
      "metadata": {
        "colab": {
          "base_uri": "https://localhost:8080/"
        },
        "id": "MEVfD3bKEj_9",
        "outputId": "d5f99702-fe2c-4e9e-e266-a8745783fb00"
      },
      "execution_count": 73,
      "outputs": [
        {
          "output_type": "execute_result",
          "data": {
            "text/plain": [
              "torch.Size([1, 3])"
            ]
          },
          "metadata": {},
          "execution_count": 73
        }
      ]
    },
    {
      "cell_type": "code",
      "source": [
        "custom_attention_mask = torch.tensor([[1, 0, 0]], dtype=int)\n",
        "\n",
        "outputs = model.generate(input_ids = input_ids, attention_mask = custom_attention_mask, max_new_tokens=10)\n",
        "\n",
        "tokenizer.decode(outputs[0], skip_special_token=True)\n"
      ],
      "metadata": {
        "colab": {
          "base_uri": "https://localhost:8080/",
          "height": 52
        },
        "id": "tEYXL6N2EmXS",
        "outputId": "2abdb894-88ba-4b14-b306-c6379430b79d"
      },
      "execution_count": 79,
      "outputs": [
        {
          "output_type": "stream",
          "name": "stderr",
          "text": [
            "Setting `pad_token_id` to `eos_token_id`:50256 for open-end generation.\n"
          ]
        },
        {
          "output_type": "execute_result",
          "data": {
            "text/plain": [
              "'Morning coffee is the next day, I was in the middle of'"
            ],
            "application/vnd.google.colaboratory.intrinsic+json": {
              "type": "string"
            }
          },
          "metadata": {},
          "execution_count": 79
        }
      ]
    },
    {
      "cell_type": "code",
      "source": [
        "custom_attention_mask = torch.tensor([[1, 1, 1]], dtype=int)\n",
        "\n",
        "outputs = model.generate(input_ids = input_ids, attention_mask = custom_attention_mask, max_new_tokens=10)\n",
        "\n",
        "tokenizer.decode(outputs[0], skip_special_token=True)\n"
      ],
      "metadata": {
        "colab": {
          "base_uri": "https://localhost:8080/",
          "height": 52
        },
        "id": "gNW1cPuAFQTp",
        "outputId": "d2028ec7-6d13-431b-b393-d3a8f34f1c88"
      },
      "execution_count": 81,
      "outputs": [
        {
          "output_type": "stream",
          "name": "stderr",
          "text": [
            "Setting `pad_token_id` to `eos_token_id`:50256 for open-end generation.\n"
          ]
        },
        {
          "output_type": "execute_result",
          "data": {
            "text/plain": [
              "\"Morning coffee is a great way to get a good night's sleep\""
            ],
            "application/vnd.google.colaboratory.intrinsic+json": {
              "type": "string"
            }
          },
          "metadata": {},
          "execution_count": 81
        }
      ]
    }
  ]
}